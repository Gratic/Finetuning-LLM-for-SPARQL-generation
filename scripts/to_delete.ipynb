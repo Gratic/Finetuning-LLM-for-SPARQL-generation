{
 "cells": [
  {
   "cell_type": "code",
   "execution_count": 23,
   "metadata": {},
   "outputs": [],
   "source": [
    "import pandas as pd\n",
    "from IPython.display import display\n",
    "import ipywidgets as widgets"
   ]
  },
  {
   "cell_type": "code",
   "execution_count": 25,
   "metadata": {},
   "outputs": [
    {
     "data": {
      "text/html": [
       "<div>\n",
       "<style scoped>\n",
       "    .dataframe tbody tr th:only-of-type {\n",
       "        vertical-align: middle;\n",
       "    }\n",
       "\n",
       "    .dataframe tbody tr th {\n",
       "        vertical-align: top;\n",
       "    }\n",
       "\n",
       "    .dataframe thead th {\n",
       "        text-align: right;\n",
       "    }\n",
       "</style>\n",
       "<table border=\"1\" class=\"dataframe\">\n",
       "  <thead>\n",
       "    <tr style=\"text-align: right;\">\n",
       "      <th></th>\n",
       "      <th>query</th>\n",
       "      <th>description</th>\n",
       "      <th>context</th>\n",
       "      <th>prompt</th>\n",
       "      <th>num_tokens</th>\n",
       "      <th>result</th>\n",
       "      <th>full_answer</th>\n",
       "      <th>is_skipped</th>\n",
       "      <th>is_prompt_too_long</th>\n",
       "    </tr>\n",
       "  </thead>\n",
       "  <tbody>\n",
       "    <tr>\n",
       "      <th>0</th>\n",
       "      <td>SELECT ?property ?propertyType ?propertyLabel ...</td>\n",
       "      <td>Wikidata properties in numerical order</td>\n",
       "      <td>Counting stuff on Wikidata\\nAll Wikidata prope...</td>\n",
       "      <td>&lt;s&gt;[INST] QUERY=\"SELECT ?property ?propertyTyp...</td>\n",
       "      <td>228</td>\n",
       "      <td>[\"Can you retrieve all the numerical propertie...</td>\n",
       "      <td>{'content': ' 1. \"Can you retrieve all the num...</td>\n",
       "      <td>False</td>\n",
       "      <td>False</td>\n",
       "    </tr>\n",
       "    <tr>\n",
       "      <th>1</th>\n",
       "      <td>SELECT ?id ?idLabel ?idDescription ?new{\\n?id ...</td>\n",
       "      <td>Wikidata properties excluding external IDs</td>\n",
       "      <td>Counting stuff on Wikidata\\nVariation of the a...</td>\n",
       "      <td>&lt;s&gt;[INST] QUERY=\"SELECT ?id ?idLabel ?idDescri...</td>\n",
       "      <td>261</td>\n",
       "      <td>[\"Can you write a SparQL query to retrieve all...</td>\n",
       "      <td>{'content': ' 1. \"Can you write a SparQL query...</td>\n",
       "      <td>False</td>\n",
       "      <td>False</td>\n",
       "    </tr>\n",
       "    <tr>\n",
       "      <th>2</th>\n",
       "      <td>SELECT (COUNT(?article) AS ?count)\\nWHERE {\\n?...</td>\n",
       "      <td></td>\n",
       "      <td>Counting stuff on Wikidata\\nCount of scientifi...</td>\n",
       "      <td>&lt;s&gt;[INST] QUERY=\"SELECT (COUNT(?article) AS ?c...</td>\n",
       "      <td>161</td>\n",
       "      <td>[\"Can you retrieve the number of scientific ar...</td>\n",
       "      <td>{'content': ' 1. \"Can you retrieve the number ...</td>\n",
       "      <td>False</td>\n",
       "      <td>False</td>\n",
       "    </tr>\n",
       "    <tr>\n",
       "      <th>3</th>\n",
       "      <td>SELECT (COUNT(DISTINCT ?article) AS ?count)\\nW...</td>\n",
       "      <td>Count of fictional characters</td>\n",
       "      <td>Counting stuff on Wikidata\\nCount of fictional...</td>\n",
       "      <td>&lt;s&gt;[INST] QUERY=\"SELECT (COUNT(DISTINCT ?artic...</td>\n",
       "      <td>167</td>\n",
       "      <td>[\"Can you write a SparQL query to count the nu...</td>\n",
       "      <td>{'content': ' 1. \"Can you write a SparQL query...</td>\n",
       "      <td>False</td>\n",
       "      <td>False</td>\n",
       "    </tr>\n",
       "    <tr>\n",
       "      <th>4</th>\n",
       "      <td>SELECT (COUNT(?item) AS ?count)\\nWHERE { ?item...</td>\n",
       "      <td>Count of items with coordinate locations</td>\n",
       "      <td>Counting stuff on Wikidata\\nCount of items wit...</td>\n",
       "      <td>&lt;s&gt;[INST] QUERY=\"SELECT (COUNT(?item) AS ?coun...</td>\n",
       "      <td>150</td>\n",
       "      <td>[\"Can you write a SparQL query to count the nu...</td>\n",
       "      <td>{'content': ' 1. \"Can you write a SparQL query...</td>\n",
       "      <td>False</td>\n",
       "      <td>False</td>\n",
       "    </tr>\n",
       "  </tbody>\n",
       "</table>\n",
       "</div>"
      ],
      "text/plain": [
       "                                               query  \\\n",
       "0  SELECT ?property ?propertyType ?propertyLabel ...   \n",
       "1  SELECT ?id ?idLabel ?idDescription ?new{\\n?id ...   \n",
       "2  SELECT (COUNT(?article) AS ?count)\\nWHERE {\\n?...   \n",
       "3  SELECT (COUNT(DISTINCT ?article) AS ?count)\\nW...   \n",
       "4  SELECT (COUNT(?item) AS ?count)\\nWHERE { ?item...   \n",
       "\n",
       "                                  description  \\\n",
       "0      Wikidata properties in numerical order   \n",
       "1  Wikidata properties excluding external IDs   \n",
       "2                                               \n",
       "3               Count of fictional characters   \n",
       "4    Count of items with coordinate locations   \n",
       "\n",
       "                                             context  \\\n",
       "0  Counting stuff on Wikidata\\nAll Wikidata prope...   \n",
       "1  Counting stuff on Wikidata\\nVariation of the a...   \n",
       "2  Counting stuff on Wikidata\\nCount of scientifi...   \n",
       "3  Counting stuff on Wikidata\\nCount of fictional...   \n",
       "4  Counting stuff on Wikidata\\nCount of items wit...   \n",
       "\n",
       "                                              prompt  num_tokens  \\\n",
       "0  <s>[INST] QUERY=\"SELECT ?property ?propertyTyp...         228   \n",
       "1  <s>[INST] QUERY=\"SELECT ?id ?idLabel ?idDescri...         261   \n",
       "2  <s>[INST] QUERY=\"SELECT (COUNT(?article) AS ?c...         161   \n",
       "3  <s>[INST] QUERY=\"SELECT (COUNT(DISTINCT ?artic...         167   \n",
       "4  <s>[INST] QUERY=\"SELECT (COUNT(?item) AS ?coun...         150   \n",
       "\n",
       "                                              result  \\\n",
       "0  [\"Can you retrieve all the numerical propertie...   \n",
       "1  [\"Can you write a SparQL query to retrieve all...   \n",
       "2  [\"Can you retrieve the number of scientific ar...   \n",
       "3  [\"Can you write a SparQL query to count the nu...   \n",
       "4  [\"Can you write a SparQL query to count the nu...   \n",
       "\n",
       "                                         full_answer  is_skipped  \\\n",
       "0  {'content': ' 1. \"Can you retrieve all the num...       False   \n",
       "1  {'content': ' 1. \"Can you write a SparQL query...       False   \n",
       "2  {'content': ' 1. \"Can you retrieve the number ...       False   \n",
       "3  {'content': ' 1. \"Can you write a SparQL query...       False   \n",
       "4  {'content': ' 1. \"Can you write a SparQL query...       False   \n",
       "\n",
       "   is_prompt_too_long  \n",
       "0               False  \n",
       "1               False  \n",
       "2               False  \n",
       "3               False  \n",
       "4               False  "
      ]
     },
     "execution_count": 25,
     "metadata": {},
     "output_type": "execute_result"
    }
   ],
   "source": [
    "df = pd.read_json(\"../datasets/generated_prompts/NLQ_complete_Mistral_Instruct_7B_Q5_K_M_T0.2.json\")\n",
    "df.head()"
   ]
  },
  {
   "cell_type": "code",
   "execution_count": 26,
   "metadata": {},
   "outputs": [
    {
     "name": "stdout",
     "output_type": "stream",
     "text": [
      "SELECT ?property ?propertyType ?propertyLabel ?propertyDescription WHERE {\n",
      "?property wikibase:propertyType ?propertyType .\n",
      "SERVICE wikibase:label { bd:serviceParam wikibase:language \"[AUTO_LANGUAGE],en\". }\n",
      "} ORDER BY ASC(xsd:integer(STRAFTER(STR(?property), 'P')))\n"
     ]
    }
   ],
   "source": [
    "print(df['query'].iloc[0])"
   ]
  },
  {
   "cell_type": "code",
   "execution_count": 28,
   "metadata": {},
   "outputs": [
    {
     "name": "stdout",
     "output_type": "stream",
     "text": [
      "\"Can you retrieve all the numerical properties on Wikidata, sorted in ascending order?\"\n",
      "\"I need to find all the properties with labels and descriptions on Wikidata, ordered numerically.\"\n",
      "\"How can I extract all the properties that have a label and description on Wikidata, and arrange them in numerical order?\"\n"
     ]
    }
   ],
   "source": [
    "print(\"\\n\".join(df['result'].iloc[0]))"
   ]
  }
 ],
 "metadata": {
  "kernelspec": {
   "display_name": "Python 3",
   "language": "python",
   "name": "python3"
  },
  "language_info": {
   "codemirror_mode": {
    "name": "ipython",
    "version": 3
   },
   "file_extension": ".py",
   "mimetype": "text/x-python",
   "name": "python",
   "nbconvert_exporter": "python",
   "pygments_lexer": "ipython3",
   "version": "3.10.8"
  }
 },
 "nbformat": 4,
 "nbformat_minor": 2
}
