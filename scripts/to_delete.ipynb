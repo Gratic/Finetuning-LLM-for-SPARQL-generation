{
 "cells": [
  {
   "cell_type": "code",
   "execution_count": 2,
   "metadata": {},
   "outputs": [],
   "source": [
    "import sys\n",
    "from pathlib import Path\n",
    "sys.path.append(Path(\"../modules\").absolute().__str__())\n",
    "\n",
    "import pandas as pd\n",
    "from data_utils import load_dataset"
   ]
  },
  {
   "cell_type": "code",
   "execution_count": 4,
   "metadata": {},
   "outputs": [
    {
     "data": {
      "text/html": [
       "<div>\n",
       "<style scoped>\n",
       "    .dataframe tbody tr th:only-of-type {\n",
       "        vertical-align: middle;\n",
       "    }\n",
       "\n",
       "    .dataframe tbody tr th {\n",
       "        vertical-align: top;\n",
       "    }\n",
       "\n",
       "    .dataframe thead th {\n",
       "        text-align: right;\n",
       "    }\n",
       "</style>\n",
       "<table border=\"1\" class=\"dataframe\">\n",
       "  <thead>\n",
       "    <tr style=\"text-align: right;\">\n",
       "      <th></th>\n",
       "      <th>input</th>\n",
       "      <th>target</th>\n",
       "    </tr>\n",
       "  </thead>\n",
       "  <tbody>\n",
       "    <tr>\n",
       "      <th>2418</th>\n",
       "      <td>[\"Can you find all cats with pictures and disp...</td>\n",
       "      <td>SELECT ?item ?itemLabel ?pic\\nWHERE\\n{\\n?item ...</td>\n",
       "    </tr>\n",
       "    <tr>\n",
       "      <th>2419</th>\n",
       "      <td>[\"Can you retrieve a list of people who are no...</td>\n",
       "      <td>SELECT ?person ?personLabel ?personDescription...</td>\n",
       "    </tr>\n",
       "    <tr>\n",
       "      <th>2420</th>\n",
       "      <td>[\"Can you write a SparQL query to find the 50 ...</td>\n",
       "      <td>SELECT ?id WHERE { ?lexeme [entity 0] ?id. } G...</td>\n",
       "    </tr>\n",
       "    <tr>\n",
       "      <th>2421</th>\n",
       "      <td>[\"Can you find out where the authors of Wikima...</td>\n",
       "      <td>SELECT ?livre ?livreLabel ?personneLabel ?lieu...</td>\n",
       "    </tr>\n",
       "    <tr>\n",
       "      <th>2422</th>\n",
       "      <td>[\"Can you find out how many online accounts ar...</td>\n",
       "      <td>SELECT\\n?property\\n?propertyLabel\\n?count\\nWIT...</td>\n",
       "    </tr>\n",
       "  </tbody>\n",
       "</table>\n",
       "</div>"
      ],
      "text/plain": [
       "                                                  input  \\\n",
       "2418  [\"Can you find all cats with pictures and disp...   \n",
       "2419  [\"Can you retrieve a list of people who are no...   \n",
       "2420  [\"Can you write a SparQL query to find the 50 ...   \n",
       "2421  [\"Can you find out where the authors of Wikima...   \n",
       "2422  [\"Can you find out how many online accounts ar...   \n",
       "\n",
       "                                                 target  \n",
       "2418  SELECT ?item ?itemLabel ?pic\\nWHERE\\n{\\n?item ...  \n",
       "2419  SELECT ?person ?personLabel ?personDescription...  \n",
       "2420  SELECT ?id WHERE { ?lexeme [entity 0] ?id. } G...  \n",
       "2421  SELECT ?livre ?livreLabel ?personneLabel ?lieu...  \n",
       "2422  SELECT\\n?property\\n?propertyLabel\\n?count\\nWIT...  "
      ]
     },
     "execution_count": 4,
     "metadata": {},
     "output_type": "execute_result"
    }
   ],
   "source": [
    "df = load_dataset(\"../outputs/finetune_dataset_test.pkl\")\n",
    "df.head()"
   ]
  },
  {
   "cell_type": "code",
   "execution_count": 7,
   "metadata": {},
   "outputs": [
    {
     "data": {
      "text/plain": [
       "True"
      ]
     },
     "execution_count": 7,
     "metadata": {},
     "output_type": "execute_result"
    }
   ],
   "source": [
    "isinstance(df.iloc[0].input, list)"
   ]
  }
 ],
 "metadata": {
  "kernelspec": {
   "display_name": ".venv",
   "language": "python",
   "name": "python3"
  },
  "language_info": {
   "codemirror_mode": {
    "name": "ipython",
    "version": 3
   },
   "file_extension": ".py",
   "mimetype": "text/x-python",
   "name": "python",
   "nbconvert_exporter": "python",
   "pygments_lexer": "ipython3",
   "version": "3.10.8"
  }
 },
 "nbformat": 4,
 "nbformat_minor": 2
}
