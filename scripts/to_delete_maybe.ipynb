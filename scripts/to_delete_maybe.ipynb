{
 "cells": [
  {
   "cell_type": "code",
   "execution_count": 1,
   "metadata": {},
   "outputs": [],
   "source": [
    "import openai"
   ]
  },
  {
   "cell_type": "code",
   "execution_count": 2,
   "metadata": {},
   "outputs": [],
   "source": [
    "client = openai.OpenAI(\n",
    "    api_key=\"<token>\",\n",
    "    base_url=\"<url>\" )"
   ]
  },
  {
   "cell_type": "code",
   "execution_count": 7,
   "metadata": {},
   "outputs": [
    {
     "name": "stdout",
     "output_type": "stream",
     "text": [
      " To achieve the task of listing all the former and current mayors of Paris from Wikidata, we can construct the following SPARQL query. Please note that you'll need to have access to a Wikidata SPARQL endpoint like `https://query.wikidata.org/sparql` to execute this query.\n",
      "\n",
      "```\n",
      "PREFIX wd: <http://www.wikidata.org/entity/>\n",
      "PREFIX wdt: <http://www.wikidata.org/prop/direct/>\n",
      "PREFIX p: <http://wikidata.org/prop/>\n",
      "\n",
      "SELECT DISTINCT ?mayor ?type\n",
      "WHERE {\n",
      "  # Define the subject, which is Paris\n",
      "  BIND(wd:\"Q131\" AS ?paris)\n",
      "\n",
      "  # Find all mayors of Paris using the P361 property, which denotes the office-holder position for an administrative territory.\n",
      "  # We also include current mayor by using filter on active status.\n",
      "  ?mayor wdt:P361/wdt:P279* wd:?id .\n",
      "  FILTER(lang(label-en, ?mayor) = \"Paris\") # Filter for the English label containing Paris to avoid duplicates from translations\n",
      "  BIND(STRAFTER(STRAFTER(str(?mayor), \"Mayor of \"), \" \") AS ?current_mayor) # Extract the mayor's name\n",
      "  OPTIONAL {\n",
      "    # Check if this mayor is currently active (has a P509 property, i.e., the office-holder position is still held)\n",
      "    ?mayor wdt:P509 wd:?current_mayor .\n",
      "  }\n",
      "  # Join the mayors with their relationship to Paris\n",
      "  { ?paris wdt:P361 ?mayor . } UNION { ?paris wdt:P279 ?ancestor ; wdt:P509 ?mayor . }\n",
      "}\n",
      "ORDER BY ASC(?current_mayor) # Sort by the current mayors first, in ascending order\n",
      "```\n",
      "\n",
      "This query fetches all the mayors of Paris from Wikidata and lists them. It separates former mayors from the current one, ordering them so that the current mayor is listed first.\n"
     ]
    }
   ],
   "source": [
    "prompt = \"Your assignment involves a two-step process:\\nFirst, you will receive a task described in a single sentence. This task outlines what information you need to find or what question you need to answer. Read it properly.\\nThen, you will create a SPARQL Query: Based on the task given, you will write a SPARQL query. SPARQL is a specialized query language used to retrieve and manipulate data stored in Resource Description Framework (RDF) format. Your goal is to craft a query that, when executed, fetches the data or answers required by the initial instruction.\\nMake sure your SPARQL query is correctly formulated so that, upon execution, it produces the desired result matching the task's requirements.\\nAnswer this following instruction: \"\n",
    "\n",
    "response = client.chat.completions.create(\n",
    "    model=\"mistral\",\n",
    "    messages = [\n",
    "        {\n",
    "            \"role\": \"user\",\n",
    "            \"content\": f\"{prompt} \\\"Write a SPARQL query to list all the former and the current mayor of Paris from Wikidata.\\\"\"\n",
    "        }\n",
    "    ]\n",
    ")\n",
    "\n",
    "print(response.choices[0].message.content)"
   ]
  }
 ],
 "metadata": {
  "kernelspec": {
   "display_name": "Python 3",
   "language": "python",
   "name": "python3"
  },
  "language_info": {
   "codemirror_mode": {
    "name": "ipython",
    "version": 3
   },
   "file_extension": ".py",
   "mimetype": "text/x-python",
   "name": "python",
   "nbconvert_exporter": "python",
   "pygments_lexer": "ipython3",
   "version": "3.8.10"
  }
 },
 "nbformat": 4,
 "nbformat_minor": 2
}
