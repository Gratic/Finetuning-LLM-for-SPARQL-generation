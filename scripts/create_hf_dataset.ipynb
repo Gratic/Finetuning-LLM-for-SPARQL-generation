{
 "cells": [
  {
   "cell_type": "code",
   "execution_count": 1,
   "metadata": {},
   "outputs": [
    {
     "name": "stderr",
     "output_type": "stream",
     "text": [
      "/usr/lib/python3/dist-packages/requests/__init__.py:89: RequestsDependencyWarning: urllib3 (2.2.2) or chardet (3.0.4) doesn't match a supported version!\n",
      "  warnings.warn(\"urllib3 ({}) or chardet ({}) doesn't match a supported \"\n"
     ]
    },
    {
     "data": {
      "application/vnd.jupyter.widget-view+json": {
       "model_id": "506d3a5450ce4878871c3a02bb4133b7",
       "version_major": 2,
       "version_minor": 0
      },
      "text/plain": [
       "VBox(children=(HTML(value='<center> <img\\nsrc=https://huggingface.co/front/assets/huggingface_logo-noborder.sv…"
      ]
     },
     "metadata": {},
     "output_type": "display_data"
    }
   ],
   "source": [
    "from huggingface_hub import notebook_login\n",
    "\n",
    "notebook_login()"
   ]
  },
  {
   "cell_type": "code",
   "execution_count": 7,
   "metadata": {},
   "outputs": [],
   "source": [
    "import sys\n",
    "from pathlib import Path\n",
    "sys.path.append(Path(\"../modules/\").absolute().__str__())\n",
    "\n",
    "from datasets import Dataset, DatasetDict\n",
    "from data_utils import load_dataset"
   ]
  },
  {
   "cell_type": "code",
   "execution_count": 13,
   "metadata": {},
   "outputs": [],
   "source": [
    "train = \"../outputs/dataset_pipeline/final_fq18_with_limit_10/final_fq18_with_limit_10-split_train.pkl\"\n",
    "valid = \"../outputs/dataset_pipeline/final_fq18_with_limit_10/final_fq18_with_limit_10-split_valid.pkl\"\n",
    "test = \"../outputs/dataset_pipeline/final_fq18_with_limit_10/final_fq18_with_limit_10-split_test.pkl\"\n",
    "\n",
    "df_train = load_dataset(train)\n",
    "df_valid = load_dataset(valid)\n",
    "df_test = load_dataset(test)\n",
    "\n",
    "buffer_train = Path(\"./buf_train.json\")\n",
    "buffer_valid = Path(\"./buf_valid.json\")\n",
    "buffer_test = Path(\"./buf_test.json\")\n",
    "\n",
    "df_train.to_json(buffer_train)\n",
    "df_valid.to_json(buffer_valid)\n",
    "df_test.to_json(buffer_test)\n",
    "\n",
    "ds_train = Dataset.from_pandas(load_dataset(buffer_train), preserve_index=True)\n",
    "ds_valid = Dataset.from_pandas(load_dataset(buffer_valid), preserve_index=True)\n",
    "ds_test = Dataset.from_pandas(load_dataset(buffer_test), preserve_index=True)\n",
    "\n",
    "buffer_train.unlink()\n",
    "buffer_valid.unlink()\n",
    "buffer_test.unlink()\n",
    "\n",
    "final_dataset = DatasetDict({'train': ds_train, 'valid': ds_valid, 'test': ds_test})\n",
    "final_dataset"
   ]
  },
  {
   "cell_type": "code",
   "execution_count": 14,
   "metadata": {},
   "outputs": [
    {
     "data": {
      "application/vnd.jupyter.widget-view+json": {
       "model_id": "0ef933e0d10945d68f445497002715c9",
       "version_major": 2,
       "version_minor": 0
      },
      "text/plain": [
       "Uploading the dataset shards:   0%|          | 0/1 [00:00<?, ?it/s]"
      ]
     },
     "metadata": {},
     "output_type": "display_data"
    },
    {
     "data": {
      "application/vnd.jupyter.widget-view+json": {
       "model_id": "e4f3be7104c64d09b1e1be3f7f120cb3",
       "version_major": 2,
       "version_minor": 0
      },
      "text/plain": [
       "Creating parquet from Arrow format:   0%|          | 0/2 [00:00<?, ?ba/s]"
      ]
     },
     "metadata": {},
     "output_type": "display_data"
    },
    {
     "data": {
      "application/vnd.jupyter.widget-view+json": {
       "model_id": "b4071a347386442cb11ac810cdac5b68",
       "version_major": 2,
       "version_minor": 0
      },
      "text/plain": [
       "Uploading the dataset shards:   0%|          | 0/1 [00:00<?, ?it/s]"
      ]
     },
     "metadata": {},
     "output_type": "display_data"
    },
    {
     "data": {
      "application/vnd.jupyter.widget-view+json": {
       "model_id": "4ccce9f7dc9344faa455c5f99330c18e",
       "version_major": 2,
       "version_minor": 0
      },
      "text/plain": [
       "Creating parquet from Arrow format:   0%|          | 0/1 [00:00<?, ?ba/s]"
      ]
     },
     "metadata": {},
     "output_type": "display_data"
    },
    {
     "data": {
      "application/vnd.jupyter.widget-view+json": {
       "model_id": "fd3c1feaee134cf88a84a544771f4d77",
       "version_major": 2,
       "version_minor": 0
      },
      "text/plain": [
       "Uploading the dataset shards:   0%|          | 0/1 [00:00<?, ?it/s]"
      ]
     },
     "metadata": {},
     "output_type": "display_data"
    },
    {
     "data": {
      "application/vnd.jupyter.widget-view+json": {
       "model_id": "059d8f5b4e984798a49e0167abefaaf2",
       "version_major": 2,
       "version_minor": 0
      },
      "text/plain": [
       "Creating parquet from Arrow format:   0%|          | 0/1 [00:00<?, ?ba/s]"
      ]
     },
     "metadata": {},
     "output_type": "display_data"
    },
    {
     "data": {
      "application/vnd.jupyter.widget-view+json": {
       "model_id": "b8f9c42eaee347d9b55d1beba963e9eb",
       "version_major": 2,
       "version_minor": 0
      },
      "text/plain": [
       "README.md:   0%|          | 0.00/772 [00:00<?, ?B/s]"
      ]
     },
     "metadata": {},
     "output_type": "display_data"
    },
    {
     "data": {
      "text/plain": [
       "CommitInfo(commit_url='https://huggingface.co/datasets/Zaleks/labelized_sparql_wikidata/commit/03543cb77fc99945dd764ec5e2c7db96dd0b7afd', commit_message='Upload dataset', commit_description='', oid='03543cb77fc99945dd764ec5e2c7db96dd0b7afd', pr_url=None, pr_revision=None, pr_num=None)"
      ]
     },
     "execution_count": 14,
     "metadata": {},
     "output_type": "execute_result"
    }
   ],
   "source": [
    "final_dataset.push_to_hub(\"labelized_sparql_wikidata\")"
   ]
  }
 ],
 "metadata": {
  "kernelspec": {
   "display_name": "Python 3",
   "language": "python",
   "name": "python3"
  },
  "language_info": {
   "codemirror_mode": {
    "name": "ipython",
    "version": 3
   },
   "file_extension": ".py",
   "mimetype": "text/x-python",
   "name": "python",
   "nbconvert_exporter": "python",
   "pygments_lexer": "ipython3",
   "version": "3.8.10"
  }
 },
 "nbformat": 4,
 "nbformat_minor": 2
}
