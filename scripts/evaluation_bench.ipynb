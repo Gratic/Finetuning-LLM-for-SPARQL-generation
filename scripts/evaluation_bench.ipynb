{
 "cells": [
  {
   "cell_type": "code",
   "execution_count": 31,
   "metadata": {},
   "outputs": [
    {
     "name": "stderr",
     "output_type": "stream",
     "text": [
      "[nltk_data] Downloading package wordnet to /root/nltk_data...\n"
     ]
    },
    {
     "data": {
      "text/plain": [
       "True"
      ]
     },
     "execution_count": 31,
     "metadata": {},
     "output_type": "execute_result"
    }
   ],
   "source": [
    "from nltk.translate.bleu_score import corpus_bleu\n",
    "import argparse\n",
    "import json\n",
    "import logging\n",
    "import nltk\n",
    "import os\n",
    "import pandas as pd\n",
    "from evaluation_utils import failed_generation_index, eval_dataset, get_nested_values, load_dataset, safe_loc, compute_precision, compute_recall, corpus_meteor"
   ]
  },
  {
   "cell_type": "code",
   "execution_count": 2,
   "metadata": {},
   "outputs": [],
   "source": [
    "arguments = {\n",
    "    \"dataset\": \"../outputs/batch_run/test2/execution/Mistral-7B-Instruct-v0.2_rv16-bs2-p0_t0.2-topp0.95_executed.parquet.gzip\",\n",
    "    \"gold\": \"../datasets/queries_with_execution_results_with_limit.parquet.gzip\",\n",
    "    \"model\": \"Mistral-7B-Instruct-v0.2\",\n",
    "    \"output\": \".\",\n",
    "    \"save_name\": \"test\",\n",
    "    \"log_level\": \"warning\",\n",
    "    \"log_file\": \"\",\n",
    "}"
   ]
  },
  {
   "cell_type": "code",
   "execution_count": 3,
   "metadata": {},
   "outputs": [
    {
     "name": "stdout",
     "output_type": "stream",
     "text": [
      "Namespace(dataset='../outputs/batch_run/test2/execution/Mistral-7B-Instruct-v0.2_rv16-bs2-p0_t0.2-topp0.95_executed.parquet.gzip', gold='../datasets/queries_with_execution_results_with_limit.parquet.gzip', log_file='', log_level='warning', model='Mistral-7B-Instruct-v0.2', output='.', save_name='test')\n"
     ]
    }
   ],
   "source": [
    "args = argparse.Namespace()\n",
    "args.__dict__.update(arguments)\n",
    "print(args)\n",
    "\n",
    "numeric_log_level = getattr(logging, args.log_level.upper(), None)\n",
    "if not isinstance(numeric_log_level, int):\n",
    "    raise ValueError(f\"Invalid log level: {args.log_level}.\")\n",
    "logging.basicConfig(filename=args.log_file if args.log_file else None, level=numeric_log_level)\n",
    "\n",
    "if not os.path.exists(args.dataset):\n",
    "    raise FileNotFoundError(f\"The dataset file not found with path: {args.dataset}\")\n",
    "\n",
    "if args.gold != None and not os.path.exists(args.gold):\n",
    "    raise FileNotFoundError(f\"The gold dataset file not found with path: {args.gold}\")\n",
    "\n",
    "if args.preprocess_gold != None and not os.path.exists(args.preprocess_gold):\n",
    "    raise FileNotFoundError(f\"The preprocess gold dataset file not found with path: {args.preprocess_gold}\")\n",
    "\n",
    "nltk.download('wordnet', quiet=True)"
   ]
  },
  {
   "cell_type": "code",
   "execution_count": 4,
   "metadata": {},
   "outputs": [],
   "source": [
    "df = load_dataset(args.dataset)\n",
    "df_no_gen_fail = df.drop(failed_generation_index(df))\n",
    "df_exec_timeout = df_no_gen_fail.loc[df_no_gen_fail['execution'] == 'timeout']\n",
    "df_exec_fail = df_no_gen_fail.loc[df_no_gen_fail['execution'].str.startswith('exception')]\n",
    "df_exec_empty = df_no_gen_fail.loc[df_no_gen_fail['execution'].isnull()]\n",
    "df_exec_to_eval = df_no_gen_fail.drop(df_exec_timeout.index).drop(df_exec_fail.index).drop(df_exec_empty.index)\n",
    "df_eval = eval_dataset(df_exec_to_eval)"
   ]
  },
  {
   "cell_type": "code",
   "execution_count": 5,
   "metadata": {},
   "outputs": [],
   "source": [
    "df_gold = None\n",
    "df_gold_exec_timeout = None\n",
    "df_gold_exec_fail = None\n",
    "df_gold_exec_empty = None\n",
    "df_gold_exec_to_eval = None\n",
    "df_gold_eval = None\n",
    "if args.gold != None:\n",
    "    df_gold = load_dataset(args.gold)\n",
    "    df_gold_exec_timeout = df_gold.loc[df_gold['execution'] == 'timeout']\n",
    "    df_gold_exec_fail = df_gold.loc[df_gold['execution'].str.startswith('exception')]\n",
    "    df_gold_exec_empty = df_gold.loc[df_gold['execution'].isnull()]\n",
    "    df_gold_exec_to_eval = df_gold.drop(df_gold_exec_timeout.index).drop(df_gold_exec_fail.index).drop(df_gold_exec_empty.index)\n",
    "    df_gold_eval = eval_dataset(df_gold_exec_to_eval, \"gold_eval\")\n",
    "else:\n",
    "    with open(args.preprocess_gold, \"r\") as f:\n",
    "        data = json.load(f)\n",
    "    df_gold = pd.read_json(data['df_gold'])\n",
    "    df_gold_exec_timeout = pd.read_json(data['df_gold_exec_timeout'])\n",
    "    df_gold_exec_fail = pd.read_json(data['df_gold_exec_fail'])\n",
    "    df_gold_exec_empty = pd.read_json(data['df_gold_exec_empty'])\n",
    "    df_gold_exec_to_eval = pd.read_json(data['df_gold_exec_to_eval'])\n",
    "    df_gold_eval = pd.read_json(data['df_gold_eval'])"
   ]
  },
  {
   "cell_type": "code",
   "execution_count": 6,
   "metadata": {},
   "outputs": [],
   "source": [
    "df_merged_eval = df_eval.copy()\n",
    "df_merged_eval[\"gold_eval\"] = df_merged_eval.apply(lambda x: safe_loc(x, df_gold_eval, \"gold_eval\", default=None), axis=1)\n",
    "df_merged_eval[\"precision\"] = df_merged_eval.apply(lambda x: compute_precision(get_nested_values(x['eval']), get_nested_values(x['gold_eval'])), axis=1)\n",
    "df_merged_eval[\"recall\"] = df_merged_eval.apply(lambda x: compute_recall(get_nested_values(x['eval']), get_nested_values(x['gold_eval'])), axis=1)"
   ]
  },
  {
   "cell_type": "code",
   "execution_count": null,
   "metadata": {},
   "outputs": [],
   "source": [
    "m_precision = df_merged_eval['precision'].mean()\n",
    "m_recall = df_merged_eval['recall'].mean()\n",
    "m_fscore = 2*m_precision*m_recall/(m_precision+m_recall)\n",
    "\n",
    "bleu_score = corpus_bleu([[x.split()] for x in df_no_gen_fail['target']], [x.split() for x in df_no_gen_fail['translated_prompt']])\n",
    "meteor_score = corpus_meteor(df_no_gen_fail['target'], df_no_gen_fail['translated_prompt'])\n"
   ]
  },
  {
   "cell_type": "code",
   "execution_count": null,
   "metadata": {},
   "outputs": [],
   "source": [
    "serie = pd.Series(data=\n",
    "    {\n",
    "        \"model_name\": args.model,\n",
    "        \"num_rows\": len(df),\n",
    "        \"num_gen_fail\": len(df.loc[df['has_error'] == True]),\n",
    "        \"num_exec_timeout\": len(df_exec_timeout),\n",
    "        \"num_exec_fail\": len(df_exec_fail),\n",
    "        \"num_exec_empty\": len(df_exec_empty),\n",
    "        \"num_exec_to_eval\": len(df_exec_to_eval),\n",
    "        \"num_eval\": len(df_eval),\n",
    "        \"num_eval_empty\": len(df_eval.loc[df_eval['eval'].map(len) == 0]),\n",
    "        \"bleu_score\": bleu_score,\n",
    "        \"meteor_score\": meteor_score,\n",
    "        \"precision\": m_precision,\n",
    "        \"recall\": m_recall,\n",
    "        \"f1score\": m_fscore\n",
    "    })"
   ]
  }
 ],
 "metadata": {
  "kernelspec": {
   "display_name": "Python 3",
   "language": "python",
   "name": "python3"
  },
  "language_info": {
   "codemirror_mode": {
    "name": "ipython",
    "version": 3
   },
   "file_extension": ".py",
   "mimetype": "text/x-python",
   "name": "python",
   "nbconvert_exporter": "python",
   "pygments_lexer": "ipython3",
   "version": "3.8.10"
  }
 },
 "nbformat": 4,
 "nbformat_minor": 2
}
