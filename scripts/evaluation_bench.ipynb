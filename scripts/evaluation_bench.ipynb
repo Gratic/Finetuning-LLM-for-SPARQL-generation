{
 "cells": [
  {
   "cell_type": "code",
   "execution_count": 14,
   "metadata": {},
   "outputs": [],
   "source": [
    "import pandas as pd\n",
    "from nltk.translate.bleu_score import corpus_bleu"
   ]
  },
  {
   "cell_type": "code",
   "execution_count": 31,
   "metadata": {},
   "outputs": [],
   "source": [
    "def failed_generation_index(dataset: pd.DataFrame):\n",
    "    return dataset.loc[dataset['has_error'] == True].index"
   ]
  },
  {
   "cell_type": "code",
   "execution_count": 39,
   "metadata": {},
   "outputs": [
    {
     "data": {
      "text/html": [
       "<div>\n",
       "<style scoped>\n",
       "    .dataframe tbody tr th:only-of-type {\n",
       "        vertical-align: middle;\n",
       "    }\n",
       "\n",
       "    .dataframe tbody tr th {\n",
       "        vertical-align: top;\n",
       "    }\n",
       "\n",
       "    .dataframe thead th {\n",
       "        text-align: right;\n",
       "    }\n",
       "</style>\n",
       "<table border=\"1\" class=\"dataframe\">\n",
       "  <thead>\n",
       "    <tr style=\"text-align: right;\">\n",
       "      <th></th>\n",
       "      <th>row</th>\n",
       "      <th>last_executed_step</th>\n",
       "      <th>to_be_executed_step</th>\n",
       "      <th>translated_prompt</th>\n",
       "      <th>status</th>\n",
       "      <th>has_error</th>\n",
       "      <th>input</th>\n",
       "      <th>target</th>\n",
       "    </tr>\n",
       "  </thead>\n",
       "  <tbody>\n",
       "    <tr>\n",
       "      <th>2418</th>\n",
       "      <td>\"Can you find all cats with pictures and displ...</td>\n",
       "      <td>LLMTranslator</td>\n",
       "      <td></td>\n",
       "      <td>SELECT ?cat ?catLabel ?image WHERE {\\n  ?cat w...</td>\n",
       "      <td></td>\n",
       "      <td>False</td>\n",
       "      <td>\"Can you find all cats with pictures and displ...</td>\n",
       "      <td>SELECT ?item ?itemLabel ?pic\\nWHERE\\n{\\n?item ...</td>\n",
       "    </tr>\n",
       "    <tr>\n",
       "      <th>2419</th>\n",
       "      <td>\"Can you retrieve a list of people who are not...</td>\n",
       "      <td>LLMTranslator</td>\n",
       "      <td></td>\n",
       "      <td>SELECT ?person ?personLabel ?personDescription...</td>\n",
       "      <td></td>\n",
       "      <td>False</td>\n",
       "      <td>\"Can you retrieve a list of people who are not...</td>\n",
       "      <td>SELECT ?person ?personLabel ?personDescription...</td>\n",
       "    </tr>\n",
       "    <tr>\n",
       "      <th>2420</th>\n",
       "      <td>\"Can you write a SparQL query to find the 50 l...</td>\n",
       "      <td>LLMTranslator</td>\n",
       "      <td></td>\n",
       "      <td>SELECT ?word ?wordLabel WHERE {\\n  ?word wdt:P...</td>\n",
       "      <td></td>\n",
       "      <td>False</td>\n",
       "      <td>\"Can you write a SparQL query to find the 50 l...</td>\n",
       "      <td>SELECT ?id WHERE { ?lexeme [entity 0] ?id. } G...</td>\n",
       "    </tr>\n",
       "    <tr>\n",
       "      <th>2421</th>\n",
       "      <td>\"Can you find out where the authors of Wikimam...</td>\n",
       "      <td>LLMTranslator</td>\n",
       "      <td></td>\n",
       "      <td>SELECT ?author ?authorLabel ?birthPlaceLabel W...</td>\n",
       "      <td></td>\n",
       "      <td>False</td>\n",
       "      <td>\"Can you find out where the authors of Wikimam...</td>\n",
       "      <td>SELECT ?livre ?livreLabel ?personneLabel ?lieu...</td>\n",
       "    </tr>\n",
       "    <tr>\n",
       "      <th>2422</th>\n",
       "      <td>\"Can you find out how many online accounts are...</td>\n",
       "      <td>LLMTranslator</td>\n",
       "      <td></td>\n",
       "      <td>SELECT (COUNT(DISTINCT ?person) AS ?count) WHE...</td>\n",
       "      <td></td>\n",
       "      <td>False</td>\n",
       "      <td>\"Can you find out how many online accounts are...</td>\n",
       "      <td>SELECT\\n?property\\n?propertyLabel\\n?count\\nWIT...</td>\n",
       "    </tr>\n",
       "  </tbody>\n",
       "</table>\n",
       "</div>"
      ],
      "text/plain": [
       "                                                    row last_executed_step  \\\n",
       "2418  \"Can you find all cats with pictures and displ...      LLMTranslator   \n",
       "2419  \"Can you retrieve a list of people who are not...      LLMTranslator   \n",
       "2420  \"Can you write a SparQL query to find the 50 l...      LLMTranslator   \n",
       "2421  \"Can you find out where the authors of Wikimam...      LLMTranslator   \n",
       "2422  \"Can you find out how many online accounts are...      LLMTranslator   \n",
       "\n",
       "     to_be_executed_step                                  translated_prompt  \\\n",
       "2418                      SELECT ?cat ?catLabel ?image WHERE {\\n  ?cat w...   \n",
       "2419                      SELECT ?person ?personLabel ?personDescription...   \n",
       "2420                      SELECT ?word ?wordLabel WHERE {\\n  ?word wdt:P...   \n",
       "2421                      SELECT ?author ?authorLabel ?birthPlaceLabel W...   \n",
       "2422                      SELECT (COUNT(DISTINCT ?person) AS ?count) WHE...   \n",
       "\n",
       "     status  has_error                                              input  \\\n",
       "2418             False  \"Can you find all cats with pictures and displ...   \n",
       "2419             False  \"Can you retrieve a list of people who are not...   \n",
       "2420             False  \"Can you write a SparQL query to find the 50 l...   \n",
       "2421             False  \"Can you find out where the authors of Wikimam...   \n",
       "2422             False  \"Can you find out how many online accounts are...   \n",
       "\n",
       "                                                 target  \n",
       "2418  SELECT ?item ?itemLabel ?pic\\nWHERE\\n{\\n?item ...  \n",
       "2419  SELECT ?person ?personLabel ?personDescription...  \n",
       "2420  SELECT ?id WHERE { ?lexeme [entity 0] ?id. } G...  \n",
       "2421  SELECT ?livre ?livreLabel ?personneLabel ?lieu...  \n",
       "2422  SELECT\\n?property\\n?propertyLabel\\n?count\\nWIT...  "
      ]
     },
     "execution_count": 39,
     "metadata": {},
     "output_type": "execute_result"
    }
   ],
   "source": [
    "df_test"
   ]
  },
  {
   "cell_type": "code",
   "execution_count": 38,
   "metadata": {},
   "outputs": [],
   "source": [
    "df_ref = pd.read_pickle(\"../outputs/finetune_dataset_test.pkl\")\n",
    "df_test = pd.read_parquet(\"../outputs/wikidatallm/results.parquet.gzip\")\n",
    "failed_index = failed_generation_index(df_test)\n",
    "# df_ref = df_ref.drop(failed_index)\n",
    "df_test = df_test.drop(failed_index)\n"
   ]
  },
  {
   "cell_type": "code",
   "execution_count": 8,
   "metadata": {},
   "outputs": [
    {
     "name": "stdout",
     "output_type": "stream",
     "text": [
      "SELECT COUNT(DISTINCT ?country) WHERE {\n",
      "?country wdt:P31 wd:Q236. # P31 is \"instance of\", Q236 is \"country\"\n",
      "?country wdt:P279 wd:Q1041. # P279 is \"member of\", Q1041 is \"European Union\"\n",
      "}\n",
      "\n"
     ]
    }
   ],
   "source": [
    "print(df_test['translated_prompt'][0])"
   ]
  },
  {
   "cell_type": "code",
   "execution_count": 16,
   "metadata": {},
   "outputs": [
    {
     "ename": "AttributeError",
     "evalue": "'NoneType' object has no attribute 'split'",
     "output_type": "error",
     "traceback": [
      "\u001b[0;31m---------------------------------------------------------------------------\u001b[0m",
      "\u001b[0;31mAttributeError\u001b[0m                            Traceback (most recent call last)",
      "Cell \u001b[0;32mIn[16], line 1\u001b[0m\n\u001b[0;32m----> 1\u001b[0m corpus_bleu([x\u001b[38;5;241m.\u001b[39msplit() \u001b[38;5;28;01mfor\u001b[39;00m x \u001b[38;5;129;01min\u001b[39;00m df_ref[\u001b[38;5;124m'\u001b[39m\u001b[38;5;124mtarget\u001b[39m\u001b[38;5;124m'\u001b[39m]], [x\u001b[38;5;241m.\u001b[39msplit() \u001b[38;5;28;01mfor\u001b[39;00m x \u001b[38;5;129;01min\u001b[39;00m df_test[\u001b[38;5;124m'\u001b[39m\u001b[38;5;124mtranslated_prompt\u001b[39m\u001b[38;5;124m'\u001b[39m]])\n",
      "Cell \u001b[0;32mIn[16], line 1\u001b[0m, in \u001b[0;36m<listcomp>\u001b[0;34m(.0)\u001b[0m\n\u001b[0;32m----> 1\u001b[0m corpus_bleu([x\u001b[38;5;241m.\u001b[39msplit() \u001b[38;5;28;01mfor\u001b[39;00m x \u001b[38;5;129;01min\u001b[39;00m df_ref[\u001b[38;5;124m'\u001b[39m\u001b[38;5;124mtarget\u001b[39m\u001b[38;5;124m'\u001b[39m]], [x\u001b[38;5;241m.\u001b[39msplit() \u001b[38;5;28;01mfor\u001b[39;00m x \u001b[38;5;129;01min\u001b[39;00m df_test[\u001b[38;5;124m'\u001b[39m\u001b[38;5;124mtranslated_prompt\u001b[39m\u001b[38;5;124m'\u001b[39m]])\n",
      "\u001b[0;31mAttributeError\u001b[0m: 'NoneType' object has no attribute 'split'"
     ]
    }
   ],
   "source": [
    "corpus_bleu([x.split() for x in df_ref['target']], [x.split() for x in df_test['translated_prompt']])"
   ]
  }
 ],
 "metadata": {
  "kernelspec": {
   "display_name": "Python 3",
   "language": "python",
   "name": "python3"
  },
  "language_info": {
   "codemirror_mode": {
    "name": "ipython",
    "version": 3
   },
   "file_extension": ".py",
   "mimetype": "text/x-python",
   "name": "python",
   "nbconvert_exporter": "python",
   "pygments_lexer": "ipython3",
   "version": "3.8.10"
  }
 },
 "nbformat": 4,
 "nbformat_minor": 2
}
