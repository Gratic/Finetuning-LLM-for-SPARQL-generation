{
 "cells": [
  {
   "cell_type": "code",
   "execution_count": 1,
   "metadata": {},
   "outputs": [],
   "source": [
    "import sys\n",
    "from pathlib import Path\n",
    "sys.path.append(Path(\"../modules\").absolute().__str__())\n",
    "\n",
    "from nltk.translate.bleu_score import corpus_bleu\n",
    "import argparse\n",
    "import json\n",
    "import logging\n",
    "import nltk\n",
    "import os\n",
    "import pandas as pd\n",
    "from evaluation_utils import compute_precision, compute_recall, corpus_meteor, average_precision, is_correct_SPARQL_query\n",
    "from data_utils import eval_dataset, get_nested_values, load_dataset, safe_loc, series_or_dataframe_to_list"
   ]
  },
  {
   "cell_type": "code",
   "execution_count": 2,
   "metadata": {},
   "outputs": [],
   "source": [
    "def get_value_from_sparql_key(data_dict):\n",
    "    if \"type\" in data_dict.keys():\n",
    "        ttype = data_dict[\"type\"]\n",
    "        \n",
    "        if ttype == \"uri\":\n",
    "            return data_dict[\"value\"]\n",
    "        \n",
    "        elif ttype == \"literal\":\n",
    "            if \"datatype\" in data_dict.keys() and data_dict['datatype'] == 'http://www.w3.org/2001/XMLSchema#integer':\n",
    "                return int(data_dict[\"value\"])\n",
    "            \n",
    "            return data_dict[\"value\"]\n",
    "        \n",
    "        raise NotImplementedError(f\"This type was not implemented, found: {ttype}.\")\n",
    "        \n",
    "    raise ValueError(\"Type is not in data_dict.\")\n",
    "\n",
    "def get_columns_from_sparql_response(response):\n",
    "    if not isinstance(response, list):\n",
    "        raise Exception(\"The response needs to be evaluated or at least a List.\")\n",
    "    \n",
    "    if len(response) == 0:\n",
    "        return None\n",
    "    \n",
    "    return list(response[0].keys())\n",
    "\n",
    "def make_dataframe_from_sparql_response(response):\n",
    "    columns = get_columns_from_sparql_response(response)\n",
    "    \n",
    "    if columns == None:\n",
    "        return pd.DataFrame()\n",
    "    \n",
    "    df = {k:[] for k in columns}\n",
    "    \n",
    "    for row in response:\n",
    "        for k in df.keys():\n",
    "            if k in row.keys():\n",
    "                data = get_value_from_sparql_key(row[k])\n",
    "            else:\n",
    "                data = None\n",
    "            df[k].append(data)\n",
    "    \n",
    "    return pd.DataFrame(data=df)\n",
    "\n",
    "def unique_metric(column: pd.Series):\n",
    "    return len(column.unique())/len(column)\n",
    "\n",
    "def is_entity_column(column: pd.Series):\n",
    "    if not isinstance(column[0], str):\n",
    "        return False\n",
    "    return all(column.str.lower().str.startswith(\"http://www.wikidata.org/entity/\"))\n",
    "\n",
    "def find_id_column(response_df):\n",
    "    if not isinstance(response_df, pd.DataFrame):\n",
    "        raise TypeError(\"response_df must be a pandas DataFrame.\")\n",
    "    \n",
    "    if response_df.empty:\n",
    "        return None\n",
    "    \n",
    "    potential_id_columns = response_df.columns\n",
    "    \n",
    "    if len(potential_id_columns) == 1:\n",
    "        return potential_id_columns[0]\n",
    "    \n",
    "    unique_scores = [(column, unique_metric(response_df[column])) for column in response_df.columns]\n",
    "    unique_scores.sort(key=lambda x: x[1], reverse=True)\n",
    "    \n",
    "    potential_id_columns = list(map(lambda x: x[0], filter(lambda x: x[1] == unique_scores[0][1], unique_scores)))\n",
    "    \n",
    "    if len(potential_id_columns) == 1:\n",
    "        return potential_id_columns[0]\n",
    "    \n",
    "    potential_id_columns_with_id = list(filter(lambda x: x.lower().startswith('id') or x.lower().endswith('id'), potential_id_columns))\n",
    "    if len(potential_id_columns_with_id) > 0:\n",
    "        potential_id_columns = potential_id_columns_with_id\n",
    "    \n",
    "    if len(potential_id_columns) == 1:\n",
    "        return potential_id_columns[0]\n",
    "    \n",
    "    entity_columns = list(filter(lambda x: is_entity_column(response_df[x]), potential_id_columns))\n",
    "    if len(entity_columns) > 0:\n",
    "        potential_id_columns = entity_columns\n",
    "    \n",
    "    return potential_id_columns[0]\n",
    "\n",
    "# def get_id_column_values\n",
    "    "
   ]
  },
  {
   "cell_type": "code",
   "execution_count": 3,
   "metadata": {},
   "outputs": [],
   "source": [
    "arguments = {\n",
    "    \"dataset\": \"../datasets/Mistral-7B-Instruct-v0.2_rv16-ld0-bs1-p0-nta0-e3-basic_engpeft-t0.2-topp0.95_executed.parquet.gzip\",\n",
    "    \"preprocess_gold\": \"../datasets/preprocessed_gold.json\",\n",
    "    \"model\": \"Mistral-7B-Instruct-v0.2\",\n",
    "    \"output\": \".\",\n",
    "    \"save_name\": \"test\",\n",
    "    \"log_level\": \"warning\",\n",
    "    \"log_file\": \"\",\n",
    "}"
   ]
  },
  {
   "cell_type": "code",
   "execution_count": 4,
   "metadata": {},
   "outputs": [
    {
     "name": "stdout",
     "output_type": "stream",
     "text": [
      "Namespace(dataset='../datasets/Mistral-7B-Instruct-v0.2_rv16-ld0-bs1-p0-nta0-e3-basic_engpeft-t0.2-topp0.95_executed.parquet.gzip', preprocess_gold='../datasets/preprocessed_gold.json', model='Mistral-7B-Instruct-v0.2', output='.', save_name='test', log_level='warning', log_file='')\n"
     ]
    },
    {
     "data": {
      "text/plain": [
       "True"
      ]
     },
     "execution_count": 4,
     "metadata": {},
     "output_type": "execute_result"
    }
   ],
   "source": [
    "args = argparse.Namespace()\n",
    "args.__dict__.update(arguments)\n",
    "print(args)\n",
    "\n",
    "numeric_log_level = getattr(logging, args.log_level.upper(), None)\n",
    "if not isinstance(numeric_log_level, int):\n",
    "    raise ValueError(f\"Invalid log level: {args.log_level}.\")\n",
    "logging.basicConfig(filename=args.log_file if args.log_file else None, level=numeric_log_level)\n",
    "\n",
    "if not os.path.exists(args.dataset):\n",
    "    raise FileNotFoundError(f\"The dataset file not found with path: {args.dataset}\")\n",
    "\n",
    "if args.preprocess_gold != None and not os.path.exists(args.preprocess_gold):\n",
    "    raise FileNotFoundError(f\"The preprocess gold dataset file not found with path: {args.preprocess_gold}\")\n",
    "\n",
    "nltk.download('wordnet', quiet=True)"
   ]
  },
  {
   "cell_type": "code",
   "execution_count": 5,
   "metadata": {},
   "outputs": [],
   "source": [
    "df = load_dataset(args.dataset)\n",
    "df_no_gen_fail = df # df.drop(failed_generation_index(df))\n",
    "df_exec_timeout = df_no_gen_fail.loc[df_no_gen_fail['execution'] == 'timeout']\n",
    "df_exec_fail = df_no_gen_fail.loc[df_no_gen_fail['execution'].str.startswith('exception')]\n",
    "df_exec_empty = df_no_gen_fail.loc[df_no_gen_fail['execution'].isnull()]\n",
    "df_exec_to_eval = df_no_gen_fail.drop(df_exec_timeout.index).drop(df_exec_fail.index).drop(df_exec_empty.index)\n",
    "df_eval = eval_dataset(df_exec_to_eval)\n",
    "df_eval['get_nested_values'] = df_eval.apply(lambda x: get_nested_values(x['eval']), axis=1)\n",
    "df_eval['eval_df'] = df_eval.apply(lambda x: make_dataframe_from_sparql_response(x['eval']), axis=1)\n",
    "df_eval['id_column'] = df_eval.apply(lambda x: x['eval_df'][find_id_column(x['eval_df'])] if find_id_column(x['eval_df']) != None else None, axis=1)"
   ]
  },
  {
   "cell_type": "code",
   "execution_count": 6,
   "metadata": {},
   "outputs": [],
   "source": [
    "df_gold_eval = None\n",
    "# if args.gold != None:\n",
    "#     df_gold = load_dataset(args.gold)\n",
    "#     df_gold_exec_timeout = df_gold.loc[df_gold['execution'] == 'timeout']\n",
    "#     df_gold_exec_fail = df_gold.loc[df_gold['execution'].str.startswith('exception')]\n",
    "#     df_gold_exec_empty = df_gold.loc[df_gold['execution'].isnull()]\n",
    "#     df_gold_exec_to_eval = df_gold.drop(df_gold_exec_timeout.index).drop(df_gold_exec_fail.index).drop(df_gold_exec_empty.index)\n",
    "#     df_gold_eval = eval_dataset(df_gold_exec_to_eval, \"gold_eval\")\n",
    "#     df_gold_eval['gold_get_nested_values'] = df_gold_eval.apply(lambda x: get_nested_values(x['gold_eval']), axis=1)\n",
    "# else:\n",
    "with open(args.preprocess_gold, \"r\") as f:\n",
    "    data = json.load(f)\n",
    "df_gold_eval = pd.read_json(data['df_gold_eval'])\n",
    "df_gold_eval['gold_eval_df'] = df_gold_eval.apply(lambda x: make_dataframe_from_sparql_response(x['gold_eval']), axis=1)\n",
    "df_gold_eval['gold_id_column'] = df_gold_eval.apply(lambda x: x['gold_eval_df'][find_id_column(x['gold_eval_df'])] if find_id_column(x['gold_eval_df']) != None else None, axis=1)"
   ]
  },
  {
   "cell_type": "code",
   "execution_count": 7,
   "metadata": {},
   "outputs": [],
   "source": [
    "df_merged_eval = df_eval.copy()\n",
    "\n",
    "# Merging manually\n",
    "df_merged_eval[\"gold_eval\"] = df_merged_eval.apply(lambda x: safe_loc(x, df_gold_eval, \"gold_eval\", default=None), axis=1)\n",
    "df_merged_eval[\"gold_get_nested_values\"] = df_merged_eval.apply(lambda x: safe_loc(x, df_gold_eval, \"gold_get_nested_values\", default=[]), axis=1)\n",
    "df_merged_eval[\"gold_eval_df\"] = df_merged_eval.apply(lambda x: safe_loc(x, df_gold_eval, \"gold_eval_df\", default=pd.DataFrame), axis=1)\n",
    "df_merged_eval[\"gold_id_column\"] = df_merged_eval.apply(lambda x: series_or_dataframe_to_list(pd.DataFrame(data=safe_loc(x, df_gold_eval, \"gold_id_column\", default=None, as_serie=True))), axis=1)"
   ]
  },
  {
   "cell_type": "code",
   "execution_count": 8,
   "metadata": {},
   "outputs": [],
   "source": [
    "# Computing metrics\n",
    "df_merged_eval[\"precision\"] = df_merged_eval.apply(lambda x: compute_precision(x['get_nested_values'], x['gold_get_nested_values']), axis=1)\n",
    "df_merged_eval[\"recall\"] = df_merged_eval.apply(lambda x: compute_recall(x['get_nested_values'], x['gold_get_nested_values']), axis=1)\n",
    "df_merged_eval[\"average_precision\"] = df_merged_eval.apply(lambda x: average_precision(x['get_nested_values'], x['gold_get_nested_values'], k_max=100000), axis=1)\n",
    "\n",
    "df_merged_eval[\"id_precision\"] = df_merged_eval.apply(lambda x: compute_precision(series_or_dataframe_to_list(x['id_column']), series_or_dataframe_to_list(x['gold_id_column'])), axis=1)\n",
    "df_merged_eval[\"id_recall\"] = df_merged_eval.apply(lambda x: compute_recall(series_or_dataframe_to_list(x['id_column']), series_or_dataframe_to_list(x['gold_id_column'])), axis=1)\n",
    "df_merged_eval[\"id_average_precision\"] = df_merged_eval.apply(lambda x: average_precision(series_or_dataframe_to_list(x['id_column']), series_or_dataframe_to_list(x['gold_id_column']), k_max=100000), axis=1)"
   ]
  },
  {
   "cell_type": "code",
   "execution_count": 9,
   "metadata": {},
   "outputs": [],
   "source": [
    "m_precision = df_merged_eval['precision'].mean()\n",
    "m_recall = df_merged_eval['recall'].mean()\n",
    "m_fscore = 2*m_precision*m_recall/(m_precision+m_recall)\n",
    "\n",
    "id_precision = df_merged_eval['id_precision'].mean()\n",
    "id_recall = df_merged_eval['id_recall'].mean()\n",
    "id_fscore = 2*id_precision*id_recall/(id_precision+id_recall)\n",
    "\n",
    "mean_average_precision = df_merged_eval['average_precision'].mean()\n",
    "mean_id_average_precision = df_merged_eval['id_average_precision'].mean()"
   ]
  },
  {
   "cell_type": "code",
   "execution_count": 10,
   "metadata": {},
   "outputs": [],
   "source": [
    "bleu_score = corpus_bleu([[x.split()] for x in df_no_gen_fail['target_template']], [x.split() for x in df_no_gen_fail['translated_prompt']])\n",
    "meteor_score = corpus_meteor(df_no_gen_fail['target_template'], df_no_gen_fail['translated_prompt'])\n",
    "correct_syntax = sum(list(map(lambda y: int(y[1]), df_no_gen_fail.apply(lambda x: is_correct_SPARQL_query(x['translated_prompt']), axis=1).items()))) / len(df_no_gen_fail)"
   ]
  },
  {
   "cell_type": "code",
   "execution_count": 11,
   "metadata": {},
   "outputs": [],
   "source": [
    "serie = pd.Series(data=\n",
    "    {\n",
    "        \"model_name\": args.model,\n",
    "        \"num_rows\": len(df),\n",
    "        \"num_gen_fail\": len(df.loc[df['has_error'] == True]),\n",
    "        \"num_exec_timeout\": len(df_exec_timeout),\n",
    "        \"num_exec_fail\": len(df_exec_fail),\n",
    "        \"num_exec_empty\": len(df_exec_empty),\n",
    "        \"num_exec_to_eval\": len(df_exec_to_eval),\n",
    "        \"num_eval\": len(df_eval),\n",
    "        \"num_eval_empty\": len(df_eval.loc[df_eval['eval'].map(len) == 0]),\n",
    "        \"bleu_score\": bleu_score,\n",
    "        \"meteor_score\": meteor_score,\n",
    "        \"precision\": m_precision,\n",
    "        \"recall\": m_recall,\n",
    "        \"f1score\": m_fscore,\n",
    "        \"mean_average_precision\": mean_average_precision,\n",
    "        \"id_precision\": id_precision,\n",
    "        \"id_recall\": id_recall,\n",
    "        \"id_f1score\": id_fscore,\n",
    "        \"mean_id_average_precision\": mean_id_average_precision,\n",
    "        \"correct_syntax\": correct_syntax,\n",
    "    })"
   ]
  },
  {
   "cell_type": "code",
   "execution_count": 12,
   "metadata": {},
   "outputs": [
    {
     "data": {
      "text/plain": [
       "model_name                   Mistral-7B-Instruct-v0.2\n",
       "num_rows                                          426\n",
       "num_gen_fail                                       69\n",
       "num_exec_timeout                                   22\n",
       "num_exec_fail                                      91\n",
       "num_exec_empty                                      0\n",
       "num_exec_to_eval                                  313\n",
       "num_eval                                          313\n",
       "num_eval_empty                                    294\n",
       "bleu_score                                   0.009727\n",
       "meteor_score                                 0.147948\n",
       "precision                                    0.651757\n",
       "recall                                       0.651757\n",
       "f1score                                      0.651757\n",
       "mean_average_precision                            0.0\n",
       "id_precision                                 0.651757\n",
       "id_recall                                    0.651757\n",
       "id_f1score                                   0.651757\n",
       "mean_id_average_precision                         0.0\n",
       "correct_syntax                               0.828638\n",
       "dtype: object"
      ]
     },
     "execution_count": 12,
     "metadata": {},
     "output_type": "execute_result"
    }
   ],
   "source": [
    "serie"
   ]
  }
 ],
 "metadata": {
  "kernelspec": {
   "display_name": "Python 3",
   "language": "python",
   "name": "python3"
  },
  "language_info": {
   "codemirror_mode": {
    "name": "ipython",
    "version": 3
   },
   "file_extension": ".py",
   "mimetype": "text/x-python",
   "name": "python",
   "nbconvert_exporter": "python",
   "pygments_lexer": "ipython3",
   "version": "3.10.8"
  }
 },
 "nbformat": 4,
 "nbformat_minor": 2
}
