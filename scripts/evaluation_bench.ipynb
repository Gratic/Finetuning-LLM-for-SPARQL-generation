{
 "cells": [
  {
   "cell_type": "code",
   "execution_count": 1,
   "metadata": {},
   "outputs": [],
   "source": [
    "import sys\n",
    "from pathlib import Path\n",
    "sys.path.append(Path(\"../modules\").absolute().__str__())\n",
    "\n",
    "from data_utils import eval_dataset, get_nested_values, load_dataset, safe_loc, make_dataframe_from_sparql_response\n",
    "from evaluation_utils import  is_correct_SPARQL_query, keep_id_columns, cross_product_func, precision_recall_fscore_support_wrapper, average_precision_wrapper\n",
    "import argparse\n",
    "import json\n",
    "import logging\n",
    "import nltk\n",
    "import os\n",
    "import pandas as pd\n",
    "import evaluate\n"
   ]
  },
  {
   "cell_type": "code",
   "execution_count": 2,
   "metadata": {},
   "outputs": [],
   "source": [
    "arguments = {\n",
    "    \"dataset\": \"../datasets/Mistral-7B-Instruct-v0.2_rv16-ld0-bs1-p0-nta0-e3-basic_engpeft-t0.2-topp0.95_executed.parquet.gzip\",\n",
    "    \"preprocess_gold\": \"../datasets/preprocessed_gold.json\",\n",
    "    \"model\": \"Mistral-7B-Instruct-v0.2\",\n",
    "    \"output\": \".\",\n",
    "    \"save_name\": \"test\",\n",
    "    \"log_level\": \"warning\",\n",
    "    \"log_file\": \"\",\n",
    "}"
   ]
  },
  {
   "cell_type": "code",
   "execution_count": 3,
   "metadata": {},
   "outputs": [
    {
     "name": "stdout",
     "output_type": "stream",
     "text": [
      "Namespace(dataset='../datasets/Mistral-7B-Instruct-v0.2_rv16-ld0-bs1-p0-nta0-e3-basic_engpeft-t0.2-topp0.95_executed.parquet.gzip', preprocess_gold='../datasets/preprocessed_gold.json', model='Mistral-7B-Instruct-v0.2', output='.', save_name='test', log_level='warning', log_file='')\n"
     ]
    },
    {
     "data": {
      "text/plain": [
       "True"
      ]
     },
     "execution_count": 3,
     "metadata": {},
     "output_type": "execute_result"
    }
   ],
   "source": [
    "args = argparse.Namespace()\n",
    "args.__dict__.update(arguments)\n",
    "print(args)\n",
    "\n",
    "numeric_log_level = getattr(logging, args.log_level.upper(), None)\n",
    "if not isinstance(numeric_log_level, int):\n",
    "    raise ValueError(f\"Invalid log level: {args.log_level}.\")\n",
    "logging.basicConfig(filename=args.log_file if args.log_file else None, level=numeric_log_level)\n",
    "\n",
    "if not os.path.exists(args.dataset):\n",
    "    raise FileNotFoundError(f\"The dataset file not found with path: {args.dataset}\")\n",
    "\n",
    "if args.preprocess_gold != None and not os.path.exists(args.preprocess_gold):\n",
    "    raise FileNotFoundError(f\"The preprocess gold dataset file not found with path: {args.preprocess_gold}\")\n",
    "\n",
    "nltk.download('wordnet', quiet=True)"
   ]
  },
  {
   "cell_type": "code",
   "execution_count": 4,
   "metadata": {},
   "outputs": [],
   "source": [
    "df = load_dataset(args.dataset)\n",
    "df_exec_timeout = df.loc[df['execution'] == 'timeout']\n",
    "df_exec_fail = df.loc[df['execution'].str.startswith('exception')]\n",
    "df_exec_empty = df.loc[df['execution'].isnull()]\n",
    "df_exec_to_eval = df.drop(df_exec_timeout.index).drop(df_exec_fail.index).drop(df_exec_empty.index)\n",
    "df_eval = eval_dataset(df_exec_to_eval)\n",
    "df_eval['get_nested_values'] = df_eval.apply(lambda x: get_nested_values(x['eval']), axis=1)\n",
    "df_eval['eval_df'] = df_eval.apply(lambda x: make_dataframe_from_sparql_response(x['eval']), axis=1)\n",
    "df_eval['id_columns'] = df_eval.apply(lambda x: keep_id_columns(x['eval_df']), axis=1)"
   ]
  },
  {
   "cell_type": "code",
   "execution_count": 5,
   "metadata": {},
   "outputs": [],
   "source": [
    "df_gold_eval = None\n",
    "# if args.gold != None:\n",
    "#     df_gold = load_dataset(args.gold)\n",
    "#     df_gold_exec_timeout = df_gold.loc[df_gold['execution'] == 'timeout']\n",
    "#     df_gold_exec_fail = df_gold.loc[df_gold['execution'].str.startswith('exception')]\n",
    "#     df_gold_exec_empty = df_gold.loc[df_gold['execution'].isnull()]\n",
    "#     df_gold_exec_to_eval = df_gold.drop(df_gold_exec_timeout.index).drop(df_gold_exec_fail.index).drop(df_gold_exec_empty.index)\n",
    "#     df_gold_eval = eval_dataset(df_gold_exec_to_eval, \"gold_eval\")\n",
    "#     df_gold_eval['gold_get_nested_values'] = df_gold_eval.apply(lambda x: get_nested_values(x['gold_eval']), axis=1)\n",
    "# else:\n",
    "with open(args.preprocess_gold, \"r\") as f:\n",
    "    data = json.load(f)\n",
    "df_gold_eval = pd.read_json(data['df_gold_eval'])\n",
    "\n",
    "# TODO: newer version shouldn't need those 2 lines below\n",
    "df_gold_eval['gold_eval_df'] = df_gold_eval.apply(lambda x: make_dataframe_from_sparql_response(x['gold_eval']), axis=1)\n",
    "df_gold_eval['gold_id_columns'] = df_gold_eval.apply(lambda x: keep_id_columns(x['gold_eval_df']), axis=1)"
   ]
  },
  {
   "cell_type": "code",
   "execution_count": 32,
   "metadata": {},
   "outputs": [
    {
     "data": {
      "text/plain": [
       "Index(['query', 'description', 'context', 'prompt', 'num_tokens',\n",
       "       'start_with_SELECT', 'result', 'full_answer', 'is_skipped',\n",
       "       'is_prompt_too_long', 'execution', 'executed_query', 'input',\n",
       "       'target_template', 'target_raw', 'gold_eval', 'gold_get_nested_values',\n",
       "       'gold_eval_df', 'gold_id_columns'],\n",
       "      dtype='object')"
      ]
     },
     "execution_count": 32,
     "metadata": {},
     "output_type": "execute_result"
    }
   ],
   "source": [
    "df_gold_eval.columns"
   ]
  },
  {
   "cell_type": "code",
   "execution_count": 34,
   "metadata": {},
   "outputs": [],
   "source": [
    "df_gold_exec_timeout = df_gold_eval.loc[df_gold_eval['execution'] == 'timeout']\n",
    "df_gold_exec_fail = df_gold_eval.loc[df_gold_eval['execution'].str.startswith('exception')]\n",
    "df_gold_exec_empty = df_gold_eval.loc[df_gold_eval['execution'].isnull()]\n",
    "df_gold_exec_to_eval = df_gold_eval.drop(df_gold_exec_timeout.index).drop(df_gold_exec_fail.index).drop(df_gold_exec_empty.index)"
   ]
  },
  {
   "cell_type": "code",
   "execution_count": 6,
   "metadata": {},
   "outputs": [],
   "source": [
    "df_merged_eval = df_eval.copy()\n",
    "\n",
    "# Merging manually\n",
    "df_merged_eval[\"gold_eval\"] = df_merged_eval.apply(lambda x: safe_loc(x, df_gold_eval, \"gold_eval\", default=None), axis=1)\n",
    "df_merged_eval[\"gold_get_nested_values\"] = df_merged_eval.apply(lambda x: safe_loc(x, df_gold_eval, \"gold_get_nested_values\", default=[]), axis=1)\n",
    "df_merged_eval[\"gold_eval_df\"] = df_merged_eval.apply(lambda x: safe_loc(x, df_gold_eval, \"gold_eval_df\", default=pd.DataFrame()), axis=1)\n",
    "df_merged_eval[\"gold_id_columns\"] = df_merged_eval.apply(lambda x: safe_loc(x, df_gold_eval, \"gold_id_columns\", default=pd.DataFrame()), axis=1)"
   ]
  },
  {
   "cell_type": "code",
   "execution_count": 7,
   "metadata": {},
   "outputs": [],
   "source": [
    "# Computing metrics using scikit-learn\n",
    "\n",
    "df_merged_eval['get_nested_values_precision_recall_fscore'] = df_merged_eval.apply(lambda x: precision_recall_fscore_support_wrapper(\n",
    "    x['gold_get_nested_values'],\n",
    "    x['get_nested_values']\n",
    "), axis=1)\n",
    "\n",
    "df_merged_eval['cross_precision_recall_fscore'] = df_merged_eval.apply(lambda x: cross_product_func(\n",
    "    func=precision_recall_fscore_support_wrapper,\n",
    "    y_true=x['gold_eval_df'].apply(lambda y: y.fillna(value=\"\")),\n",
    "    y_pred=x['eval_df'].apply(lambda y: y.fillna(value=\"\")),\n",
    "    maximization=True,\n",
    "    use_binarizer=True,\n",
    "    average=\"samples\"\n",
    ")\n",
    ", axis=1)\n",
    "\n",
    "df_merged_eval['id_precision_recall_fscore'] = df_merged_eval.apply(lambda x: cross_product_func(\n",
    "    func=precision_recall_fscore_support_wrapper,\n",
    "    y_true=x['gold_id_columns'].apply(lambda y: y.fillna(value=\"\")),\n",
    "    y_pred=x['id_columns'].apply(lambda y: y.fillna(value=\"\")),\n",
    "    maximization=True,\n",
    "    use_binarizer=True,\n",
    "    average=\"samples\"\n",
    ")\n",
    ", axis=1)"
   ]
  },
  {
   "cell_type": "code",
   "execution_count": 8,
   "metadata": {},
   "outputs": [],
   "source": [
    "# Computing average precision with custom function\n",
    "df_merged_eval['get_nested_values_average_precision'] = df_merged_eval.apply(lambda x: average_precision_wrapper(\n",
    "    y_true=x['gold_get_nested_values'],\n",
    "    y_pred=x['get_nested_values']\n",
    "), axis=1)\n",
    "\n",
    "df_merged_eval['cross_average_precision'] = df_merged_eval.apply(lambda x: cross_product_func(\n",
    "    func=average_precision_wrapper,\n",
    "    y_true=x['gold_eval_df'].apply(lambda y: y.fillna(value=\"\")),\n",
    "    y_pred=x['eval_df'].apply(lambda y: y.fillna(value=\"\")),\n",
    "    maximization=True,\n",
    ")\n",
    ", axis=1)\n",
    "\n",
    "df_merged_eval['id_average_precision'] = df_merged_eval.apply(lambda x: cross_product_func(\n",
    "    func=average_precision_wrapper,\n",
    "    y_true=x['gold_id_columns'].apply(lambda y: y.fillna(value=\"\")),\n",
    "    y_pred=x['id_columns'].apply(lambda y: y.fillna(value=\"\")),\n",
    "    maximization=True,\n",
    ")\n",
    ", axis=1)"
   ]
  },
  {
   "cell_type": "code",
   "execution_count": 9,
   "metadata": {},
   "outputs": [
    {
     "name": "stdout",
     "output_type": "stream",
     "text": [
      "0.009584664536741214\n",
      "0.00044414841004824075\n",
      "0.0008038206890048989\n",
      "0.009584664536741214\n",
      "0.0015160835830373266\n",
      "0.002464304326856159\n",
      "0.006389776357827476\n",
      "4.285253227221984e-05\n",
      "8.500628832784739e-05\n"
     ]
    }
   ],
   "source": [
    "gnv_precision = df_merged_eval['get_nested_values_precision_recall_fscore'].map(lambda r: r[0] if isinstance(r, tuple) else 0).mean()\n",
    "gnv_recall = df_merged_eval['get_nested_values_precision_recall_fscore'].map(lambda r: r[1] if isinstance(r, tuple) else 0).mean()\n",
    "gnv_fscore = df_merged_eval['get_nested_values_precision_recall_fscore'].map(lambda r: r[2] if isinstance(r, tuple) else 0).mean()\n",
    "\n",
    "print(gnv_precision)\n",
    "print(gnv_recall)\n",
    "print(gnv_fscore)\n",
    "\n",
    "cross_precision = df_merged_eval['cross_precision_recall_fscore'].map(lambda r: r[0] if isinstance(r, tuple) else 0).mean()\n",
    "cross_recall = df_merged_eval['cross_precision_recall_fscore'].map(lambda r: r[1] if isinstance(r, tuple) else 0).mean()\n",
    "cross_fscore = df_merged_eval['cross_precision_recall_fscore'].map(lambda r: r[2] if isinstance(r, tuple) else 0).mean()\n",
    "\n",
    "print(cross_precision)\n",
    "print(cross_recall)\n",
    "print(cross_fscore)\n",
    "\n",
    "id_precision = df_merged_eval['id_precision_recall_fscore'].map(lambda r: r[0] if isinstance(r, tuple) else 0).mean()\n",
    "id_recall = df_merged_eval['id_precision_recall_fscore'].map(lambda r: r[1] if isinstance(r, tuple) else 0).mean()\n",
    "id_fscore = df_merged_eval['id_precision_recall_fscore'].map(lambda r: r[2] if isinstance(r, tuple) else 0).mean()\n",
    "\n",
    "print(id_precision)\n",
    "print(id_recall)\n",
    "print(id_fscore)"
   ]
  },
  {
   "cell_type": "code",
   "execution_count": 10,
   "metadata": {},
   "outputs": [
    {
     "name": "stdout",
     "output_type": "stream",
     "text": [
      "0.000356735740227207\n",
      "0.0007430034287544037\n",
      "3.925278995766968e-05\n"
     ]
    }
   ],
   "source": [
    "gnv_map = df_merged_eval['get_nested_values_average_precision'].mean()\n",
    "cross_map = df_merged_eval['cross_average_precision'].mean()\n",
    "id_map = df_merged_eval['id_average_precision'].mean()\n",
    "\n",
    "print(gnv_map)\n",
    "print(cross_map)\n",
    "print(id_map)"
   ]
  },
  {
   "cell_type": "code",
   "execution_count": 26,
   "metadata": {},
   "outputs": [
    {
     "name": "stderr",
     "output_type": "stream",
     "text": [
      "[nltk_data] Downloading package wordnet to C:\\Users\\Alexis\n",
      "[nltk_data]     Strappazzon\\AppData\\Roaming\\nltk_data...\n",
      "[nltk_data]   Package wordnet is already up-to-date!\n",
      "[nltk_data] Downloading package punkt to C:\\Users\\Alexis\n",
      "[nltk_data]     Strappazzon\\AppData\\Roaming\\nltk_data...\n",
      "[nltk_data]   Package punkt is already up-to-date!\n",
      "[nltk_data] Downloading package omw-1.4 to C:\\Users\\Alexis\n",
      "[nltk_data]     Strappazzon\\AppData\\Roaming\\nltk_data...\n",
      "[nltk_data]   Package omw-1.4 is already up-to-date!\n"
     ]
    }
   ],
   "source": [
    "nltk.download(\"punkt\", quiet=True)\n",
    "rouge_metric = evaluate.load(\"rouge\")\n",
    "bleu_metric = evaluate.load(\"bleu\")\n",
    "meteor_metric = evaluate.load(\"meteor\")\n",
    "\n",
    "decoded_labels = df_merged_eval['target_raw'].map(lambda x: \"\\n\".join(nltk.sent_tokenize(x.strip()))).to_list()\n",
    "decoded_preds = df_merged_eval['output'].map(lambda x: \"\\n\".join(nltk.sent_tokenize(x.strip()))).to_list()\n",
    "\n",
    "rouge_dict = rouge_metric.compute(predictions=decoded_preds, references=decoded_labels, use_stemmer=True)\n",
    "# bleu_score = corpus_bleu([[x.split()] for x in df['target_template']], [x.split() for x in df['translated_prompt']])\n",
    "bleu_dict = bleu_metric.compute(predictions=decoded_preds, references=decoded_labels)\n",
    "# meteor_dict = corpus_meteor(hypotheses=decoded_preds, references=decoded_labels)\n",
    "meteor_dict = meteor_metric.compute(predictions=decoded_preds, references=decoded_labels)\n",
    "correct_syntax = sum(list(map(lambda y: int(y[1]), df.apply(lambda x: is_correct_SPARQL_query(x['translated_prompt']), axis=1).items()))) / len(df)"
   ]
  },
  {
   "cell_type": "code",
   "execution_count": 42,
   "metadata": {},
   "outputs": [],
   "source": [
    "serie = pd.Series(data=\n",
    "    {\n",
    "        \"model_name\": args.model,\n",
    "        \"num_rows\": len(df),\n",
    "        \"num_gen_fail\": len(df.loc[df['has_error'] == True]),\n",
    "        \"num_exec_timeout\": len(df_exec_timeout),\n",
    "        \"num_exec_fail\": len(df_exec_fail),\n",
    "        \"num_exec_empty\": len(df_exec_empty),\n",
    "        \"num_exec_to_eval\": len(df_exec_to_eval),\n",
    "        \"num_eval\": len(df_eval),\n",
    "        \"num_eval_empty\": len(df_eval.loc[df_eval['eval'].map(len) == 0]),\n",
    "        \"gold_num_rows\": len(df_gold_eval),\n",
    "        \"gold_num_exec_timeout\": len(df_gold_exec_timeout),\n",
    "        \"gold_num_exec_fail\": len(df_gold_exec_fail),\n",
    "        \"gold_num_exec_empty\": len(df_gold_exec_empty),\n",
    "        \"gold_num_exec_to_eval\": len(df_gold_exec_to_eval),\n",
    "        \"gold_num_eval_empty\": len(df_gold_eval.loc[df_gold_eval['gold_eval'].map(len) == 0]),\n",
    "        \"bleu_score\": bleu_dict[\"bleu\"],\n",
    "        \"meteor_score\": meteor_dict['meteor'],\n",
    "        **rouge_dict,\n",
    "        \"get_nested_values_precision\": gnv_precision,\n",
    "        \"get_nested_values_recall\": gnv_recall,\n",
    "        \"get_nested_values_f1score\": gnv_fscore,\n",
    "        \"get_nested_values_mean_average_precision\": gnv_map,\n",
    "        \"id_precision\": id_precision,\n",
    "        \"id_recall\": id_recall,\n",
    "        \"id_f1score\": id_fscore,\n",
    "        \"id_mean_average_precision\": id_map,\n",
    "        \"cross_precision\": cross_precision,\n",
    "        \"cross_recall\": cross_recall,\n",
    "        \"cross_f1score\": cross_fscore,\n",
    "        \"cross_mean_average_precision\": cross_map,\n",
    "        \"correct_syntax\": correct_syntax,\n",
    "    })"
   ]
  },
  {
   "cell_type": "code",
   "execution_count": 43,
   "metadata": {},
   "outputs": [
    {
     "data": {
      "text/plain": [
       "model_name                                  Mistral-7B-Instruct-v0.2\n",
       "num_rows                                                         426\n",
       "num_gen_fail                                                      69\n",
       "num_exec_timeout                                                  22\n",
       "num_exec_fail                                                     91\n",
       "num_exec_empty                                                     0\n",
       "num_exec_to_eval                                                 313\n",
       "num_eval                                                         313\n",
       "num_eval_empty                                                   294\n",
       "gold_num_rows                                                    382\n",
       "gold_num_exec_timeout                                              0\n",
       "gold_num_exec_fail                                                 0\n",
       "gold_num_exec_empty                                                0\n",
       "gold_num_exec_to_eval                                            382\n",
       "gold_num_eval_empty                                               20\n",
       "bleu_score                                                  0.281276\n",
       "meteor_score                                                0.513885\n",
       "rouge1                                                      0.550554\n",
       "rouge2                                                      0.358205\n",
       "rougeL                                                      0.502115\n",
       "rougeLsum                                                   0.545968\n",
       "get_nested_values_precision                                 0.009585\n",
       "get_nested_values_recall                                    0.000444\n",
       "get_nested_values_f1score                                   0.000804\n",
       "get_nested_values_mean_average_precision                    0.000357\n",
       "id_precision                                                 0.00639\n",
       "id_recall                                                   0.000043\n",
       "id_f1score                                                  0.000085\n",
       "id_mean_average_precision                                   0.000039\n",
       "cross_precision                                             0.009585\n",
       "cross_recall                                                0.001516\n",
       "cross_f1score                                               0.002464\n",
       "cross_mean_average_precision                                0.000743\n",
       "correct_syntax                                              0.828638\n",
       "dtype: object"
      ]
     },
     "execution_count": 43,
     "metadata": {},
     "output_type": "execute_result"
    }
   ],
   "source": [
    "serie"
   ]
  }
 ],
 "metadata": {
  "kernelspec": {
   "display_name": "Python 3",
   "language": "python",
   "name": "python3"
  },
  "language_info": {
   "codemirror_mode": {
    "name": "ipython",
    "version": 3
   },
   "file_extension": ".py",
   "mimetype": "text/x-python",
   "name": "python",
   "nbconvert_exporter": "python",
   "pygments_lexer": "ipython3",
   "version": "3.8.10"
  }
 },
 "nbformat": 4,
 "nbformat_minor": 2
}
