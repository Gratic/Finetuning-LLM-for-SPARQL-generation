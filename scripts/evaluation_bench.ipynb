{
 "cells": [
  {
   "cell_type": "code",
   "execution_count": 1,
   "metadata": {},
   "outputs": [],
   "source": [
    "import sys\n",
    "from pathlib import Path\n",
    "sys.path.append(Path(\"../modules\").absolute().__str__())\n",
    "\n",
    "from data_utils import eval_dataset, get_nested_values, load_dataset, safe_loc, make_dataframe_from_sparql_response\n",
    "from evaluation_utils import (\n",
    "    average_precision_wrapper,\n",
    "    compute_metrics_for_two_df,\n",
    "    compute_metrics_for_two_list,\n",
    "    cross_product_func,\n",
    "    is_correct_SPARQL_query,\n",
    "    keep_id_columns,\n",
    "    load_and_merge_evaluation_and_gold_dataset,\n",
    "    precision_recall_fscore_support_wrapper,\n",
    ")\n",
    "import argparse\n",
    "import json\n",
    "import logging\n",
    "import nltk\n",
    "import os\n",
    "import pandas as pd\n",
    "import evaluate\n"
   ]
  },
  {
   "cell_type": "code",
   "execution_count": 2,
   "metadata": {},
   "outputs": [],
   "source": [
    "arguments = {\n",
    "    \"dataset\": \"../outputs/batch_run/experiment_basic_vs_template_2/execution/Mistral-7B-Instruct-v0.2_rv32-ld0-bs1-p0-nta0-e3-basic-basic_engpeft-t0.2-topp0.95_executed.parquet.gzip\",\n",
    "    \"preprocess_gold\": \"../outputs/batch_run/experiment_basic_vs_template/preprocessed_gold.json\",\n",
    "    \"model\": \"Mistral-7B-Instruct-v0.2\",\n",
    "    \"output\": \".\",\n",
    "    \"save_name\": \"test\",\n",
    "    \"log_level\": \"warning\",\n",
    "    \"log_file\": \"\",\n",
    "}"
   ]
  },
  {
   "cell_type": "code",
   "execution_count": 3,
   "metadata": {},
   "outputs": [
    {
     "name": "stdout",
     "output_type": "stream",
     "text": [
      "Namespace(dataset='../outputs/batch_run/experiment_basic_vs_template_2/execution/Mistral-7B-Instruct-v0.2_rv32-ld0-bs1-p0-nta0-e3-basic-basic_engpeft-t0.2-topp0.95_executed.parquet.gzip', log_file='', log_level='warning', model='Mistral-7B-Instruct-v0.2', output='.', preprocess_gold='../outputs/batch_run/experiment_basic_vs_template/preprocessed_gold.json', save_name='test')\n"
     ]
    },
    {
     "data": {
      "text/plain": [
       "True"
      ]
     },
     "execution_count": 3,
     "metadata": {},
     "output_type": "execute_result"
    }
   ],
   "source": [
    "args = argparse.Namespace()\n",
    "args.__dict__.update(arguments)\n",
    "print(args)\n",
    "\n",
    "numeric_log_level = getattr(logging, args.log_level.upper(), None)\n",
    "if not isinstance(numeric_log_level, int):\n",
    "    raise ValueError(f\"Invalid log level: {args.log_level}.\")\n",
    "logging.basicConfig(filename=args.log_file if args.log_file else None, level=numeric_log_level)\n",
    "\n",
    "if not os.path.exists(args.dataset):\n",
    "    raise FileNotFoundError(f\"The dataset file not found with path: {args.dataset}\")\n",
    "\n",
    "if args.preprocess_gold != None and not os.path.exists(args.preprocess_gold):\n",
    "    raise FileNotFoundError(f\"The preprocess gold dataset file not found with path: {args.preprocess_gold}\")\n",
    "\n",
    "nltk.download('wordnet', quiet=True)"
   ]
  },
  {
   "cell_type": "code",
   "execution_count": 4,
   "metadata": {},
   "outputs": [],
   "source": [
    "df, df_exec_timeout, df_exec_fail, df_exec_empty, df_exec_to_eval, df_eval, df_gold_eval, df_gold_exec_timeout, df_gold_exec_fail, df_gold_exec_empty, df_gold_exec_to_eval, df_merged_eval = load_and_merge_evaluation_and_gold_dataset(args)"
   ]
  },
  {
   "cell_type": "code",
   "execution_count": 5,
   "metadata": {},
   "outputs": [],
   "source": [
    "df_merged_eval = df_eval.copy()\n",
    "\n",
    "# Merging manually\n",
    "df_merged_eval[\"gold_eval\"] = df_merged_eval.apply(lambda x: safe_loc(x, df_gold_eval, \"gold_eval\", default=None), axis=1)\n",
    "df_merged_eval[\"gold_get_nested_values\"] = df_merged_eval.apply(lambda x: safe_loc(x, df_gold_eval, \"gold_get_nested_values\", default=[]), axis=1)\n",
    "df_merged_eval[\"gold_eval_df\"] = df_merged_eval.apply(lambda x: safe_loc(x, df_gold_eval, \"gold_eval_df\", default=pd.DataFrame()), axis=1)\n",
    "df_merged_eval[\"gold_id_columns\"] = df_merged_eval.apply(lambda x: safe_loc(x, df_gold_eval, \"gold_id_columns\", default=pd.DataFrame()), axis=1)"
   ]
  },
  {
   "cell_type": "code",
   "execution_count": 6,
   "metadata": {},
   "outputs": [],
   "source": [
    "# Computing metrics using scikit-learn\n",
    "\n",
    "df_merged_eval['nested_metrics'] = df_merged_eval.apply(lambda x: compute_metrics_for_two_list(results=x['get_nested_values'], gold=x['gold_get_nested_values'], k=5), axis=1)\n",
    "df_merged_eval['cross_metrics'] = df_merged_eval.apply(lambda x: compute_metrics_for_two_df(results=x['eval_df'], gold=x['gold_eval_df'], k=5), axis=1)\n",
    "df_merged_eval['id_metrics'] = df_merged_eval.apply(lambda x: compute_metrics_for_two_df(results=x['id_columns'], gold=x['gold_id_columns'], k=5), axis=1)\n"
   ]
  },
  {
   "cell_type": "code",
   "execution_count": 7,
   "metadata": {},
   "outputs": [],
   "source": [
    "nested_metrics = pd.DataFrame(data=df_merged_eval['nested_metrics'].map(lambda x: x._asdict()).to_list())\n",
    "cross_metrics = pd.DataFrame(data=df_merged_eval['cross_metrics'].map(lambda x: x._asdict()).to_list())\n",
    "id_metrics = pd.DataFrame(data=df_merged_eval['id_metrics'].map(lambda x: x._asdict()).to_list())"
   ]
  },
  {
   "cell_type": "code",
   "execution_count": 8,
   "metadata": {},
   "outputs": [
    {
     "name": "stdout",
     "output_type": "stream",
     "text": [
      "0.006215837539534543\n",
      "0.008372093023255815\n",
      "0.009302325581395349\n",
      "0.012209302325581395\n",
      "0.008229536591004113\n",
      "0.011162790697674419\n",
      "0.01627906976744186\n",
      "0.01627906976744186\n",
      "0.007919452064788817\n",
      "0.008837209302325582\n",
      "0.011627906976744186\n",
      "0.009767441860465118\n"
     ]
    }
   ],
   "source": [
    "gnv_map = nested_metrics['mean_average_precision'].mean()\n",
    "gnv_precision = nested_metrics['precision_k'].mean()\n",
    "gnv_recall = nested_metrics['recall_k'].mean()\n",
    "gnv_rr = nested_metrics['mean_reciprocal_rank'].mean()\n",
    "\n",
    "print(gnv_map)\n",
    "print(gnv_precision)\n",
    "print(gnv_recall)\n",
    "print(gnv_rr)\n",
    "\n",
    "cross_map = cross_metrics['mean_average_precision'].mean()\n",
    "cross_precision = cross_metrics['precision_k'].mean()\n",
    "cross_recall = cross_metrics['recall_k'].mean()\n",
    "cross_rr = cross_metrics['mean_reciprocal_rank'].mean()\n",
    "\n",
    "print(cross_map)\n",
    "print(cross_precision)\n",
    "print(cross_recall)\n",
    "print(cross_rr)\n",
    "\n",
    "id_map = id_metrics['mean_average_precision'].mean()\n",
    "id_precision = id_metrics['precision_k'].mean()\n",
    "id_recall = id_metrics['recall_k'].mean()\n",
    "id_rr = id_metrics['mean_reciprocal_rank'].mean()\n",
    "\n",
    "print(id_map)\n",
    "print(id_precision)\n",
    "print(id_recall)\n",
    "print(id_rr)"
   ]
  },
  {
   "cell_type": "code",
   "execution_count": 9,
   "metadata": {},
   "outputs": [
    {
     "name": "stderr",
     "output_type": "stream",
     "text": [
      "[nltk_data] Downloading package wordnet to /root/nltk_data...\n",
      "[nltk_data]   Package wordnet is already up-to-date!\n",
      "[nltk_data] Downloading package punkt to /root/nltk_data...\n",
      "[nltk_data]   Package punkt is already up-to-date!\n",
      "[nltk_data] Downloading package omw-1.4 to /root/nltk_data...\n",
      "[nltk_data]   Package omw-1.4 is already up-to-date!\n"
     ]
    }
   ],
   "source": [
    "nltk.download(\"punkt\", quiet=True)\n",
    "rouge_metric = evaluate.load(\"rouge\")\n",
    "bleu_metric = evaluate.load(\"bleu\")\n",
    "meteor_metric = evaluate.load(\"meteor\")\n",
    "\n",
    "decoded_labels = df_merged_eval['target_raw'].map(lambda x: \"\\n\".join(nltk.sent_tokenize(x.strip()))).to_list()\n",
    "decoded_preds = df_merged_eval['output'].map(lambda x: \"\\n\".join(nltk.sent_tokenize(x.strip()))).to_list()\n",
    "\n",
    "rouge_dict = rouge_metric.compute(predictions=decoded_preds, references=decoded_labels, use_stemmer=True)\n",
    "# bleu_score = corpus_bleu([[x.split()] for x in df['target_template']], [x.split() for x in df['translated_prompt']])\n",
    "bleu_dict = bleu_metric.compute(predictions=decoded_preds, references=decoded_labels)\n",
    "# meteor_dict = corpus_meteor(hypotheses=decoded_preds, references=decoded_labels)\n",
    "meteor_dict = meteor_metric.compute(predictions=decoded_preds, references=decoded_labels)\n",
    "correct_syntax = sum(list(map(lambda y: int(y[1]), df.apply(lambda x: is_correct_SPARQL_query(x['output']), axis=1).items()))) / len(df)"
   ]
  },
  {
   "cell_type": "code",
   "execution_count": 10,
   "metadata": {},
   "outputs": [],
   "source": [
    "serie = pd.Series(data=\n",
    "    {\n",
    "        \"model_name\": args.model,\n",
    "        \"num_rows\": len(df),\n",
    "        \"num_gen_fail\": len(df.loc[df['has_error'] == True]),\n",
    "        \"num_exec_timeout\": len(df_exec_timeout),\n",
    "        \"num_exec_fail\": len(df_exec_fail),\n",
    "        \"num_exec_empty\": len(df_exec_empty),\n",
    "        \"num_exec_to_eval\": len(df_exec_to_eval),\n",
    "        \"num_eval\": len(df_eval),\n",
    "        \"num_eval_empty\": len(df_eval.loc[df_eval['eval'].map(len) == 0]),\n",
    "        \"gold_num_rows\": len(df_gold_eval),\n",
    "        \"gold_num_exec_timeout\": len(df_gold_exec_timeout),\n",
    "        \"gold_num_exec_fail\": len(df_gold_exec_fail),\n",
    "        \"gold_num_exec_empty\": len(df_gold_exec_empty),\n",
    "        \"gold_num_exec_to_eval\": len(df_gold_exec_to_eval),\n",
    "        \"gold_num_eval_empty\": len(df_gold_eval.loc[df_gold_eval['gold_eval'].map(len) == 0]),\n",
    "        \"bleu_score\": bleu_dict[\"bleu\"],\n",
    "        \"meteor_score\": meteor_dict['meteor'],\n",
    "        **rouge_dict,\n",
    "        \"get_nested_values_precision\": gnv_precision,\n",
    "        \"get_nested_values_recall\": gnv_recall,\n",
    "        \"get_nested_values_mean_reciprocal_rank\": gnv_rr,\n",
    "        \"get_nested_values_mean_average_precision\": gnv_map,\n",
    "        \"id_precision\": id_precision,\n",
    "        \"id_recall\": id_recall,\n",
    "        \"id_mean_reciprocal_rank\": id_rr,\n",
    "        \"id_mean_average_precision\": id_map,\n",
    "        \"cross_precision\": cross_precision,\n",
    "        \"cross_recall\": cross_recall,\n",
    "        \"cross_mean_reciprocal_rank\": cross_rr,\n",
    "        \"cross_mean_average_precision\": cross_map,\n",
    "        \"correct_syntax\": correct_syntax,\n",
    "    })"
   ]
  },
  {
   "cell_type": "code",
   "execution_count": 11,
   "metadata": {},
   "outputs": [
    {
     "data": {
      "text/plain": [
       "model_name                                  Mistral-7B-Instruct-v0.2\n",
       "num_rows                                                         513\n",
       "num_gen_fail                                                      46\n",
       "num_exec_timeout                                                  15\n",
       "num_exec_fail                                                     22\n",
       "num_exec_empty                                                     0\n",
       "num_exec_to_eval                                                 430\n",
       "num_eval                                                         430\n",
       "num_eval_empty                                                   406\n",
       "gold_num_rows                                                    503\n",
       "gold_num_exec_timeout                                             10\n",
       "gold_num_exec_fail                                                 0\n",
       "gold_num_exec_empty                                                0\n",
       "gold_num_exec_to_eval                                            503\n",
       "gold_num_eval_empty                                               19\n",
       "bleu_score                                                   0.26359\n",
       "meteor_score                                                0.490391\n",
       "rouge1                                                      0.522426\n",
       "rouge2                                                      0.324436\n",
       "rougeL                                                       0.46527\n",
       "rougeLsum                                                   0.518086\n",
       "get_nested_values_precision                                 0.008372\n",
       "get_nested_values_recall                                    0.009302\n",
       "get_nested_values_mean_reciprocal_rank                      0.012209\n",
       "get_nested_values_mean_average_precision                    0.006216\n",
       "id_precision                                                0.008837\n",
       "id_recall                                                   0.011628\n",
       "id_mean_reciprocal_rank                                     0.009767\n",
       "id_mean_average_precision                                   0.007919\n",
       "cross_precision                                             0.011163\n",
       "cross_recall                                                0.016279\n",
       "cross_mean_reciprocal_rank                                  0.016279\n",
       "cross_mean_average_precision                                 0.00823\n",
       "correct_syntax                                              0.898635\n",
       "dtype: object"
      ]
     },
     "execution_count": 11,
     "metadata": {},
     "output_type": "execute_result"
    }
   ],
   "source": [
    "serie"
   ]
  }
 ],
 "metadata": {
  "kernelspec": {
   "display_name": "Python 3",
   "language": "python",
   "name": "python3"
  },
  "language_info": {
   "codemirror_mode": {
    "name": "ipython",
    "version": 3
   },
   "file_extension": ".py",
   "mimetype": "text/x-python",
   "name": "python",
   "nbconvert_exporter": "python",
   "pygments_lexer": "ipython3",
   "version": "3.8.10"
  }
 },
 "nbformat": 4,
 "nbformat_minor": 2
}
