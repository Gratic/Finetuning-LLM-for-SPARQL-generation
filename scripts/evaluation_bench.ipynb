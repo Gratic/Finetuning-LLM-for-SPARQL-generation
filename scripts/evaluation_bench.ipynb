{
 "cells": [
  {
   "cell_type": "code",
   "execution_count": 1,
   "metadata": {},
   "outputs": [],
   "source": [
    "import sys\n",
    "from pathlib import Path\n",
    "sys.path.append(Path(\"../modules\").absolute().__str__())\n",
    "\n",
    "from nltk.translate.bleu_score import corpus_bleu\n",
    "import argparse\n",
    "import json\n",
    "import logging\n",
    "import nltk\n",
    "import os\n",
    "import pandas as pd\n",
    "from evaluation_utils import compute_precision, compute_recall, corpus_meteor, average_precision\n",
    "from data_utils import failed_generation_index, eval_dataset, get_nested_values, load_dataset, safe_loc"
   ]
  },
  {
   "cell_type": "code",
   "execution_count": 2,
   "metadata": {},
   "outputs": [],
   "source": [
    "arguments = {\n",
    "    \"dataset\": \"../datasets/Mistral-7B-Instruct-v0.2_rv16-ld0-bs1-p0-nta0-e3-basic_engpeft-t0.2-topp0.95_executed.parquet.gzip\",\n",
    "    \"preprocess_gold\": \"../datasets/preprocessed_gold.json\",\n",
    "    \"model\": \"Mistral-7B-Instruct-v0.2\",\n",
    "    \"output\": \".\",\n",
    "    \"save_name\": \"test\",\n",
    "    \"log_level\": \"warning\",\n",
    "    \"log_file\": \"\",\n",
    "}"
   ]
  },
  {
   "cell_type": "code",
   "execution_count": 3,
   "metadata": {},
   "outputs": [
    {
     "name": "stdout",
     "output_type": "stream",
     "text": [
      "Namespace(dataset='../datasets/Mistral-7B-Instruct-v0.2_rv16-ld0-bs1-p0-nta0-e3-basic_engpeft-t0.2-topp0.95_executed.parquet.gzip', preprocess_gold='../datasets/preprocessed_gold.json', model='Mistral-7B-Instruct-v0.2', output='.', save_name='test', log_level='warning', log_file='')\n"
     ]
    },
    {
     "data": {
      "text/plain": [
       "True"
      ]
     },
     "execution_count": 3,
     "metadata": {},
     "output_type": "execute_result"
    }
   ],
   "source": [
    "args = argparse.Namespace()\n",
    "args.__dict__.update(arguments)\n",
    "print(args)\n",
    "\n",
    "numeric_log_level = getattr(logging, args.log_level.upper(), None)\n",
    "if not isinstance(numeric_log_level, int):\n",
    "    raise ValueError(f\"Invalid log level: {args.log_level}.\")\n",
    "logging.basicConfig(filename=args.log_file if args.log_file else None, level=numeric_log_level)\n",
    "\n",
    "if not os.path.exists(args.dataset):\n",
    "    raise FileNotFoundError(f\"The dataset file not found with path: {args.dataset}\")\n",
    "\n",
    "if args.preprocess_gold != None and not os.path.exists(args.preprocess_gold):\n",
    "    raise FileNotFoundError(f\"The preprocess gold dataset file not found with path: {args.preprocess_gold}\")\n",
    "\n",
    "nltk.download('wordnet', quiet=True)"
   ]
  },
  {
   "cell_type": "code",
   "execution_count": 4,
   "metadata": {},
   "outputs": [],
   "source": [
    "df = load_dataset(args.dataset)\n",
    "df_no_gen_fail = df # df.drop(failed_generation_index(df))\n",
    "df_exec_timeout = df_no_gen_fail.loc[df_no_gen_fail['execution'] == 'timeout']\n",
    "df_exec_fail = df_no_gen_fail.loc[df_no_gen_fail['execution'].str.startswith('exception')]\n",
    "df_exec_empty = df_no_gen_fail.loc[df_no_gen_fail['execution'].isnull()]\n",
    "df_exec_to_eval = df_no_gen_fail.drop(df_exec_timeout.index).drop(df_exec_fail.index).drop(df_exec_empty.index)\n",
    "df_eval = eval_dataset(df_exec_to_eval)\n",
    "df_eval['get_nested_values'] = df_eval.apply(lambda x: get_nested_values(x['eval']), axis=1)"
   ]
  },
  {
   "cell_type": "code",
   "execution_count": 6,
   "metadata": {},
   "outputs": [],
   "source": [
    "df_gold_eval = None\n",
    "# if args.gold != None:\n",
    "#     df_gold = load_dataset(args.gold)\n",
    "#     df_gold_exec_timeout = df_gold.loc[df_gold['execution'] == 'timeout']\n",
    "#     df_gold_exec_fail = df_gold.loc[df_gold['execution'].str.startswith('exception')]\n",
    "#     df_gold_exec_empty = df_gold.loc[df_gold['execution'].isnull()]\n",
    "#     df_gold_exec_to_eval = df_gold.drop(df_gold_exec_timeout.index).drop(df_gold_exec_fail.index).drop(df_gold_exec_empty.index)\n",
    "#     df_gold_eval = eval_dataset(df_gold_exec_to_eval, \"gold_eval\")\n",
    "#     df_gold_eval['gold_get_nested_values'] = df_gold_eval.apply(lambda x: get_nested_values(x['gold_eval']), axis=1)\n",
    "# else:\n",
    "with open(args.preprocess_gold, \"r\") as f:\n",
    "    data = json.load(f)\n",
    "df_gold_eval = pd.read_json(data['df_gold_eval'])"
   ]
  },
  {
   "cell_type": "code",
   "execution_count": 7,
   "metadata": {},
   "outputs": [],
   "source": [
    "df_merged_eval = df_eval.copy()\n",
    "\n",
    "# Merging manually\n",
    "df_merged_eval[\"gold_eval\"] = df_merged_eval.apply(lambda x: safe_loc(x, df_gold_eval, \"gold_eval\", default=None), axis=1)\n",
    "df_merged_eval[\"gold_get_nested_values\"] = df_merged_eval.apply(lambda x: safe_loc(x, df_gold_eval, \"gold_get_nested_values\", default=[]), axis=1)"
   ]
  },
  {
   "cell_type": "code",
   "execution_count": 8,
   "metadata": {},
   "outputs": [],
   "source": [
    "# Computing metrics\n",
    "df_merged_eval[\"precision\"] = df_merged_eval.apply(lambda x: compute_precision(x['get_nested_values'], x['gold_get_nested_values']), axis=1)\n",
    "df_merged_eval[\"recall\"] = df_merged_eval.apply(lambda x: compute_recall(x['get_nested_values'], x['gold_get_nested_values']), axis=1)\n",
    "df_merged_eval[\"average_precision\"] = df_merged_eval.apply(lambda x: average_precision(x['get_nested_values'], x['gold_get_nested_values'], k_max=100000), axis=1)"
   ]
  },
  {
   "cell_type": "code",
   "execution_count": 9,
   "metadata": {},
   "outputs": [],
   "source": [
    "m_precision = df_merged_eval['precision'].mean()\n",
    "m_recall = df_merged_eval['recall'].mean()\n",
    "m_fscore = 2*m_precision*m_recall/(m_precision+m_recall)\n",
    "mean_average_precision = df_merged_eval['average_precision'].mean()"
   ]
  },
  {
   "cell_type": "code",
   "execution_count": 10,
   "metadata": {},
   "outputs": [],
   "source": [
    "bleu_score = corpus_bleu([[x.split()] for x in df_no_gen_fail['target_template']], [x.split() for x in df_no_gen_fail['translated_prompt']])\n",
    "meteor_score = corpus_meteor(df_no_gen_fail['target_template'], df_no_gen_fail['translated_prompt'])\n",
    "# TODO: add the correct syntax metric"
   ]
  },
  {
   "cell_type": "code",
   "execution_count": 11,
   "metadata": {},
   "outputs": [],
   "source": [
    "serie = pd.Series(data=\n",
    "    {\n",
    "        \"model_name\": args.model,\n",
    "        \"num_rows\": len(df),\n",
    "        \"num_gen_fail\": len(df.loc[df['has_error'] == True]),\n",
    "        \"num_exec_timeout\": len(df_exec_timeout),\n",
    "        \"num_exec_fail\": len(df_exec_fail),\n",
    "        \"num_exec_empty\": len(df_exec_empty),\n",
    "        \"num_exec_to_eval\": len(df_exec_to_eval),\n",
    "        \"num_eval\": len(df_eval),\n",
    "        \"num_eval_empty\": len(df_eval.loc[df_eval['eval'].map(len) == 0]),\n",
    "        \"bleu_score\": bleu_score,\n",
    "        \"meteor_score\": meteor_score,\n",
    "        \"precision\": m_precision,\n",
    "        \"recall\": m_recall,\n",
    "        \"f1score\": m_fscore,\n",
    "        \"mean_average_precision\": mean_average_precision,\n",
    "    })"
   ]
  },
  {
   "cell_type": "code",
   "execution_count": 12,
   "metadata": {},
   "outputs": [
    {
     "data": {
      "text/plain": [
       "model_name                Mistral-7B-Instruct-v0.2\n",
       "num_rows                                       426\n",
       "num_gen_fail                                    69\n",
       "num_exec_timeout                                22\n",
       "num_exec_fail                                   91\n",
       "num_exec_empty                                   0\n",
       "num_exec_to_eval                               313\n",
       "num_eval                                       313\n",
       "num_eval_empty                                 294\n",
       "bleu_score                                0.009727\n",
       "meteor_score                              0.147948\n",
       "precision                                 0.651757\n",
       "recall                                    0.651757\n",
       "f1score                                   0.651757\n",
       "mean_average_precision                         0.0\n",
       "dtype: object"
      ]
     },
     "execution_count": 12,
     "metadata": {},
     "output_type": "execute_result"
    }
   ],
   "source": [
    "serie"
   ]
  }
 ],
 "metadata": {
  "kernelspec": {
   "display_name": "Python 3",
   "language": "python",
   "name": "python3"
  },
  "language_info": {
   "codemirror_mode": {
    "name": "ipython",
    "version": 3
   },
   "file_extension": ".py",
   "mimetype": "text/x-python",
   "name": "python",
   "nbconvert_exporter": "python",
   "pygments_lexer": "ipython3",
   "version": "3.10.8"
  }
 },
 "nbformat": 4,
 "nbformat_minor": 2
}
