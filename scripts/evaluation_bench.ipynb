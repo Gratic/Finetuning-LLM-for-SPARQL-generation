{
 "cells": [
  {
   "cell_type": "code",
   "execution_count": 41,
   "metadata": {},
   "outputs": [],
   "source": [
    "import sys\n",
    "from pathlib import Path\n",
    "sys.path.append(Path(\"../modules\").absolute().__str__())\n",
    "\n",
    "from nltk.translate.bleu_score import corpus_bleu\n",
    "import argparse\n",
    "import json\n",
    "import logging\n",
    "import nltk\n",
    "import os\n",
    "import pandas as pd\n",
    "from evaluation_utils import compute_precision, compute_recall, corpus_meteor, average_precision, is_correct_SPARQL_query, find_id_column, cross_product_func\n",
    "from data_utils import eval_dataset, get_nested_values, load_dataset, safe_loc, series_or_dataframe_to_list, make_dataframe_from_sparql_response\n",
    "\n",
    "from sklearn.metrics import f1_score\n",
    "from sklearn.preprocessing import MultiLabelBinarizer\n",
    "import warnings"
   ]
  },
  {
   "cell_type": "code",
   "execution_count": 2,
   "metadata": {},
   "outputs": [],
   "source": [
    "arguments = {\n",
    "    \"dataset\": \"../outputs/batch_run/faith_template5/execution/Mistral-7B-Instruct-v0.2_rv16-ld0.05-bs1-p0-nta1-e3-template_engpeft-t0.2-topp0.95_executed.parquet.gzip\",\n",
    "    \"preprocess_gold\": \"../outputs/preprocessed_gold.json\",\n",
    "    \"model\": \"Mistral-7B-Instruct-v0.2\",\n",
    "    \"output\": \".\",\n",
    "    \"save_name\": \"test\",\n",
    "    \"log_level\": \"warning\",\n",
    "    \"log_file\": \"\",\n",
    "}"
   ]
  },
  {
   "cell_type": "code",
   "execution_count": 3,
   "metadata": {},
   "outputs": [
    {
     "name": "stdout",
     "output_type": "stream",
     "text": [
      "Namespace(dataset='../outputs/batch_run/faith_template5/execution/Mistral-7B-Instruct-v0.2_rv16-ld0.05-bs1-p0-nta1-e3-template_engpeft-t0.2-topp0.95_executed.parquet.gzip', log_file='', log_level='warning', model='Mistral-7B-Instruct-v0.2', output='.', preprocess_gold='../outputs/preprocessed_gold.json', save_name='test')\n"
     ]
    },
    {
     "data": {
      "text/plain": [
       "True"
      ]
     },
     "execution_count": 3,
     "metadata": {},
     "output_type": "execute_result"
    }
   ],
   "source": [
    "args = argparse.Namespace()\n",
    "args.__dict__.update(arguments)\n",
    "print(args)\n",
    "\n",
    "numeric_log_level = getattr(logging, args.log_level.upper(), None)\n",
    "if not isinstance(numeric_log_level, int):\n",
    "    raise ValueError(f\"Invalid log level: {args.log_level}.\")\n",
    "logging.basicConfig(filename=args.log_file if args.log_file else None, level=numeric_log_level)\n",
    "\n",
    "if not os.path.exists(args.dataset):\n",
    "    raise FileNotFoundError(f\"The dataset file not found with path: {args.dataset}\")\n",
    "\n",
    "if args.preprocess_gold != None and not os.path.exists(args.preprocess_gold):\n",
    "    raise FileNotFoundError(f\"The preprocess gold dataset file not found with path: {args.preprocess_gold}\")\n",
    "\n",
    "nltk.download('wordnet', quiet=True)"
   ]
  },
  {
   "cell_type": "code",
   "execution_count": 4,
   "metadata": {},
   "outputs": [],
   "source": [
    "df = load_dataset(args.dataset)\n",
    "df_no_gen_fail = df # df.drop(failed_generation_index(df))\n",
    "df_exec_timeout = df_no_gen_fail.loc[df_no_gen_fail['execution'] == 'timeout']\n",
    "df_exec_fail = df_no_gen_fail.loc[df_no_gen_fail['execution'].str.startswith('exception')]\n",
    "df_exec_empty = df_no_gen_fail.loc[df_no_gen_fail['execution'].isnull()]\n",
    "df_exec_to_eval = df_no_gen_fail.drop(df_exec_timeout.index).drop(df_exec_fail.index).drop(df_exec_empty.index)\n",
    "df_eval = eval_dataset(df_exec_to_eval)\n",
    "df_eval['get_nested_values'] = df_eval.apply(lambda x: get_nested_values(x['eval']), axis=1)\n",
    "df_eval['eval_df'] = df_eval.apply(lambda x: make_dataframe_from_sparql_response(x['eval']), axis=1)\n",
    "df_eval['id_column'] = df_eval.apply(lambda x: x['eval_df'][find_id_column(x['eval_df'])] if find_id_column(x['eval_df']) != None else None, axis=1)"
   ]
  },
  {
   "cell_type": "code",
   "execution_count": 5,
   "metadata": {},
   "outputs": [],
   "source": [
    "df_gold_eval = None\n",
    "# if args.gold != None:\n",
    "#     df_gold = load_dataset(args.gold)\n",
    "#     df_gold_exec_timeout = df_gold.loc[df_gold['execution'] == 'timeout']\n",
    "#     df_gold_exec_fail = df_gold.loc[df_gold['execution'].str.startswith('exception')]\n",
    "#     df_gold_exec_empty = df_gold.loc[df_gold['execution'].isnull()]\n",
    "#     df_gold_exec_to_eval = df_gold.drop(df_gold_exec_timeout.index).drop(df_gold_exec_fail.index).drop(df_gold_exec_empty.index)\n",
    "#     df_gold_eval = eval_dataset(df_gold_exec_to_eval, \"gold_eval\")\n",
    "#     df_gold_eval['gold_get_nested_values'] = df_gold_eval.apply(lambda x: get_nested_values(x['gold_eval']), axis=1)\n",
    "# else:\n",
    "with open(args.preprocess_gold, \"r\") as f:\n",
    "    data = json.load(f)\n",
    "df_gold_eval = pd.read_json(data['df_gold_eval'])\n",
    "df_gold_eval['gold_eval_df'] = df_gold_eval.apply(lambda x: make_dataframe_from_sparql_response(x['gold_eval']), axis=1)\n",
    "df_gold_eval['gold_id_column'] = df_gold_eval.apply(lambda x: pd.DataFrame(data=x['gold_eval_df'][find_id_column(x['gold_eval_df'])]) if find_id_column(x['gold_eval_df']) != None else None, axis=1)"
   ]
  },
  {
   "cell_type": "code",
   "execution_count": 6,
   "metadata": {},
   "outputs": [],
   "source": [
    "df_merged_eval = df_eval.copy()\n",
    "\n",
    "# Merging manually\n",
    "df_merged_eval[\"gold_eval\"] = df_merged_eval.apply(lambda x: safe_loc(x, df_gold_eval, \"gold_eval\", default=None), axis=1)\n",
    "df_merged_eval[\"gold_get_nested_values\"] = df_merged_eval.apply(lambda x: safe_loc(x, df_gold_eval, \"gold_get_nested_values\", default=[]), axis=1)\n",
    "df_merged_eval[\"gold_eval_df\"] = df_merged_eval.apply(lambda x: safe_loc(x, df_gold_eval, \"gold_eval_df\", default=pd.DataFrame()), axis=1)\n",
    "df_merged_eval[\"gold_id_column\"] = df_merged_eval.apply(lambda x: series_or_dataframe_to_list(pd.DataFrame(data=safe_loc(x, df_gold_eval, \"gold_id_column\", default=None, as_serie=True))), axis=1)"
   ]
  },
  {
   "cell_type": "code",
   "execution_count": 46,
   "metadata": {},
   "outputs": [],
   "source": [
    "# Computing metrics using scikit-learn\n",
    "\n",
    "df_merged_eval['get_nested_values_precision_recall_fscore'] = df_merged_eval.apply(lambda x: precision_recall_fscore_support_wrapper(\n",
    "    x['gold_get_nested_values'],\n",
    "    x['get_nested_values']\n",
    "), axis=1)\n",
    "\n",
    "df_merged_eval['cross_precision_recall_fscore'] = df_merged_eval.apply(lambda x: cross_product_func(\n",
    "    func=precision_recall_fscore_support,\n",
    "    y_true=x['gold_eval_df'].apply(lambda y: [y.fillna(value=\"\").to_list()]),\n",
    "    y_pred=x['eval_df'].apply(lambda y: [y.fillna(value=\"\").to_list()]),\n",
    "    maximization=True,\n",
    "    use_binarizer=True,\n",
    "    average=\"samples\"\n",
    ")\n",
    ", axis=1)"
   ]
  },
  {
   "cell_type": "code",
   "execution_count": 15,
   "metadata": {},
   "outputs": [],
   "source": [
    "# Computing metrics\n",
    "df_merged_eval[\"precision\"] = df_merged_eval.apply(lambda x: compute_precision(x['get_nested_values'], x['gold_get_nested_values']), axis=1)\n",
    "df_merged_eval[\"recall\"] = df_merged_eval.apply(lambda x: compute_recall(x['get_nested_values'], x['gold_get_nested_values']), axis=1)\n",
    "df_merged_eval[\"average_precision\"] = df_merged_eval.apply(lambda x: average_precision(x['get_nested_values'], x['gold_get_nested_values'], k_max=100000), axis=1)\n",
    "\n",
    "df_merged_eval[\"id_precision\"] = df_merged_eval.apply(lambda x: compute_precision(series_or_dataframe_to_list(x['id_column']), series_or_dataframe_to_list(x['gold_id_column'])), axis=1)\n",
    "df_merged_eval[\"id_recall\"] = df_merged_eval.apply(lambda x: compute_recall(series_or_dataframe_to_list(x['id_column']), series_or_dataframe_to_list(x['gold_id_column'])), axis=1)\n",
    "df_merged_eval[\"id_average_precision\"] = df_merged_eval.apply(lambda x: average_precision(series_or_dataframe_to_list(x['id_column']), series_or_dataframe_to_list(x['gold_id_column']), k_max=100000), axis=1)\n",
    "\n",
    "df_merged_eval[\"cross_precision\"] = df_merged_eval.apply(lambda x: cross_product_func(compute_precision, x['eval_df'], x['gold_eval_df'], maximization=True), axis=1)\n",
    "df_merged_eval[\"cross_recall\"] = df_merged_eval.apply(lambda x: cross_product_func(compute_recall, x['eval_df'], x['gold_eval_df'], maximization=True), axis=1)\n",
    "df_merged_eval[\"cross_average_precision\"] = df_merged_eval.apply(lambda x: cross_product_func(average_precision, x['eval_df'], x['gold_eval_df'], maximization=True, k_max=100000), axis=1)"
   ]
  },
  {
   "cell_type": "code",
   "execution_count": 16,
   "metadata": {},
   "outputs": [],
   "source": [
    "m_precision = df_merged_eval['precision'].mean()\n",
    "m_recall = df_merged_eval['recall'].mean()\n",
    "m_fscore = 2*m_precision*m_recall/(m_precision+m_recall)\n",
    "\n",
    "id_precision = df_merged_eval['id_precision'].mean()\n",
    "id_recall = df_merged_eval['id_recall'].mean()\n",
    "id_fscore = 2*id_precision*id_recall/(id_precision+id_recall)\n",
    "\n",
    "cross_precision = df_merged_eval['cross_precision'].mean()\n",
    "cross_recall = df_merged_eval['cross_recall'].mean()\n",
    "cross_fscore = 2*cross_precision*cross_recall/(cross_precision+cross_recall)\n",
    "\n",
    "mean_average_precision = df_merged_eval['average_precision'].mean()\n",
    "mean_id_average_precision = df_merged_eval['id_average_precision'].mean()\n",
    "mean_cross_average_precision = df_merged_eval['cross_average_precision'].mean()"
   ]
  },
  {
   "cell_type": "code",
   "execution_count": 55,
   "metadata": {},
   "outputs": [],
   "source": [
    "gnv_precision = [r[0] if isinstance(r, tuple) else 0 for r in df_merged_eval['get_nested_values_precision_recall_fscore'].to_list()]\n",
    "gnv_recall = [r[1] if isinstance(r, tuple) else 0 for r in df_merged_eval['get_nested_values_precision_recall_fscore'].to_list()]\n",
    "gnv_fscore = [r[2] if isinstance(r, tuple) else 0 for r in df_merged_eval['get_nested_values_precision_recall_fscore'].to_list()]"
   ]
  },
  {
   "cell_type": "code",
   "execution_count": 56,
   "metadata": {},
   "outputs": [
    {
     "name": "stdout",
     "output_type": "stream",
     "text": [
      "0.20161290322580644\n",
      "0.08576367429737423\n",
      "0.10232636509442887\n"
     ]
    }
   ],
   "source": [
    "gnv_prec = sum(gnv_precision) / len(gnv_precision)\n",
    "gnv_rec = sum(gnv_recall) / len(gnv_recall)\n",
    "gnv_fsc = sum(gnv_fscore) / len(gnv_fscore)\n",
    "\n",
    "print(gnv_prec)\n",
    "print(gnv_rec)\n",
    "print(gnv_fsc)"
   ]
  },
  {
   "cell_type": "code",
   "execution_count": 17,
   "metadata": {},
   "outputs": [],
   "source": [
    "bleu_score = corpus_bleu([[x.split()] for x in df_no_gen_fail['target_template']], [x.split() for x in df_no_gen_fail['translated_prompt']])\n",
    "meteor_score = corpus_meteor(df_no_gen_fail['target_template'], df_no_gen_fail['translated_prompt'])\n",
    "correct_syntax = sum(list(map(lambda y: int(y[1]), df_no_gen_fail.apply(lambda x: is_correct_SPARQL_query(x['translated_prompt']), axis=1).items()))) / len(df_no_gen_fail)"
   ]
  },
  {
   "cell_type": "code",
   "execution_count": 18,
   "metadata": {},
   "outputs": [],
   "source": [
    "serie = pd.Series(data=\n",
    "    {\n",
    "        \"model_name\": args.model,\n",
    "        \"num_rows\": len(df),\n",
    "        \"num_gen_fail\": len(df.loc[df['has_error'] == True]),\n",
    "        \"num_exec_timeout\": len(df_exec_timeout),\n",
    "        \"num_exec_fail\": len(df_exec_fail),\n",
    "        \"num_exec_empty\": len(df_exec_empty),\n",
    "        \"num_exec_to_eval\": len(df_exec_to_eval),\n",
    "        \"num_eval\": len(df_eval),\n",
    "        \"num_eval_empty\": len(df_eval.loc[df_eval['eval'].map(len) == 0]),\n",
    "        \"bleu_score\": bleu_score,\n",
    "        \"meteor_score\": meteor_score,\n",
    "        \"precision\": m_precision,\n",
    "        \"recall\": m_recall,\n",
    "        \"f1score\": m_fscore,\n",
    "        \"mean_average_precision\": mean_average_precision,\n",
    "        \"id_precision\": id_precision,\n",
    "        \"id_recall\": id_recall,\n",
    "        \"id_f1score\": id_fscore,\n",
    "        \"mean_id_average_precision\": mean_id_average_precision,\n",
    "        \"cross_precision\": cross_precision,\n",
    "        \"cross_recall\": cross_recall,\n",
    "        \"cross_f1score\": cross_fscore,\n",
    "        \"mean_cross_average_precision\": mean_cross_average_precision,\n",
    "        \"correct_syntax\": correct_syntax,\n",
    "    })"
   ]
  },
  {
   "cell_type": "code",
   "execution_count": 19,
   "metadata": {},
   "outputs": [
    {
     "data": {
      "text/plain": [
       "model_name                      Mistral-7B-Instruct-v0.2\n",
       "num_rows                                             511\n",
       "num_gen_fail                                         139\n",
       "num_exec_timeout                                      17\n",
       "num_exec_fail                                        246\n",
       "num_exec_empty                                         0\n",
       "num_exec_to_eval                                     248\n",
       "num_eval                                             248\n",
       "num_eval_empty                                       125\n",
       "bleu_score                                       0.03689\n",
       "meteor_score                                    0.240151\n",
       "precision                                       0.092549\n",
       "recall                                          0.085764\n",
       "f1score                                         0.089027\n",
       "mean_average_precision                          0.069879\n",
       "id_precision                                    0.090183\n",
       "id_recall                                       0.085074\n",
       "id_f1score                                      0.087554\n",
       "mean_id_average_precision                       0.076501\n",
       "cross_precision                                 0.132674\n",
       "cross_recall                                    0.118745\n",
       "cross_f1score                                   0.125324\n",
       "mean_cross_average_precision                    0.125195\n",
       "correct_syntax                                  0.722114\n",
       "dtype: object"
      ]
     },
     "execution_count": 19,
     "metadata": {},
     "output_type": "execute_result"
    }
   ],
   "source": [
    "serie"
   ]
  },
  {
   "cell_type": "code",
   "execution_count": 20,
   "metadata": {},
   "outputs": [
    {
     "data": {
      "text/html": [
       "<div>\n",
       "<style scoped>\n",
       "    .dataframe tbody tr th:only-of-type {\n",
       "        vertical-align: middle;\n",
       "    }\n",
       "\n",
       "    .dataframe tbody tr th {\n",
       "        vertical-align: top;\n",
       "    }\n",
       "\n",
       "    .dataframe thead th {\n",
       "        text-align: right;\n",
       "    }\n",
       "</style>\n",
       "<table border=\"1\" class=\"dataframe\">\n",
       "  <thead>\n",
       "    <tr style=\"text-align: right;\">\n",
       "      <th></th>\n",
       "      <th>eval_df</th>\n",
       "      <th>gold_eval_df</th>\n",
       "    </tr>\n",
       "    <tr>\n",
       "      <th>index</th>\n",
       "      <th></th>\n",
       "      <th></th>\n",
       "    </tr>\n",
       "  </thead>\n",
       "  <tbody>\n",
       "    <tr>\n",
       "      <th>1223</th>\n",
       "      <td>probe  \\\n",
       "0 ...</td>\n",
       "      <td>item   ...</td>\n",
       "    </tr>\n",
       "    <tr>\n",
       "      <th>1860</th>\n",
       "      <td>diseaseLabel\n",
       "0             influenz...</td>\n",
       "      <td>diseaseLabel numOfCases\n",
       "0       ...</td>\n",
       "    </tr>\n",
       "    <tr>\n",
       "      <th>1949</th>\n",
       "      <td>person    ...</td>\n",
       "      <td>item...</td>\n",
       "    </tr>\n",
       "  </tbody>\n",
       "</table>\n",
       "</div>"
      ],
      "text/plain": [
       "                                                 eval_df  \\\n",
       "index                                                      \n",
       "1223                                      probe  \\\n",
       "0 ...   \n",
       "1860              diseaseLabel\n",
       "0             influenz...   \n",
       "1949                                       person    ...   \n",
       "\n",
       "                                            gold_eval_df  \n",
       "index                                                     \n",
       "1223                                          item   ...  \n",
       "1860                 diseaseLabel numOfCases\n",
       "0       ...  \n",
       "1949                                             item...  "
      ]
     },
     "execution_count": 20,
     "metadata": {},
     "output_type": "execute_result"
    }
   ],
   "source": [
    "df_merged_eval[['eval_df', 'gold_eval_df']].loc[df_merged_eval['precision'] > df_merged_eval['cross_precision']].head()"
   ]
  }
 ],
 "metadata": {
  "kernelspec": {
   "display_name": "Python 3",
   "language": "python",
   "name": "python3"
  },
  "language_info": {
   "codemirror_mode": {
    "name": "ipython",
    "version": 3
   },
   "file_extension": ".py",
   "mimetype": "text/x-python",
   "name": "python",
   "nbconvert_exporter": "python",
   "pygments_lexer": "ipython3",
   "version": "3.8.10"
  }
 },
 "nbformat": 4,
 "nbformat_minor": 2
}
