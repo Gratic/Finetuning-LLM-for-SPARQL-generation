{
 "cells": [
  {
   "cell_type": "code",
   "execution_count": 3,
   "metadata": {},
   "outputs": [
    {
     "name": "stdout",
     "output_type": "stream",
     "text": [
      "['c:\\\\Users\\\\Alexis Strappazzon\\\\Documents\\\\git\\\\llm-lora-finetunning-sparql\\\\scripts', 'c:\\\\python310\\\\python310.zip', 'c:\\\\python310\\\\DLLs', 'c:\\\\python310\\\\lib', 'c:\\\\python310', 'c:\\\\Users\\\\Alexis Strappazzon\\\\Documents\\\\git\\\\llm-lora-finetunning-sparql\\\\.venv', '', 'c:\\\\Users\\\\Alexis Strappazzon\\\\Documents\\\\git\\\\llm-lora-finetunning-sparql\\\\.venv\\\\lib\\\\site-packages', 'c:\\\\Users\\\\Alexis Strappazzon\\\\Documents\\\\git\\\\llm-lora-finetunning-sparql\\\\.venv\\\\lib\\\\site-packages\\\\win32', 'c:\\\\Users\\\\Alexis Strappazzon\\\\Documents\\\\git\\\\llm-lora-finetunning-sparql\\\\.venv\\\\lib\\\\site-packages\\\\win32\\\\lib', 'c:\\\\Users\\\\Alexis Strappazzon\\\\Documents\\\\git\\\\llm-lora-finetunning-sparql\\\\.venv\\\\lib\\\\site-packages\\\\Pythonwin']\n",
      "['c:\\\\Users\\\\Alexis Strappazzon\\\\Documents\\\\git\\\\llm-lora-finetunning-sparql\\\\scripts', 'c:\\\\python310\\\\python310.zip', 'c:\\\\python310\\\\DLLs', 'c:\\\\python310\\\\lib', 'c:\\\\python310', 'c:\\\\Users\\\\Alexis Strappazzon\\\\Documents\\\\git\\\\llm-lora-finetunning-sparql\\\\.venv', '', 'c:\\\\Users\\\\Alexis Strappazzon\\\\Documents\\\\git\\\\llm-lora-finetunning-sparql\\\\.venv\\\\lib\\\\site-packages', 'c:\\\\Users\\\\Alexis Strappazzon\\\\Documents\\\\git\\\\llm-lora-finetunning-sparql\\\\.venv\\\\lib\\\\site-packages\\\\win32', 'c:\\\\Users\\\\Alexis Strappazzon\\\\Documents\\\\git\\\\llm-lora-finetunning-sparql\\\\.venv\\\\lib\\\\site-packages\\\\win32\\\\lib', 'c:\\\\Users\\\\Alexis Strappazzon\\\\Documents\\\\git\\\\llm-lora-finetunning-sparql\\\\.venv\\\\lib\\\\site-packages\\\\Pythonwin', 'c:\\\\Users\\\\Alexis Strappazzon\\\\Documents\\\\git\\\\llm-lora-finetunning-sparql\\\\scripts\\\\..\\\\modules']\n"
     ]
    }
   ],
   "source": [
    "import sys\n",
    "from pathlib import Path\n",
    "print(sys.path)\n",
    "sys.path.append(Path(\"../modules/\").absolute().__str__())\n",
    "print(sys.path)\n"
   ]
  },
  {
   "cell_type": "code",
   "execution_count": 4,
   "metadata": {},
   "outputs": [],
   "source": [
    "from libwikidatallm import PlaceholderFiller\n"
   ]
  }
 ],
 "metadata": {
  "kernelspec": {
   "display_name": ".venv",
   "language": "python",
   "name": "python3"
  },
  "language_info": {
   "codemirror_mode": {
    "name": "ipython",
    "version": 3
   },
   "file_extension": ".py",
   "mimetype": "text/x-python",
   "name": "python",
   "nbconvert_exporter": "python",
   "pygments_lexer": "ipython3",
   "version": "3.10.8"
  }
 },
 "nbformat": 4,
 "nbformat_minor": 2
}
