{
 "cells": [
  {
   "cell_type": "markdown",
   "metadata": {},
   "source": [
    "# Finding queries characteristics in the dataset"
   ]
  },
  {
   "cell_type": "markdown",
   "metadata": {},
   "source": [
    "In order to better understand the dataset, we can try to classify queries into multiple groups:\n",
    "- single hop / multiple hop\n",
    "- select / count"
   ]
  },
  {
   "cell_type": "code",
   "execution_count": 1,
   "metadata": {},
   "outputs": [],
   "source": [
    "import pandas as pd\n",
    "import re\n",
    "from multiprocesspandas import applyparallel"
   ]
  },
  {
   "cell_type": "code",
   "execution_count": 2,
   "metadata": {},
   "outputs": [
    {
     "data": {
      "text/html": [
       "<div>\n",
       "<style scoped>\n",
       "    .dataframe tbody tr th:only-of-type {\n",
       "        vertical-align: middle;\n",
       "    }\n",
       "\n",
       "    .dataframe tbody tr th {\n",
       "        vertical-align: top;\n",
       "    }\n",
       "\n",
       "    .dataframe thead th {\n",
       "        text-align: right;\n",
       "    }\n",
       "</style>\n",
       "<table border=\"1\" class=\"dataframe\">\n",
       "  <thead>\n",
       "    <tr style=\"text-align: right;\">\n",
       "      <th></th>\n",
       "      <th>query</th>\n",
       "      <th>description</th>\n",
       "      <th>context</th>\n",
       "      <th>prompt</th>\n",
       "      <th>num_tokens</th>\n",
       "      <th>start_with_SELECT</th>\n",
       "    </tr>\n",
       "  </thead>\n",
       "  <tbody>\n",
       "    <tr>\n",
       "      <th>0</th>\n",
       "      <td>SELECT ?property ?propertyType ?propertyLabel ...</td>\n",
       "      <td>Wikidata properties in numerical order</td>\n",
       "      <td>Counting stuff on Wikidata\\nAll Wikidata prope...</td>\n",
       "      <td>&lt;s&gt;[INST] &lt;&lt;SYS&gt;&gt;This is a conversation betwee...</td>\n",
       "      <td>267</td>\n",
       "      <td>True</td>\n",
       "    </tr>\n",
       "    <tr>\n",
       "      <th>1</th>\n",
       "      <td>SELECT ?id ?idLabel ?idDescription ?new{\\n?id ...</td>\n",
       "      <td>Wikidata properties excluding external IDs</td>\n",
       "      <td>Counting stuff on Wikidata\\nVariation of the a...</td>\n",
       "      <td>&lt;s&gt;[INST] &lt;&lt;SYS&gt;&gt;This is a conversation betwee...</td>\n",
       "      <td>296</td>\n",
       "      <td>True</td>\n",
       "    </tr>\n",
       "    <tr>\n",
       "      <th>2</th>\n",
       "      <td>SELECT (COUNT(?article) AS ?count)\\nWHERE {\\n?...</td>\n",
       "      <td></td>\n",
       "      <td>Counting stuff on Wikidata\\nCount of scientifi...</td>\n",
       "      <td>&lt;s&gt;[INST] &lt;&lt;SYS&gt;&gt;This is a conversation betwee...</td>\n",
       "      <td>197</td>\n",
       "      <td>True</td>\n",
       "    </tr>\n",
       "    <tr>\n",
       "      <th>3</th>\n",
       "      <td>SELECT (COUNT(DISTINCT ?article) AS ?count)\\nW...</td>\n",
       "      <td>Count of fictional characters</td>\n",
       "      <td>Counting stuff on Wikidata\\nCount of fictional...</td>\n",
       "      <td>&lt;s&gt;[INST] &lt;&lt;SYS&gt;&gt;This is a conversation betwee...</td>\n",
       "      <td>203</td>\n",
       "      <td>True</td>\n",
       "    </tr>\n",
       "    <tr>\n",
       "      <th>4</th>\n",
       "      <td>SELECT (COUNT(?item) AS ?count)\\nWHERE { ?item...</td>\n",
       "      <td>Count of items with coordinate locations</td>\n",
       "      <td>Counting stuff on Wikidata\\nCount of items wit...</td>\n",
       "      <td>&lt;s&gt;[INST] &lt;&lt;SYS&gt;&gt;This is a conversation betwee...</td>\n",
       "      <td>186</td>\n",
       "      <td>True</td>\n",
       "    </tr>\n",
       "  </tbody>\n",
       "</table>\n",
       "</div>"
      ],
      "text/plain": [
       "                                               query  \\\n",
       "0  SELECT ?property ?propertyType ?propertyLabel ...   \n",
       "1  SELECT ?id ?idLabel ?idDescription ?new{\\n?id ...   \n",
       "2  SELECT (COUNT(?article) AS ?count)\\nWHERE {\\n?...   \n",
       "3  SELECT (COUNT(DISTINCT ?article) AS ?count)\\nW...   \n",
       "4  SELECT (COUNT(?item) AS ?count)\\nWHERE { ?item...   \n",
       "\n",
       "                                  description  \\\n",
       "0      Wikidata properties in numerical order   \n",
       "1  Wikidata properties excluding external IDs   \n",
       "2                                               \n",
       "3               Count of fictional characters   \n",
       "4    Count of items with coordinate locations   \n",
       "\n",
       "                                             context  \\\n",
       "0  Counting stuff on Wikidata\\nAll Wikidata prope...   \n",
       "1  Counting stuff on Wikidata\\nVariation of the a...   \n",
       "2  Counting stuff on Wikidata\\nCount of scientifi...   \n",
       "3  Counting stuff on Wikidata\\nCount of fictional...   \n",
       "4  Counting stuff on Wikidata\\nCount of items wit...   \n",
       "\n",
       "                                              prompt  num_tokens  \\\n",
       "0  <s>[INST] <<SYS>>This is a conversation betwee...         267   \n",
       "1  <s>[INST] <<SYS>>This is a conversation betwee...         296   \n",
       "2  <s>[INST] <<SYS>>This is a conversation betwee...         197   \n",
       "3  <s>[INST] <<SYS>>This is a conversation betwee...         203   \n",
       "4  <s>[INST] <<SYS>>This is a conversation betwee...         186   \n",
       "\n",
       "   start_with_SELECT  \n",
       "0               True  \n",
       "1               True  \n",
       "2               True  \n",
       "3               True  \n",
       "4               True  "
      ]
     },
     "execution_count": 2,
     "metadata": {},
     "output_type": "execute_result"
    }
   ],
   "source": [
    "df = pd.read_json(\"../datasets/final_queries_v1.4.json\")\n",
    "df.head()"
   ]
  },
  {
   "cell_type": "code",
   "execution_count": 3,
   "metadata": {},
   "outputs": [
    {
     "name": "stdout",
     "output_type": "stream",
     "text": [
      "SELECT ?workLabel ?pubdate ?pubdatePrecision ?image ?typelabel ?english\n",
      "(URI(CONCAT(\"https://tools.wmflabs.org/reasonator/?q=\", SUBSTR(STR(?work),32) )) as ?reasonator) #build a reasonator link\n",
      "(IF(BOUND(?english), ?english, ?reasonator) as ?link) # link to English Wikipedia article, if available\n",
      "WHERE {\n",
      "?work wdt:P50 wd:Q9068; # author: Voltaire\n",
      "wdt:P31 ?type; # What is the work? poem, play, historical work etc.?\n",
      "p:P577/psv:P577 ?pubdateStatementNode\n",
      "MINUS {?work wdt:P31 wd:Q3331189} # exclude editions\n",
      "MINUS {?work wdt:P31 wd:Q105420} # exclude anthologies\n",
      "?pubdateStatementNode wikibase:timeValue ?pubdate ;\n",
      "wikibase:timePrecision ?pubdatePrecision # get precision of the publication date\n",
      "OPTIONAL {?work wdt:P18 ?image}\n",
      "OPTIONAL{ ?english schema:about ?work ; schema:isPartOf <https://en.wikipedia.org/> }\n",
      "SERVICE wikibase:label {bd:serviceParam wikibase:language \"fr,en,de\"} # Prefer labels in French but fall back to English and German\n",
      "?type rdfs:label ?typelabel FILTER(lang(?typelabel) =\"en\") # English labels for the types\n",
      "}\n"
     ]
    }
   ],
   "source": [
    "print(df.iloc[9].query)"
   ]
  },
  {
   "cell_type": "code",
   "execution_count": 4,
   "metadata": {},
   "outputs": [],
   "source": [
    "def remove_comments(query: str) -> str:\n",
    "    import re\n",
    "    return re.sub(\"#.*\", \"\", query)\n",
    "\n",
    "def remove_comments_parallel(x: pd.Series) -> str:\n",
    "    import re\n",
    "    return re.sub(\"#.*\", \"\", x['query'])\n"
   ]
  },
  {
   "cell_type": "code",
   "execution_count": 5,
   "metadata": {},
   "outputs": [
    {
     "name": "stderr",
     "output_type": "stream",
     "text": [
      "100%|██████████| 2842/2842 [00:01<00:00, 1881.97it/s]\n"
     ]
    }
   ],
   "source": [
    "df[\"query_no_comments\"] = df.apply_parallel(remove_comments_parallel, axis=0)"
   ]
  },
  {
   "cell_type": "code",
   "execution_count": 6,
   "metadata": {},
   "outputs": [
    {
     "name": "stdout",
     "output_type": "stream",
     "text": [
      "SELECT ?workLabel ?pubdate ?pubdatePrecision ?image ?typelabel ?english\n",
      "(URI(CONCAT(\"https://tools.wmflabs.org/reasonator/?q=\", SUBSTR(STR(?work),32) )) as ?reasonator) \n",
      "(IF(BOUND(?english), ?english, ?reasonator) as ?link) \n",
      "WHERE {\n",
      "?work wdt:P50 wd:Q9068; \n",
      "wdt:P31 ?type; \n",
      "p:P577/psv:P577 ?pubdateStatementNode\n",
      "MINUS {?work wdt:P31 wd:Q3331189} \n",
      "MINUS {?work wdt:P31 wd:Q105420} \n",
      "?pubdateStatementNode wikibase:timeValue ?pubdate ;\n",
      "wikibase:timePrecision ?pubdatePrecision \n",
      "OPTIONAL {?work wdt:P18 ?image}\n",
      "OPTIONAL{ ?english schema:about ?work ; schema:isPartOf <https://en.wikipedia.org/> }\n",
      "SERVICE wikibase:label {bd:serviceParam wikibase:language \"fr,en,de\"} \n",
      "?type rdfs:label ?typelabel FILTER(lang(?typelabel) =\"en\") \n",
      "}\n"
     ]
    }
   ],
   "source": [
    "print(df.iloc[9].query_no_comments)"
   ]
  },
  {
   "cell_type": "code",
   "execution_count": 15,
   "metadata": {},
   "outputs": [],
   "source": [
    "def is_single_hop(x: pd.Series, colname:str = \"query_no_comments\"):\n",
    "    import re\n",
    "    results = re.findall(r\"(?:WHERE)\\s?{[\\s\\S](?:\\?)?(?:\\w|:|\\/|\\*|\\[|\\])* (?:\\?)?(?:\\w|:|\\/|\\*|\\[|\\])* (?:\\?)?(?:\\w|:|\\/|\\*|\\[|\\])*\\s*}\", x[colname])\n",
    "    if results and len(results) == 1:\n",
    "        return True\n",
    "    return False\n",
    "        "
   ]
  },
  {
   "cell_type": "code",
   "execution_count": 16,
   "metadata": {},
   "outputs": [
    {
     "name": "stderr",
     "output_type": "stream",
     "text": [
      "100%|██████████| 2842/2842 [00:01<00:00, 1726.66it/s]\n"
     ]
    }
   ],
   "source": [
    "df[\"is_single_hop\"] = df.apply_parallel(is_single_hop, colname=\"query_no_comments\", axis=0)\n"
   ]
  },
  {
   "cell_type": "code",
   "execution_count": 17,
   "metadata": {},
   "outputs": [
    {
     "name": "stdout",
     "output_type": "stream",
     "text": [
      "SELECT (COUNT(?article) AS ?count)\n",
      "WHERE {\n",
      "?article wdt:P31/wdt:P279* wd:Q13442814\n",
      "}\n",
      "-----\n",
      "SELECT (COUNT(DISTINCT ?article) AS ?count)\n",
      "WHERE {?article wdt:P31/wdt:P279* wd:Q95074}\n",
      "-----\n",
      "SELECT (COUNT(?item) AS ?count)\n",
      "WHERE { ?item wdt:P625 [] }\n",
      "-----\n",
      "SELECT ?cbdb ?idlabel ?value WITH {\n",
      "SELECT DISTINCT ?item ?cbdb WHERE {\n",
      "?item wdt:P497 ?cbdb\n",
      "}\n",
      "} AS %subquery WHERE {\n",
      "INCLUDE %subquery .\n",
      "?id wikibase:propertyType wikibase:ExternalId; wikibase:claim ?p; wikibase:statementProperty ?ps; wdt:P31/wdt:P279* wd:Q19595382 FILTER( ?id != wd:P497 ).\n",
      "?item ?p [ ?ps ?value ] .\n",
      "?id rdfs:label ?idlabel FILTER (lang(?idlabel) = \"en\").\n",
      "} ORDER BY ?idlabel\n",
      "-----\n",
      "SELECT * WHERE {\n",
      "?item wdt:P31 wd:Q125576\n",
      "}\n"
     ]
    }
   ],
   "source": [
    "print(\"\\n-----\\n\".join(df.loc[df['is_single_hop']].query_no_comments.head()))\n"
   ]
  }
 ],
 "metadata": {
  "kernelspec": {
   "display_name": ".venv",
   "language": "python",
   "name": "python3"
  },
  "language_info": {
   "codemirror_mode": {
    "name": "ipython",
    "version": 3
   },
   "file_extension": ".py",
   "mimetype": "text/x-python",
   "name": "python",
   "nbconvert_exporter": "python",
   "pygments_lexer": "ipython3",
   "version": "3.10.8"
  }
 },
 "nbformat": 4,
 "nbformat_minor": 2
}
