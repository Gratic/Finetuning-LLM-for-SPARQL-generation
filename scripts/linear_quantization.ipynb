{
 "cells": [
  {
   "cell_type": "code",
   "execution_count": 1,
   "metadata": {},
   "outputs": [],
   "source": [
    "import torch"
   ]
  },
  {
   "cell_type": "code",
   "execution_count": 103,
   "metadata": {},
   "outputs": [],
   "source": [
    "def find_scale_and_zero_point(tensor: torch.Tensor):\n",
    "    r_max, r_min = tensor.max().item(), tensor.min().item()\n",
    "    \n",
    "    q_max, q_min = torch.iinfo(torch.int8).max, torch.iinfo(torch.int8).min\n",
    "    \n",
    "    scale = (r_max - r_min)/(q_max - q_min)\n",
    "    \n",
    "    zero_point = q_min - (r_min / scale)\n",
    "    \n",
    "    if zero_point < q_min:\n",
    "        zero_point = q_min\n",
    "    elif zero_point > q_max:\n",
    "        zero_point = q_max\n",
    "    else:\n",
    "        zero_point = int(round(zero_point))\n",
    "        \n",
    "    return scale, zero_point\n",
    "\n",
    "def find_scale_symmetric(tensor: torch.Tensor):\n",
    "    r_max = tensor.abs().max().item()\n",
    "    \n",
    "    q_max = torch.iinfo(torch.int8).max\n",
    "    \n",
    "    scale = r_max / q_max\n",
    "        \n",
    "    return scale\n",
    "\n",
    "def linear_quantization_with_scale_and_zero_point(tensor: torch.Tensor, scale, zero_point = 0):\n",
    "    q_max, q_min = torch.iinfo(torch.int8).max, torch.iinfo(torch.int8).min\n",
    "    \n",
    "    q_tensor = torch.round((tensor / scale) + zero_point)\n",
    "    q_tensor = torch.clamp(q_tensor, q_min, q_max).to(torch.int8)\n",
    "    \n",
    "    return q_tensor\n",
    "\n",
    "def linear_quantization(tensor: torch.Tensor):\n",
    "    scale, zero_point = find_scale_and_zero_point(tensor)\n",
    "    \n",
    "    return linear_quantization_with_scale_and_zero_point(tensor, scale, zero_point), scale, zero_point\n",
    "\n",
    "def linear_symmetric_quantization(tensor: torch.Tensor):\n",
    "    scale = find_scale_symmetric(tensor)\n",
    "    return linear_quantization_with_scale_and_zero_point(tensor, scale, 0), scale\n",
    "\n",
    "def linear_symmetric_quantization_per_channel(tensor: torch.Tensor, dim=0):\n",
    "    output_dim = tensor.shape[dim]\n",
    "    \n",
    "    # Prepare storing scales\n",
    "    scale = torch.zeros(output_dim)\n",
    "    \n",
    "    for i in range(output_dim):\n",
    "        sub_tensor = tensor.select(dim, i)\n",
    "        scale[i] = find_scale_symmetric(sub_tensor)\n",
    "    \n",
    "    scale_shape = [1] * tensor.dim()\n",
    "    scale_shape[dim] = -1\n",
    "    scale = scale.view(scale_shape)\n",
    "    \n",
    "    quantized_tensor = linear_quantization_with_scale_and_zero_point(tensor, scale, 0)\n",
    "    \n",
    "    return quantized_tensor, scale\n",
    "\n",
    "def dequantize_tensor(q_tensor: torch.Tensor, scale, zero_point = 0):\n",
    "    return scale * (q_tensor.to(torch.int16) - zero_point)"
   ]
  },
  {
   "cell_type": "code",
   "execution_count": 45,
   "metadata": {},
   "outputs": [
    {
     "data": {
      "text/plain": [
       "tensor([[1., 2., 3.],\n",
       "        [2., 3., 1.],\n",
       "        [2., 1., 3.]])"
      ]
     },
     "execution_count": 45,
     "metadata": {},
     "output_type": "execute_result"
    }
   ],
   "source": [
    "a = torch.Tensor([[1, 2, 3],\n",
    "                  [2, 3, 1],\n",
    "                  [2, 1, 3]])\n",
    "a"
   ]
  },
  {
   "cell_type": "code",
   "execution_count": 24,
   "metadata": {},
   "outputs": [
    {
     "data": {
      "text/plain": [
       "tensor([[ 191.6000,  -13.5000,  728.6000],\n",
       "        [  92.1400,  295.5000, -184.0000],\n",
       "        [   0.0000,  684.6000,  245.5000]])"
      ]
     },
     "execution_count": 24,
     "metadata": {},
     "output_type": "execute_result"
    }
   ],
   "source": [
    "test = torch.Tensor([[191.6, -13.5, 728.6],\n",
    "                    [92.14, 295.5,  -184],\n",
    "                    [0,     684.6, 245.5]])\n",
    "test"
   ]
  },
  {
   "cell_type": "code",
   "execution_count": 59,
   "metadata": {},
   "outputs": [
    {
     "data": {
      "text/plain": [
       "(tensor([[ 42,  85, 127],\n",
       "         [ 85, 127,  42],\n",
       "         [ 85,  42, 127]], dtype=torch.int8),\n",
       " tensor([[0.0236],\n",
       "         [0.0236],\n",
       "         [0.0236]]))"
      ]
     },
     "execution_count": 59,
     "metadata": {},
     "output_type": "execute_result"
    }
   ],
   "source": [
    "quant_a, scale = linear_symmetric_quantization_per_channel(a, 0)\n",
    "quant_a, scale"
   ]
  },
  {
   "cell_type": "code",
   "execution_count": 55,
   "metadata": {},
   "outputs": [
    {
     "data": {
      "text/plain": [
       "tensor([[1.0079, 2.0079, 3.0000],\n",
       "        [2.0000, 3.0000, 0.9921],\n",
       "        [2.0000, 0.9921, 3.0000]])"
      ]
     },
     "execution_count": 55,
     "metadata": {},
     "output_type": "execute_result"
    }
   ],
   "source": [
    "dequant_a = dequantize_tensor(quant_a, scale, 0)\n",
    "dequant_a"
   ]
  },
  {
   "cell_type": "code",
   "execution_count": 56,
   "metadata": {},
   "outputs": [
    {
     "data": {
      "text/plain": [
       "tensor(2.7556e-05)"
      ]
     },
     "execution_count": 56,
     "metadata": {},
     "output_type": "execute_result"
    }
   ],
   "source": [
    "(dequant_a - a).square().mean()"
   ]
  },
  {
   "cell_type": "code",
   "execution_count": 94,
   "metadata": {},
   "outputs": [
    {
     "data": {
      "text/plain": [
       "tensor([-200.,   20.,  300.])"
      ]
     },
     "execution_count": 94,
     "metadata": {},
     "output_type": "execute_result"
    }
   ],
   "source": [
    "b = torch.Tensor([-200, 20, 300])\n",
    "b"
   ]
  },
  {
   "cell_type": "code",
   "execution_count": 95,
   "metadata": {},
   "outputs": [
    {
     "data": {
      "text/plain": [
       "(tensor([-85,   8, 127], dtype=torch.int8), 2.3622047244094486)"
      ]
     },
     "execution_count": 95,
     "metadata": {},
     "output_type": "execute_result"
    }
   ],
   "source": [
    "quant_s_b, scale_s_b = linear_symmetric_quantization(b)\n",
    "quant_s_b, scale_s_b"
   ]
  },
  {
   "cell_type": "code",
   "execution_count": 96,
   "metadata": {},
   "outputs": [
    {
     "data": {
      "text/plain": [
       "tensor([-200.7874,   18.8976,  300.0000])"
      ]
     },
     "execution_count": 96,
     "metadata": {},
     "output_type": "execute_result"
    }
   ],
   "source": [
    "dequant_s_b = dequantize_tensor(quant_s_b, scale_s_b, 0)\n",
    "dequant_s_b"
   ]
  },
  {
   "cell_type": "code",
   "execution_count": 97,
   "metadata": {},
   "outputs": [
    {
     "data": {
      "text/plain": [
       "(tensor([-128,  -16,  127], dtype=torch.int8), 1.9607843137254901, -26)"
      ]
     },
     "execution_count": 97,
     "metadata": {},
     "output_type": "execute_result"
    }
   ],
   "source": [
    "quant_b, scale_b, zero_point = linear_quantization(b)\n",
    "quant_b, scale_b, zero_point"
   ]
  },
  {
   "cell_type": "code",
   "execution_count": 104,
   "metadata": {},
   "outputs": [
    {
     "data": {
      "text/plain": [
       "tensor([-200.0000,   19.6078,  300.0000])"
      ]
     },
     "execution_count": 104,
     "metadata": {},
     "output_type": "execute_result"
    }
   ],
   "source": [
    "dequant_b = dequantize_tensor(quant_b, scale_b, zero_point)\n",
    "dequant_b"
   ]
  },
  {
   "cell_type": "code",
   "execution_count": 99,
   "metadata": {},
   "outputs": [
    {
     "data": {
      "text/plain": [
       "tensor(0.6117)"
      ]
     },
     "execution_count": 99,
     "metadata": {},
     "output_type": "execute_result"
    }
   ],
   "source": [
    "(dequant_s_b - b).square().mean()"
   ]
  },
  {
   "cell_type": "code",
   "execution_count": 105,
   "metadata": {},
   "outputs": [
    {
     "data": {
      "text/plain": [
       "tensor(0.0513)"
      ]
     },
     "execution_count": 105,
     "metadata": {},
     "output_type": "execute_result"
    }
   ],
   "source": [
    "(dequant_b - b).square().mean()"
   ]
  }
 ],
 "metadata": {
  "kernelspec": {
   "display_name": ".venv",
   "language": "python",
   "name": "python3"
  },
  "language_info": {
   "codemirror_mode": {
    "name": "ipython",
    "version": 3
   },
   "file_extension": ".py",
   "mimetype": "text/x-python",
   "name": "python",
   "nbconvert_exporter": "python",
   "pygments_lexer": "ipython3",
   "version": "3.10.8"
  }
 },
 "nbformat": 4,
 "nbformat_minor": 2
}
