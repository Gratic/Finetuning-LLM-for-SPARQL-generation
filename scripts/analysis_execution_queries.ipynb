{
 "cells": [
  {
   "cell_type": "code",
   "execution_count": 1,
   "metadata": {},
   "outputs": [],
   "source": [
    "import pandas as pd"
   ]
  },
  {
   "cell_type": "code",
   "execution_count": 2,
   "metadata": {},
   "outputs": [],
   "source": [
    "import requests\n",
    "from requests.exceptions import HTTPError, Timeout\n",
    "import time\n",
    "import re\n",
    "\n",
    "class SPARQLResponse():\n",
    "    def __init__(self, data) -> None:\n",
    "        self.data = data\n",
    "        if isinstance(data, dict):\n",
    "            if \"results\" in data and \"bindings\" in data[\"results\"]:\n",
    "                self.bindings = data['results']['bindings']\n",
    "                self.success = True\n",
    "        else:\n",
    "            self.bindings = False\n",
    "            self.success = False\n",
    "\n",
    "def is_query_empty(query :str) -> bool:\n",
    "    query = query.strip()\n",
    "    return query is None or query == \"\" or len(query) == 0\n",
    "\n",
    "# Modified from the original file to suit this notebook, but has the same functionality\n",
    "def send_query_to_api(query, timeout_limit=60, num_try=3):\n",
    "    response = None\n",
    "    while num_try > 0 and response == None and not is_query_empty(query):\n",
    "        try:\n",
    "            sparql_response = execute_sparql(query, timeout=timeout_limit)\n",
    "            response = sparql_response.bindings if sparql_response.success else sparql_response.data\n",
    "                \n",
    "        except HTTPError as inst:\n",
    "            if inst.response.status_code == 429:\n",
    "                retry_after = int(inst.response.headers['retry-after'])\n",
    "                time.sleep(retry_after + 1)\n",
    "                num_try -= 1\n",
    "            else:\n",
    "                response = \"exception: \" + str(inst) + \"\\n\" + inst.response.text\n",
    "        except Timeout:\n",
    "            response = \"timeout\"\n",
    "        except Exception as inst:\n",
    "            response = \"exception: \" + str(inst)\n",
    "    return response if response != None else \"exception: too many retry-after\"\n",
    "\n",
    "def execute_sparql(query: str, timeout: int = None):\n",
    "    url = 'https://query.wikidata.org/bigdata/namespace/wdq/sparql'\n",
    "    response = requests.get(url, params={'query': query, 'format': 'json'}, headers={'User-agent': 'WikidataLLM bot v0'}, timeout=timeout)\n",
    "    response.raise_for_status()\n",
    "    \n",
    "    try:\n",
    "        data = SPARQLResponse(response.json())\n",
    "    except requests.exceptions.JSONDecodeError:\n",
    "        data = SPARQLResponse(response.text)\n",
    "    \n",
    "    return data\n",
    "\n",
    "def find_error_type(x: str):\n",
    "    if not isinstance(x, str):\n",
    "        return None\n",
    "    \n",
    "    http_error = re.compile(r\"exception: ([0-9]+)\")\n",
    "    module_request_error = re.compile(r\"exception: module 'requests.exceptions'\")\n",
    "    invalid_json_error = re.compile(r\"Connection broken: InvalidChunkLength\")\n",
    "    server_timeout_error = re.compile(r\"java.util.concurrent.TimeoutException\")\n",
    "    \n",
    "    http_error_match = http_error.search(x[:20])\n",
    "    \n",
    "    if http_error_match != None:\n",
    "        return http_error_match.group(1)\n",
    "    \n",
    "    if module_request_error.search(x[:50]):\n",
    "        return \"requests\"\n",
    "    \n",
    "    if invalid_json_error.search(x[:100]):\n",
    "        return \"invalid JSON\"\n",
    "    \n",
    "    if server_timeout_error.search(x[len(x)-10000:]):\n",
    "        return \"server timeout\"\n",
    "    \n",
    "    return None\n",
    "\n",
    "def generate_index_of_errors(all_errors: pd.Series):\n",
    "    error_types = sorted(list(all_errors.value_counts().index))\n",
    "    return {x[0]: i for i, x in enumerate(error_types)}\n",
    "\n",
    "def classify_400_errors(stack_trace: str):\n",
    "    pattern = re.compile(r\"Caused by: .+\")\n",
    "    pattern_undefined_prefix = re.compile(r\"undefined prefix\")\n",
    "    pattern_parse = re.compile(r\"ast.ParseException\")\n",
    "    pattern_limit = re.compile(r\"limit|LIMIT\")\n",
    "    pattern_lexical = re.compile(r\"Lexical error\")\n",
    "    pattern_non_agg_var_in_sel = re.compile(r\"Non-aggregate variable in select expression\")\n",
    "    pattern_multiple_same_prefixes = re.compile(r\"Multiple prefix declarations for prefix\")\n",
    "    \n",
    "    reduced_stack = pattern.findall(stack_trace)\n",
    "    last_error = reduced_stack[len(reduced_stack)-1]\n",
    "    \n",
    "    errors = []\n",
    "    if pattern_undefined_prefix.search(last_error):\n",
    "        errors.append(\"undefined prefix\")\n",
    "    if pattern_parse.search(last_error):\n",
    "        if pattern_limit.search(last_error):\n",
    "            errors.append(\"parse exception due to limit\")\n",
    "        else:\n",
    "            errors.append(\"parse exception\")\n",
    "    if pattern_lexical.search(last_error):\n",
    "        errors.append(\"lexical error\")\n",
    "    if pattern_non_agg_var_in_sel.search(last_error):\n",
    "        errors.append(\"non-aggregate variable in select expression\")\n",
    "    if pattern_multiple_same_prefixes.search(last_error):\n",
    "        errors.append(\"Prefix duplicates\")\n",
    "        \n",
    "    return errors\n",
    "\n",
    "def send_and_classify_400_errors(query: str):\n",
    "    response = send_query_to_api(query)\n",
    "    if isinstance(response, list):\n",
    "        return ['false negative']\n",
    "    else:\n",
    "        stack = response.split(\"\\n\", maxsplit=1)[1]\n",
    "        return classify_400_errors(stack)\n",
    "\n",
    "def classify_500_errors(stack_trace: str):\n",
    "    pattern = re.compile(r\"Caused by: .+\")\n",
    "    pattern_stackoverflow = re.compile(r\"StackOverflowError\")\n",
    "    pattern_geo_input_no_resolve_point = re.compile(r\"Input could not be resolved as point\")\n",
    "    pattern_estimated_time_too_long = re.compile(r\"The estimated execution time\")\n",
    "    pattern_out_of_memory = re.compile(r\"MemoryManagerOutOfMemory\")\n",
    "    pattern_nullpointerexception = re.compile(r\"java.lang.NullPointerException\")\n",
    "    \n",
    "    reduced_stack = pattern.findall(stack_trace)\n",
    "    last_error = reduced_stack[len(reduced_stack)-1]\n",
    "    \n",
    "    errors = []\n",
    "    if pattern_stackoverflow.search(last_error):\n",
    "        errors.append(\"stack overflow\")\n",
    "    if pattern_geo_input_no_resolve_point.search(last_error):\n",
    "        errors.append(\"GeoSpatialSearchException: input could not be resolved as point\")\n",
    "    if pattern_estimated_time_too_long.search(last_error):\n",
    "        errors.append(\"estimated time to execute too long\")\n",
    "    if pattern_out_of_memory.search(last_error):\n",
    "        errors.append(\"Out of memory\")\n",
    "    if pattern_nullpointerexception.search(last_error):\n",
    "        errors.append(\"NullPointerException\")\n",
    "        \n",
    "    return errors\n",
    "\n",
    "def send_and_classify_500_errors(query: str):\n",
    "    response = send_query_to_api(query)\n",
    "    if isinstance(response, list):\n",
    "        return ['false negative']\n",
    "    else:\n",
    "        stack = response.split(\"\\n\", maxsplit=1)[1]        \n",
    "        return classify_500_errors(stack)\n",
    "\n",
    "def classify_requests_errors(execution_result):\n",
    "    pattern = re.compile(r\"exception: module 'requests.exceptions' has no attribute 'JSONDecodeError'\")\n",
    "    errors = []\n",
    "    \n",
    "    if pattern.search(execution_result[:100]):\n",
    "        errors.append(\"no attribute 'JSONDecodeError'\")\n",
    "    \n",
    "    return errors\n",
    "\n",
    "def classify_all_errors(execution_result: str):\n",
    "    if not isinstance(execution_result, str) or execution_result == None:\n",
    "        return None\n",
    "    \n",
    "    error = find_error_type(execution_result)\n",
    "    \n",
    "    \n",
    "    if error == None:\n",
    "        return None\n",
    "    elif error == \"400\":\n",
    "        return classify_400_errors(execution_result)\n",
    "    elif error == \"500\":\n",
    "        return classify_500_errors(execution_result)\n",
    "    elif error == \"requests\":\n",
    "        return classify_requests_errors(execution_result)\n",
    "    elif error == \"invalid JSON\":\n",
    "        return [\"invalid JSON\"]\n",
    "    elif error == \"server timeout\":\n",
    "        return [\"server timeout\"]\n",
    "    \n",
    "    \n",
    "    raise NotImplementedError(f\"This function is not implemented for errors other than 400, 500, requests, invalid JSON, server timeout, found: {error}\")\n",
    "\n",
    "ERROR_INDEX = {\n",
    "    \"undefined prefix\": 0,\n",
    "    \"parse exception due to limit\": 1,\n",
    "    \"parse exception\": 2,\n",
    "    \"lexical error\": 3,\n",
    "    \"non-aggregate variable in select expression\": 4,\n",
    "    \"Prefix duplicates\": 5,\n",
    "    \"stack overflow\": 6,\n",
    "    \"GeoSpatialSearchException: input could not be resolved as point\": 7,\n",
    "    \"estimated time to execute too long\": 8,\n",
    "    \"Out of memory\": 9,\n",
    "    \"no attribute 'JSONDecodeError'\": 10,\n",
    "    \"invalid JSON\": 11,\n",
    "    \"server timeout\": 12,\n",
    "    \"NullPointerException\": 13,\n",
    "}"
   ]
  },
  {
   "cell_type": "code",
   "execution_count": 4,
   "metadata": {},
   "outputs": [],
   "source": [
    "# df = pd.read_parquet(\"../outputs/queries_with_execution_and_limits_new_2.parquet.gzip\", engine=\"fastparquet\")\n",
    "df = pd.read_parquet(\"../outputs/final_queries_v1.1_full_execution_limit_10.parquet.gzip\", engine=\"fastparquet\")\n",
    "# df = df[['query', 'execution', 'executed_query']]\n",
    "\n",
    "df_timeout = df.loc[df['execution'] == 'timeout']\n",
    "df_fail = df.loc[df['execution'].str.startswith('exception')]\n",
    "df_empty = df.drop(df_timeout.index).drop(df_fail.index).loc[df['execution'].map(len) == 0]\n",
    "df = df.drop(df_timeout.index).drop(df_fail.index).drop(df_empty.index)"
   ]
  },
  {
   "cell_type": "markdown",
   "metadata": {},
   "source": [
    "## Analysis of Results\n",
    "\n",
    "First, let's enumerate the occurrences of successful, timed-out, failed, and empty responses. Subsequently, we'll visualize the proportion of each category using a pie chart."
   ]
  },
  {
   "cell_type": "code",
   "execution_count": 5,
   "metadata": {},
   "outputs": [
    {
     "name": "stdout",
     "output_type": "stream",
     "text": [
      "Number of timed out requests: 234\n",
      "Number of failed requests: 113\n",
      "Number of empty responses: 0\n",
      "Number of successful responses: 2498\n"
     ]
    },
    {
     "data": {
      "image/png": "[encoded data removed]",
      "text/plain": [
       "<Figure size 640x480 with 1 Axes>"
      ]
     },
     "metadata": {},
     "output_type": "display_data"
    }
   ],
   "source": [
    "import matplotlib.pyplot as plt\n",
    "\n",
    "print(f\"Number of timed out requests: {len(df_timeout)}\")\n",
    "print(f\"Number of failed requests: {len(df_fail)}\")\n",
    "print(f\"Number of empty responses: {len(df_empty)}\")\n",
    "print(f\"Number of successful responses: {len(df)}\")\n",
    "\n",
    "labels = [\"timeout\", \"failed\", \"empty\", \"success\"]\n",
    "sizes = [len(df_timeout), len(df_fail), len(df_empty), len(df)]\n",
    "\n",
    "fig, ax = plt.subplots()\n",
    "ax = ax.pie(sizes, labels=labels, autopct='%1.1f%%', colors=[\"orange\", \"red\", \"grey\", \"green\"])"
   ]
  },
  {
   "cell_type": "code",
   "execution_count": 6,
   "metadata": {},
   "outputs": [
    {
     "name": "stdout",
     "output_type": "stream",
     "text": [
      "There is 2 types of errors: 500, 400\n",
      "Number of 500: 42\n",
      "Number of 400: 71\n",
      "\n",
      "Example of 500: exception: 500 Server Error: Internal Server Error for url: https://query.wikidata.org/bigdata/namespace/wdq/sparql?query=PREFIX+bd%3A+%3Chttp%3A%2F%2Fwww.bigdata.com%2Frdf%23%3E%0APREFIX+p%3A+%3Chttp%3A%2F%2Fwww.wikidata.org%2Fprop%2F%3E%0APREFIX+pq%3A+%3\n",
      "Example of 400: exception: 400 Client Error: Bad Request for url: https://query.wikidata.org/bigdata/namespace/wdq/sparql?query=PREFIX+schema%3A+%3Chttp%3A%2F%2Fschema.org%2F%3E%0APREFIX+xsd%3A+%3Chttp%3A%2F%2Fwww.w3.org%2F2001%2FXMLSchema%23%3E%0APREFIX+wdt%3A+%3Chttp%3A\n"
     ]
    }
   ],
   "source": [
    "df_fail['error_type'] = df_fail.apply(lambda x: find_error_type(x['execution']), axis=1)\n",
    "\n",
    "distinct_errors = df_fail.error_type.unique()\n",
    "\n",
    "print(f\"There is {len(distinct_errors)} types of errors: {', '.join(map(lambda x: str(x), distinct_errors))}\")\n",
    "for err in distinct_errors:\n",
    "    if err == None:\n",
    "        print(f\"Number of {str(err)}: {len(df_fail.loc[df_fail['error_type'].isnull()])}\")\n",
    "    else:\n",
    "        print(f\"Number of {str(err)}: {len(df_fail.loc[df_fail['error_type'] == err])}\")\n",
    "\n",
    "print()\n",
    "\n",
    "for err in distinct_errors:\n",
    "    if err == None:\n",
    "        print(f\"Example of {str(err)}: {df_fail.loc[df_fail['error_type'].isnull()].iloc[0]['execution'][:256]}\")\n",
    "    else:\n",
    "        print(f\"Example of {str(err)}: {df_fail.loc[df_fail['error_type'] == err].iloc[0]['execution'][:256]}\")"
   ]
  },
  {
   "cell_type": "markdown",
   "metadata": {},
   "source": [
    "## Investigating the Causes of Errors\n",
    "\n",
    "Initially, we categorize errors based on their HTTP Status Codes, which bifurcate them into two primary categories: the 400 Client Error and the 500 Server Error. These codes offer a preliminary insight into whether the issue originates from the client or the server. However, they lack detailed diagnostic information. Notably, when Wikidata encounters an error and is unable to return a JSON response, it provides a stack trace instead. By applying regular expressions to analyze these stack traces, we can classify the various causes of errors, enhancing our understanding of the underlying issues."
   ]
  },
  {
   "cell_type": "code",
   "execution_count": 7,
   "metadata": {},
   "outputs": [
    {
     "name": "stdout",
     "output_type": "stream",
     "text": [
      "error_type\n",
      "400    71\n",
      "500    42\n",
      "Name: count, dtype: int64\n"
     ]
    },
    {
     "data": {
      "image/png": "[encoded data removed]",
      "text/plain": [
       "<Figure size 640x480 with 1 Axes>"
      ]
     },
     "metadata": {},
     "output_type": "display_data"
    }
   ],
   "source": [
    "import matplotlib.pyplot as plt\n",
    "\n",
    "value_counts = df_fail['error_type'].value_counts()\n",
    "print(value_counts)\n",
    "\n",
    "labels = list(df_fail['error_type'].value_counts().index)\n",
    "sizes = list(value_counts)\n",
    "\n",
    "fig, ax = plt.subplots()\n",
    "ax = ax.pie(sizes, labels=labels, autopct='%1.1f%%')"
   ]
  },
  {
   "cell_type": "code",
   "execution_count": 8,
   "metadata": {},
   "outputs": [],
   "source": [
    "df_fail['error_classified'] = df_fail.apply(lambda x: classify_all_errors(x['execution']), axis=1)\n",
    "\n",
    "df_fail['ierror_classified'] = df_fail.apply(lambda x: ERROR_INDEX[x['error_classified'][0]] if isinstance(x['error_classified'], list) else None, axis=1)"
   ]
  },
  {
   "cell_type": "markdown",
   "metadata": {},
   "source": [
    "### Analysis of 400 Client Error\n",
    "\n",
    "Upon scrutinizing the \"400 Client Error\" category, we identified five primary error causes, ranked by their frequency of occurrence:\n",
    "1. The query utilizes a prefix unrecognized by Wikidata.\n",
    "2. Lexical errors emerge due to unescaped characters.\n",
    "3. Parsing exceptions indicate improper query formatting. Manual inspection revealed remnants from web crawling or incomplete capture in some requests.\n",
    "4. Parsing exceptions related to artificially added LIMIT clauses. While the base query may be correctly formatted, appending the LIMIT clause can lead to breakdowns. Nevertheless, reformatting (e.g., adjusting curly braces) can often rectify the issue.\n",
    "5. The SELECT expression contains non-aggregate variables.\n",
    "\n",
    "Automatically rectifying these queries poses challenges. However, manual adjustments are feasible for errors 1, 2, 4, and 5. The complication with error type 3 lies in the incomplete data, as some queries lack conclusive segments."
   ]
  },
  {
   "cell_type": "markdown",
   "metadata": {},
   "source": [
    "#### Resolving Syntax Issues with Brackets in SPARQL Queries\n",
    "\n",
    "In the analysis of query index 441, we encounter a syntax issue related to the placement of closing brackets. Specifically, the closing bracket of the implicit WHERE clause is positioned immediately before the VALUES clause, making the addition of a LIMIT clause syntactically incorrect. However, relocating this closing bracket to the end of the VALUES clause not only preserves the original results but also accommodates the inclusion of a LIMIT clause.\n",
    "\n",
    "Challenge: Identifying a universal, trivial solution to this syntax issue remains elusive.\n",
    "\n",
    "Below is the **non-functional** version of the query:\n",
    "```sparql\n",
    "SELECT ?item ?itemLabel WHERE {\n",
    "  ?item wdt:P108 ?employer.\n",
    "  FILTER(NOT EXISTS {\n",
    "    ?item ?wdt _:b7.\n",
    "    ?wdt (^wikibase:directClaim/wdt:P31/(wdt:P279*)) wd:Q18614948.\n",
    "  })\n",
    "  SERVICE wikibase:label { bd:serviceParam wikibase:language \"en\". }\n",
    "}\n",
    "values (?employer) {(wd:Q1138080)}\n",
    "LIMIT 10\n",
    "```\n",
    "Conversely, the **functional** version of the query is as follows:\n",
    "\n",
    "```sparql\n",
    "SELECT ?item ?itemLabel WHERE {\n",
    "  ?item wdt:P108 ?employer.\n",
    "  FILTER(NOT EXISTS {\n",
    "    ?item ?wdt _:b7.\n",
    "    ?wdt (^wikibase:directClaim/wdt:P31/(wdt:P279*)) wd:Q18614948.\n",
    "  })\n",
    "  SERVICE wikibase:label { bd:serviceParam wikibase:language \"en\". }\n",
    "  VALUES ?employer {\n",
    "    wd:Q1138080\n",
    "  }\n",
    "}\n",
    "LIMIT 10\n",
    "```\n",
    "\n",
    "As previously mentioned, the resolution of this issue can be as straightforward as adjusting the placement of curly braces within certain queries.\n"
   ]
  },
  {
   "cell_type": "code",
   "execution_count": 9,
   "metadata": {},
   "outputs": [
    {
     "name": "stdout",
     "output_type": "stream",
     "text": [
      "error_classified\n",
      "[lexical error]                                  36\n",
      "[parse exception]                                16\n",
      "[undefined prefix]                               16\n",
      "[parse exception due to limit]                    2\n",
      "[non-aggregate variable in select expression]     1\n",
      "Name: count, dtype: int64\n"
     ]
    },
    {
     "data": {
      "image/png": "[encoded data removed]",
      "text/plain": [
       "<Figure size 640x480 with 1 Axes>"
      ]
     },
     "metadata": {},
     "output_type": "display_data"
    }
   ],
   "source": [
    "import matplotlib.pyplot as plt\n",
    "\n",
    "df_error400 = df_fail.loc[df_fail['error_type'] == '400']\n",
    "\n",
    "value_counts = df_error400.error_classified.value_counts()\n",
    "print(value_counts)\n",
    "\n",
    "labels = list(map(lambda x: \", \".join(x), list(df_error400.error_classified.value_counts().index)))\n",
    "sizes = list(value_counts)\n",
    "\n",
    "fig, ax = plt.subplots()\n",
    "ax = ax.pie(sizes, labels=labels, autopct='%1.1f%%')"
   ]
  },
  {
   "cell_type": "markdown",
   "metadata": {},
   "source": [
    "### Analysis of 500 Server Error\n",
    "\n",
    "[//]: # (Intriguingly, some queries initially labeled as non-functional were, upon closer scrutiny, found to be operational.)\n",
    "\n",
    "Upon a detailed examination of queries triggering a \"500 Server Error\", three distinct categories emerge. However, a significant majority of 500 errors are attributable to Stack Overflow issues, followed by failures in the GeoSpatialSearch due to an inability to interpret inputs as geographical points. Additionally, a solitary query was preemptively terminated due to an excessively long estimated execution time.\n",
    "\n",
    "The pathway to rectifying these queries remains nebulous. With the exception of GeoSpatialSearchException errors, where inputs might be more precisely defined, modifying other queries to reduce recursion or data usage could be a viable strategy. Similar to the issues categorized under \"400 Client Error,\" these too likely necessitate manual intervention, given the complexities involved in automating such corrections.\n"
   ]
  },
  {
   "cell_type": "code",
   "execution_count": 10,
   "metadata": {},
   "outputs": [
    {
     "name": "stdout",
     "output_type": "stream",
     "text": [
      "error_classified\n",
      "[stack overflow]                                                     34\n",
      "[GeoSpatialSearchException: input could not be resolved as point]     7\n",
      "[Out of memory]                                                       1\n",
      "Name: count, dtype: int64\n"
     ]
    },
    {
     "data": {
      "image/png": "[encoded data removed]",
      "text/plain": [
       "<Figure size 640x480 with 1 Axes>"
      ]
     },
     "metadata": {},
     "output_type": "display_data"
    }
   ],
   "source": [
    "import matplotlib.pyplot as plt\n",
    "\n",
    "df_error500 = df_fail.loc[df_fail['error_type'] == '500']\n",
    "\n",
    "value_counts = df_error500.error_classified.value_counts()\n",
    "print(value_counts)\n",
    "\n",
    "labels = list(map(lambda x: \", \".join(x), list(df_error500.error_classified.value_counts().index)))\n",
    "sizes = list(value_counts)\n",
    "\n",
    "fig, ax = plt.subplots()\n",
    "ax = ax.pie(sizes, labels=labels, autopct='%1.1f%%')"
   ]
  },
  {
   "cell_type": "markdown",
   "metadata": {},
   "source": [
    "## Evaluating the Impact of the Added LIMIT Clause on Query Integrity\n",
    "\n",
    "To manage computational resources efficiently, we append a \"LIMIT\" clause to queries that lack one and are not structured as \"COUNT\" queries. This strategy addresses scenarios where query responses can be excessively voluminous; indeed, a previous instance without the LIMIT clause produced a combined file size of 2.9GB.\n",
    "\n",
    "It's imperative to ascertain that this pragmatic insertion of the LIMIT clause doesn't inadvertently disrupt a significant number of queries. Preliminary findings indicate that certain \"400 Client Error\" instances were precipitated by the added LIMIT clause. This necessitates a thorough examination to ensure that such an issue isn't prevalent across other queries.\n",
    "\n",
    "Within our Pandas dataframe, the original and modified queries are respectively designated as `query` and `executed_query`, facilitating a comparative analysis."
   ]
  },
  {
   "cell_type": "code",
   "execution_count": 11,
   "metadata": {},
   "outputs": [],
   "source": [
    "df_new_exec = df_fail[['query', 'execution', 'error_type', 'error_classified', 'ierror_classified']].copy()\n",
    "df_new_exec['new_execution'] = df_new_exec.apply(lambda x: send_query_to_api(x['query']), axis=1)\n",
    "df_new_exec['new_error_type'] = df_new_exec.apply(lambda x: find_error_type(x['new_execution']), axis=1)\n",
    "df_new_exec['new_error_classified'] = df_new_exec.apply(lambda x: classify_all_errors(x['new_execution']), axis=1)\n",
    "df_new_exec['inew_error_classified'] = df_new_exec.apply(lambda x: ERROR_INDEX[x['new_error_classified'][0]] if isinstance(x['new_error_classified'], list) else None, axis=1)"
   ]
  },
  {
   "cell_type": "code",
   "execution_count": 12,
   "metadata": {},
   "outputs": [
    {
     "name": "stdout",
     "output_type": "stream",
     "text": [
      "Number of error queries with limit: 113\n",
      "Number of error queries without limit: 112\n",
      "Does LIMIT is breaking some queries? yes\n",
      "\n",
      "How many 'parse exception due to limit' there is in the original query: 0\n",
      "How many 'parse exception due to limit' there is in the modified query: 2\n",
      "\n",
      "Understanding what went wrong with adding the LIMIT:\n",
      "\t1 queries are working fine without LIMIT\n",
      "\n",
      "\t1 queries have the same error type\n",
      "\tShowing 1 of 1 error classified that have the same 'error_type' but not the same 'error_classified':\n",
      "\t\tThe query number 563 first had ['parse exception due to limit'] and then ['parse exception']\n",
      "\n",
      "\t0 queries have another error type\n",
      "\n",
      "What is the difference in number of failed queries between original and modified: 1\n",
      "Does it match with the queries that are working without the limit? yes\n",
      "\n",
      "In the context of both executions failed (112 queries):\n",
      "\n",
      "\tHow many have the same 'error_type': 112\n",
      "\n",
      "\tHow many have the same 'error_type' and 'error_classified': 111\n",
      "\tShowing 1 of 1 queries that had the same 'error_type' but didn't have the same 'error_classified':\n",
      "\t\tThe query number 563 first had ['parse exception due to limit'] and then ['parse exception']\n"
     ]
    }
   ],
   "source": [
    "n_limit_errors = len(df_fail)\n",
    "df_new_exec_fail = df_new_exec.loc[~df_new_exec['new_error_type'].isnull()]\n",
    "n_no_limit_errors = len(df_new_exec_fail)\n",
    "\n",
    "print(f\"Number of error queries with limit: {n_limit_errors}\")\n",
    "print(f\"Number of error queries without limit: {n_no_limit_errors}\")\n",
    "print(f\"Does LIMIT is breaking some queries? {'yes' if n_limit_errors != n_no_limit_errors else 'no'}\")\n",
    "\n",
    "parse_exception_limit_index = ERROR_INDEX['parse exception due to limit']\n",
    "\n",
    "parse_exception_limit = df_new_exec.query(\"ierror_classified == @parse_exception_limit_index\")\n",
    "n_parse_exception_limit = len(parse_exception_limit)\n",
    "\n",
    "parse_exception_no_limit = df_new_exec.query(\"inew_error_classified == @parse_exception_limit_index\")\n",
    "n_parse_exception_no_limit = len(parse_exception_no_limit)\n",
    "\n",
    "print()\n",
    "print(f\"How many 'parse exception due to limit' there is in the original query: {n_parse_exception_no_limit}\")\n",
    "print(f\"How many 'parse exception due to limit' there is in the modified query: {n_parse_exception_limit}\")\n",
    "\n",
    "n_no_more_error = len(parse_exception_limit.query(\"new_error_type != new_error_type\"))\n",
    "same_error = parse_exception_limit.query(\"error_type == new_error_type\")\n",
    "n_same_error = len(same_error)\n",
    "not_same_error = parse_exception_limit.query(\"error_type != new_error_type and new_error_type == new_error_type\")\n",
    "n_not_same_error = len(not_same_error)\n",
    "\n",
    "print()\n",
    "print(f\"Understanding what went wrong with adding the LIMIT:\")\n",
    "print(f\"\\t{n_no_more_error} queries are working fine without LIMIT\")\n",
    "print()\n",
    "print(f\"\\t{n_same_error} queries have the same error type\")\n",
    "if n_same_error > 0:\n",
    "    limit = min(n_same_error, 3)\n",
    "    \n",
    "    print(f\"\\tShowing {limit} of {n_same_error} error classified that have the same 'error_type' but not the same 'error_classified':\")\n",
    "    \n",
    "    for i, x in list(same_error.iterrows())[:limit]:\n",
    "        print(f\"\\t\\tThe query number {i} first had {x['error_classified']} and then {x['new_error_classified']}\")\n",
    "\n",
    "print()\n",
    "print(f\"\\t{n_not_same_error} queries have another error type\")\n",
    "if n_not_same_error > 0:\n",
    "    limit = min(n_not_same_error, 3)\n",
    "    \n",
    "    print(f\"\\tShowing {limit} of {n_not_same_error} error classified that didn't have the same 'error_type':\")\n",
    "    \n",
    "    for i, x in list(not_same_error.iterrows())[:limit]:\n",
    "        print(f\"\\t\\tThe query number {i} first had {x['error_type']} and {x['error_classified']} and then {x['new_error_type']} and {x['new_error_classified']}\")\n",
    "\n",
    "print()\n",
    "print(f\"What is the difference in number of failed queries between original and modified: {abs(n_limit_errors - n_no_limit_errors)}\")\n",
    "print(f\"Does it match with the queries that are working without the limit? {'no' if abs(n_limit_errors - n_no_limit_errors) != n_no_more_error else 'yes'}\")\n",
    "\n",
    "fail_and_same_error_type = df_new_exec_fail.query(\"error_type == new_error_type\")\n",
    "n_fail_and_same_error_type = len(fail_and_same_error_type)\n",
    "fail_and_same_error_type_and_same_error_classified = df_new_exec_fail.query(\"error_type == new_error_type and error_classified == new_error_classified\")\n",
    "n_fail_and_same_error_type_and_same_error_classified = len(fail_and_same_error_type_and_same_error_classified)\n",
    "\n",
    "print()\n",
    "print(f\"In the context of both executions failed ({n_no_limit_errors} queries):\")\n",
    "\n",
    "print()\n",
    "print(f\"\\tHow many have the same 'error_type': {n_fail_and_same_error_type}\")\n",
    "\n",
    "if n_fail_and_same_error_type != n_no_limit_errors:\n",
    "    fail_and_not_same_error_type = df_new_exec_fail.query(\"error_type != new_error_type\")\n",
    "    n_fail_and_not_same_error_type = len(fail_and_not_same_error_type)\n",
    "    limit = min(n_fail_and_not_same_error_type, 3)\n",
    "    \n",
    "    print(f\"\\tShowing {limit} of {n_fail_and_not_same_error_type} queries that didn't have the same 'error_type':\")\n",
    "    \n",
    "    for i, x in list(fail_and_not_same_error_type.iterrows())[:limit]:\n",
    "        print(f\"\\t\\tThe query number {i} first had {x['error_type']} and then {x['new_error_type']}\")\n",
    "\n",
    "print()\n",
    "print(f\"\\tHow many have the same 'error_type' and 'error_classified': {n_fail_and_same_error_type_and_same_error_classified}\")\n",
    "\n",
    "if n_fail_and_same_error_type_and_same_error_classified != n_fail_and_same_error_type:\n",
    "    fail_and_same_error_type_but_not_error_classified = df_new_exec_fail.query(\"error_type == new_error_type and error_classified != new_error_classified\")\n",
    "    n_fail_and_same_error_type_but_not_error_classified = len(fail_and_same_error_type_but_not_error_classified)\n",
    "    limit = min(n_fail_and_same_error_type_but_not_error_classified, 3)\n",
    "    \n",
    "    print(f\"\\tShowing {limit} of {n_fail_and_same_error_type_but_not_error_classified} queries that had the same 'error_type' but didn't have the same 'error_classified':\")\n",
    "    \n",
    "    for i, x in list(fail_and_same_error_type_but_not_error_classified.iterrows())[:limit]:\n",
    "        print(f\"\\t\\tThe query number {i} first had {x['error_classified']} and then {x['new_error_classified']}\")"
   ]
  },
  {
   "cell_type": "code",
   "execution_count": 13,
   "metadata": {},
   "outputs": [
    {
     "name": "stdout",
     "output_type": "stream",
     "text": [
      "[2498, 234, 112, 1, 0]\n"
     ]
    },
    {
     "data": {
      "image/png": "[encoded data removed]",
      "text/plain": [
       "<Figure size 1000x500 with 2 Axes>"
      ]
     },
     "metadata": {},
     "output_type": "display_data"
    }
   ],
   "source": [
    "import matplotlib.pyplot as plt\n",
    "\n",
    "\n",
    "labels = [\"success\", \"timeout\", \"failed\", \"failed (limit)\", \"empty\"]\n",
    "sizes = [len(df), len(df_timeout), n_no_limit_errors, n_limit_errors - n_no_limit_errors, len(df_empty)]\n",
    "\n",
    "print(sizes)\n",
    "\n",
    "fig, (ax1, ax2) = plt.subplots(1, 2, figsize=(10, 5))\n",
    "ax1 = ax1.bar(labels, sizes, color=[\"green\", \"orange\", \"red\", \"purple\", \"grey\"])\n",
    "ax2 = ax2.bar(labels[1:], sizes[1:], color=[\"orange\", \"red\", \"purple\", \"grey\"])"
   ]
  },
  {
   "cell_type": "markdown",
   "metadata": {},
   "source": [
    "## Conclusion\n",
    "\n",
    "Initially, we visualized the proportion of successful query executions in comparison to timed-out requests, empty responses, and failed requests. Our findings indicated that a predominant majority of queries were operational, yielding results effectively. Within the remaining categories, timed-out requests constituted the largest segment, followed by failed executions.\n",
    "\n",
    "Subsequently, our analysis of failed requests involved categorizing them into two primary types: \"400 Client Error\" and \"500 Server Error\". A deeper examination of each category provided insights into the underlying issues. A minor fraction of queries failed due to the inclusion of a LIMIT clause intended to minimize computational load, which inadvertently led to their failure. Other queries encountered distinct issues such as undefined prefixes, stack overflow, parsing, or lexical errors. Although many of these errors are rectifiable manually, devising an automated solution presents significant challenges. Furthermore, the incomplete nature of the data crawling process has resulted in certain queries lacking comprehensive conclusions, thereby complicating the correction process."
   ]
  },
  {
   "cell_type": "code",
   "execution_count": 15,
   "metadata": {},
   "outputs": [],
   "source": [
    "import pandas as pd\n",
    "from SPARQL_parser import SPARQL\n",
    "from multiprocesspandas import applyparallel\n",
    "import re\n",
    "\n",
    "def is_correct_SPARQL_query(query):\n",
    "    query = re.sub(r\"PREFIX \\w+:.*\\n\", \"\", query)\n",
    "    \n",
    "    try:\n",
    "        SPARQL(query)\n",
    "    except:\n",
    "        return False\n",
    "    return True\n",
    "\n",
    "def is_correct_SPARQL_query_2(x):\n",
    "    from SPARQL_parser import SPARQL\n",
    "    import re\n",
    "    \n",
    "    try:\n",
    "        SPARQL(re.sub(r\"PREFIX \\w+:.*\\n\", \"\", x['query']))\n",
    "    except:\n",
    "        return False\n",
    "    return True\n",
    "\n",
    "def print_x(x):\n",
    "    return x['query']"
   ]
  },
  {
   "cell_type": "code",
   "execution_count": 18,
   "metadata": {},
   "outputs": [],
   "source": [
    "df = pd.read_parquet(\"../outputs/final_queries_v1.4_full_execution_limit_10.parquet.gzip\", engine=\"fastparquet\")\n",
    "\n",
    "df_timeout = df.loc[df['execution'] == 'timeout']\n",
    "df_fail = df.loc[df['execution'].str.startswith('exception')]\n",
    "df_empty = df.drop(df_timeout.index).drop(df_fail.index).loc[df['execution'].map(len) == 0]\n",
    "df_successful = df.drop(df_timeout.index).drop(df_fail.index).drop(df_empty.index)"
   ]
  },
  {
   "cell_type": "code",
   "execution_count": 19,
   "metadata": {},
   "outputs": [
    {
     "name": "stderr",
     "output_type": "stream",
     "text": [
      "100%|██████████| 2549/2549 [00:02<00:00, 916.40it/s] \n"
     ]
    },
    {
     "name": "stdout",
     "output_type": "stream",
     "text": [
      "both true: 2335, first true: 0, first false: 214, both false: 0, total: 2549\n",
      "accuracy: 91.6046%, precision: 100.0000%, recall: 91.6046%, f1score: 95.6183%\n"
     ]
    },
    {
     "name": "stderr",
     "output_type": "stream",
     "text": [
      "100%|██████████| 2612/2612 [00:02<00:00, 949.21it/s] \n"
     ]
    },
    {
     "name": "stdout",
     "output_type": "stream",
     "text": [
      "both true: 2335, first true: 55, first false: 214, both false: 8, total: 2612\n",
      "accuracy: 89.7014%, precision: 97.6987%, recall: 91.6046%, f1score: 94.5536%\n"
     ]
    }
   ],
   "source": [
    "def evaluate_SPARQL_classifier(df: pd.DataFrame) -> None:\n",
    "    df['correct_SPARQL_query'] = df.apply_parallel(is_correct_SPARQL_query_2, axis=0, n_chunks=None)\n",
    "    df['correct_execution'] = df.apply(lambda x: x['execution'].startswith((\"[{'\",'[]','{')) if isinstance(x['execution'], str) else False, axis=1)\n",
    "\n",
    "    both_true = df.loc[df['correct_SPARQL_query'] & df['correct_execution']]\n",
    "    first_false = df.loc[~df['correct_SPARQL_query'] & df['correct_execution']]\n",
    "    first_true = df.loc[df['correct_SPARQL_query'] & ~df['correct_execution']]\n",
    "    both_false = df.loc[~df['correct_SPARQL_query'] & ~df['correct_execution']]\n",
    "\n",
    "    n_true_positives = len(both_true)\n",
    "    n_false_positives = len(first_true)\n",
    "    n_false_negatives = len(first_false)\n",
    "    n_true_negatives = len(both_false)\n",
    "    n_total = len(df)\n",
    "    print(f\"both true: {n_true_positives}, first true: {n_false_positives}, first false: {n_false_negatives}, both false: {n_true_negatives}, total: {n_total}\")\n",
    "\n",
    "    acc = (n_true_negatives + n_true_positives) / (n_total)\n",
    "    prec = (n_true_positives) / (n_true_positives + n_false_positives)\n",
    "    recall = (n_true_positives) / (n_true_positives + n_false_negatives)\n",
    "    f1score = 2*(prec*recall)/(prec + recall)\n",
    "\n",
    "    print(f\"accuracy: {acc:.4%}, precision: {prec:.4%}, recall: {recall:.4%}, f1score: {f1score:.4%}\")\n",
    "\n",
    "evaluate_SPARQL_classifier(df_successful)\n",
    "evaluate_SPARQL_classifier(df.drop(df_timeout.index))\n"
   ]
  },
  {
   "cell_type": "code",
   "execution_count": 27,
   "metadata": {},
   "outputs": [
    {
     "name": "stdout",
     "output_type": "stream",
     "text": [
      "0\n",
      "172\n",
      "SELECT ?eponym (COUNT(?item) AS ?count) (SAMPLE(?item) AS ?sample)\n",
      "WHERE { ?item [entity 0] ?eponym. }\n",
      "GROUP BY ?eponym\n",
      "ORDER BY DESC(?count)\n",
      "\n",
      "[entity 0]: wdt:P\n",
      "138\n"
     ]
    },
    {
     "data": {
      "text/plain": [
       "True"
      ]
     },
     "execution_count": 27,
     "metadata": {},
     "output_type": "execute_result"
    }
   ],
   "source": [
    "query = \"\"\"`sparql\\nSELECT ?eponym (COUNT(?item) AS ?count) (SAMPLE(?item) AS ?sample)\\nWHERE { ?item [entity 0] ?eponym. }\\nGROUP BY ?eponym\\nORDER BY DESC(?count)\\n\\n[entity 0]: wdt:P\n",
    "138`\"\"\"\n",
    "\n",
    "res = \"\"\n",
    "\n",
    "print(query.find('`sparql'))\n",
    "print(query.rfind('`'))\n",
    "\n",
    "if query.find('`sparql') != -1 and query.rfind('`') != -1:\n",
    "    start_sparql = query.find('`sparql')\n",
    "    end_sparql = query.rfind('`')\n",
    "    \n",
    "    res = query[start_sparql+8:end_sparql]\n",
    "\n",
    "print(res)\n",
    "\n",
    "is_correct_SPARQL_query(query)"
   ]
  }
 ],
 "metadata": {
  "kernelspec": {
   "display_name": ".venv",
   "language": "python",
   "name": "python3"
  },
  "language_info": {
   "codemirror_mode": {
    "name": "ipython",
    "version": 3
   },
   "file_extension": ".py",
   "mimetype": "text/x-python",
   "name": "python",
   "nbconvert_exporter": "python",
   "pygments_lexer": "ipython3",
   "version": "3.8.10"
  }
 },
 "nbformat": 4,
 "nbformat_minor": 2
}
