{
 "cells": [
  {
   "cell_type": "code",
   "execution_count": 1,
   "metadata": {},
   "outputs": [],
   "source": [
    "import pandas as pd"
   ]
  },
  {
   "cell_type": "code",
   "execution_count": 2,
   "metadata": {},
   "outputs": [
    {
     "data": {
      "text/html": [
       "<div>\n",
       "<style scoped>\n",
       "    .dataframe tbody tr th:only-of-type {\n",
       "        vertical-align: middle;\n",
       "    }\n",
       "\n",
       "    .dataframe tbody tr th {\n",
       "        vertical-align: top;\n",
       "    }\n",
       "\n",
       "    .dataframe thead th {\n",
       "        text-align: right;\n",
       "    }\n",
       "</style>\n",
       "<table border=\"1\" class=\"dataframe\">\n",
       "  <thead>\n",
       "    <tr style=\"text-align: right;\">\n",
       "      <th></th>\n",
       "      <th>query</th>\n",
       "      <th>description</th>\n",
       "      <th>context</th>\n",
       "      <th>prompt</th>\n",
       "      <th>num_tokens</th>\n",
       "      <th>execution</th>\n",
       "    </tr>\n",
       "    <tr>\n",
       "      <th>index</th>\n",
       "      <th></th>\n",
       "      <th></th>\n",
       "      <th></th>\n",
       "      <th></th>\n",
       "      <th></th>\n",
       "      <th></th>\n",
       "    </tr>\n",
       "  </thead>\n",
       "  <tbody>\n",
       "    <tr>\n",
       "      <th>0</th>\n",
       "      <td>SELECT ?property ?propertyType ?propertyLabel ...</td>\n",
       "      <td>Wikidata properties in numerical order</td>\n",
       "      <td>Counting stuff on Wikidata\\nAll Wikidata prope...</td>\n",
       "      <td>&lt;s&gt;[INST] &lt;&lt;SYS&gt;&gt;This is a conversation betwee...</td>\n",
       "      <td>267</td>\n",
       "      <td>[{'property': {'type': 'uri', 'value': 'http:/...</td>\n",
       "    </tr>\n",
       "    <tr>\n",
       "      <th>1</th>\n",
       "      <td>SELECT ?id ?idLabel ?idDescription ?new{\\n?id ...</td>\n",
       "      <td>Wikidata properties excluding external IDs</td>\n",
       "      <td>Counting stuff on Wikidata\\nVariation of the a...</td>\n",
       "      <td>&lt;s&gt;[INST] &lt;&lt;SYS&gt;&gt;This is a conversation betwee...</td>\n",
       "      <td>296</td>\n",
       "      <td>timeout</td>\n",
       "    </tr>\n",
       "    <tr>\n",
       "      <th>2</th>\n",
       "      <td>SELECT (COUNT(?article) AS ?count)\\nWHERE {\\n?...</td>\n",
       "      <td></td>\n",
       "      <td>Counting stuff on Wikidata\\nCount of scientifi...</td>\n",
       "      <td>&lt;s&gt;[INST] &lt;&lt;SYS&gt;&gt;This is a conversation betwee...</td>\n",
       "      <td>197</td>\n",
       "      <td>timeout</td>\n",
       "    </tr>\n",
       "    <tr>\n",
       "      <th>3</th>\n",
       "      <td>SELECT (COUNT(DISTINCT ?article) AS ?count)\\nW...</td>\n",
       "      <td>Count of fictional characters</td>\n",
       "      <td>Counting stuff on Wikidata\\nCount of fictional...</td>\n",
       "      <td>&lt;s&gt;[INST] &lt;&lt;SYS&gt;&gt;This is a conversation betwee...</td>\n",
       "      <td>203</td>\n",
       "      <td>[{'count': {'datatype': 'http://www.w3.org/200...</td>\n",
       "    </tr>\n",
       "    <tr>\n",
       "      <th>4</th>\n",
       "      <td>SELECT (COUNT(?item) AS ?count)\\nWHERE { ?item...</td>\n",
       "      <td>Count of items with coordinate locations</td>\n",
       "      <td>Counting stuff on Wikidata\\nCount of items wit...</td>\n",
       "      <td>&lt;s&gt;[INST] &lt;&lt;SYS&gt;&gt;This is a conversation betwee...</td>\n",
       "      <td>186</td>\n",
       "      <td>timeout</td>\n",
       "    </tr>\n",
       "    <tr>\n",
       "      <th>...</th>\n",
       "      <td>...</td>\n",
       "      <td>...</td>\n",
       "      <td>...</td>\n",
       "      <td>...</td>\n",
       "      <td>...</td>\n",
       "      <td>...</td>\n",
       "    </tr>\n",
       "    <tr>\n",
       "      <th>2840</th>\n",
       "      <td>select ?feat ?en (count(*) as ?total)\\nwith {\\...</td>\n",
       "      <td>Grammatical features used on English nouns and...</td>\n",
       "      <td></td>\n",
       "      <td>&lt;s&gt;[INST] &lt;&lt;SYS&gt;&gt;This is a conversation betwee...</td>\n",
       "      <td>309</td>\n",
       "      <td>timeout</td>\n",
       "    </tr>\n",
       "    <tr>\n",
       "      <th>2841</th>\n",
       "      <td>SELECT ?country ?countryLabel ?lifeExpectancy\\...</td>\n",
       "      <td>List of countries sorted by life expectancy</td>\n",
       "      <td></td>\n",
       "      <td>&lt;s&gt;[INST] &lt;&lt;SYS&gt;&gt;This is a conversation betwee...</td>\n",
       "      <td>250</td>\n",
       "      <td>[{'country': {'type': 'uri', 'value': 'http://...</td>\n",
       "    </tr>\n",
       "    <tr>\n",
       "      <th>2842</th>\n",
       "      <td>SELECT ?item ?itemLabel ?coord ?image\\nWHERE\\n...</td>\n",
       "      <td>Railway bridges in Germany and Austria</td>\n",
       "      <td></td>\n",
       "      <td>&lt;s&gt;[INST] &lt;&lt;SYS&gt;&gt;This is a conversation betwee...</td>\n",
       "      <td>271</td>\n",
       "      <td>[{'item': {'type': 'uri', 'value': 'http://www...</td>\n",
       "    </tr>\n",
       "    <tr>\n",
       "      <th>2843</th>\n",
       "      <td>SELECT DISTINCT ?train_wreck ?train_wreckLabel...</td>\n",
       "      <td>Number of deaths in train wrecks per country</td>\n",
       "      <td></td>\n",
       "      <td>&lt;s&gt;[INST] &lt;&lt;SYS&gt;&gt;This is a conversation betwee...</td>\n",
       "      <td>297</td>\n",
       "      <td>[{'train_wreck': {'type': 'uri', 'value': 'htt...</td>\n",
       "    </tr>\n",
       "    <tr>\n",
       "      <th>2844</th>\n",
       "      <td>select distinct ?item1 ?article1 ?item2 ?artic...</td>\n",
       "      <td>Pairs of people who both have an English #Wiki...</td>\n",
       "      <td></td>\n",
       "      <td>&lt;s&gt;[INST] &lt;&lt;SYS&gt;&gt;This is a conversation betwee...</td>\n",
       "      <td>312</td>\n",
       "      <td>{\\n  \"head\" : {\\n    \"vars\" : [ \"item1\", \"arti...</td>\n",
       "    </tr>\n",
       "  </tbody>\n",
       "</table>\n",
       "<p>2845 rows × 6 columns</p>\n",
       "</div>"
      ],
      "text/plain": [
       "                                                   query  \\\n",
       "index                                                      \n",
       "0      SELECT ?property ?propertyType ?propertyLabel ...   \n",
       "1      SELECT ?id ?idLabel ?idDescription ?new{\\n?id ...   \n",
       "2      SELECT (COUNT(?article) AS ?count)\\nWHERE {\\n?...   \n",
       "3      SELECT (COUNT(DISTINCT ?article) AS ?count)\\nW...   \n",
       "4      SELECT (COUNT(?item) AS ?count)\\nWHERE { ?item...   \n",
       "...                                                  ...   \n",
       "2840   select ?feat ?en (count(*) as ?total)\\nwith {\\...   \n",
       "2841   SELECT ?country ?countryLabel ?lifeExpectancy\\...   \n",
       "2842   SELECT ?item ?itemLabel ?coord ?image\\nWHERE\\n...   \n",
       "2843   SELECT DISTINCT ?train_wreck ?train_wreckLabel...   \n",
       "2844   select distinct ?item1 ?article1 ?item2 ?artic...   \n",
       "\n",
       "                                             description  \\\n",
       "index                                                      \n",
       "0                 Wikidata properties in numerical order   \n",
       "1             Wikidata properties excluding external IDs   \n",
       "2                                                          \n",
       "3                          Count of fictional characters   \n",
       "4               Count of items with coordinate locations   \n",
       "...                                                  ...   \n",
       "2840   Grammatical features used on English nouns and...   \n",
       "2841         List of countries sorted by life expectancy   \n",
       "2842              Railway bridges in Germany and Austria   \n",
       "2843        Number of deaths in train wrecks per country   \n",
       "2844   Pairs of people who both have an English #Wiki...   \n",
       "\n",
       "                                                 context  \\\n",
       "index                                                      \n",
       "0      Counting stuff on Wikidata\\nAll Wikidata prope...   \n",
       "1      Counting stuff on Wikidata\\nVariation of the a...   \n",
       "2      Counting stuff on Wikidata\\nCount of scientifi...   \n",
       "3      Counting stuff on Wikidata\\nCount of fictional...   \n",
       "4      Counting stuff on Wikidata\\nCount of items wit...   \n",
       "...                                                  ...   \n",
       "2840                                                       \n",
       "2841                                                       \n",
       "2842                                                       \n",
       "2843                                                       \n",
       "2844                                                       \n",
       "\n",
       "                                                  prompt  num_tokens  \\\n",
       "index                                                                  \n",
       "0      <s>[INST] <<SYS>>This is a conversation betwee...         267   \n",
       "1      <s>[INST] <<SYS>>This is a conversation betwee...         296   \n",
       "2      <s>[INST] <<SYS>>This is a conversation betwee...         197   \n",
       "3      <s>[INST] <<SYS>>This is a conversation betwee...         203   \n",
       "4      <s>[INST] <<SYS>>This is a conversation betwee...         186   \n",
       "...                                                  ...         ...   \n",
       "2840   <s>[INST] <<SYS>>This is a conversation betwee...         309   \n",
       "2841   <s>[INST] <<SYS>>This is a conversation betwee...         250   \n",
       "2842   <s>[INST] <<SYS>>This is a conversation betwee...         271   \n",
       "2843   <s>[INST] <<SYS>>This is a conversation betwee...         297   \n",
       "2844   <s>[INST] <<SYS>>This is a conversation betwee...         312   \n",
       "\n",
       "                                               execution  \n",
       "index                                                     \n",
       "0      [{'property': {'type': 'uri', 'value': 'http:/...  \n",
       "1                                                timeout  \n",
       "2                                                timeout  \n",
       "3      [{'count': {'datatype': 'http://www.w3.org/200...  \n",
       "4                                                timeout  \n",
       "...                                                  ...  \n",
       "2840                                             timeout  \n",
       "2841   [{'country': {'type': 'uri', 'value': 'http://...  \n",
       "2842   [{'item': {'type': 'uri', 'value': 'http://www...  \n",
       "2843   [{'train_wreck': {'type': 'uri', 'value': 'htt...  \n",
       "2844   {\\n  \"head\" : {\\n    \"vars\" : [ \"item1\", \"arti...  \n",
       "\n",
       "[2845 rows x 6 columns]"
      ]
     },
     "execution_count": 2,
     "metadata": {},
     "output_type": "execute_result"
    }
   ],
   "source": [
    "df = pd.read_parquet(\"../datasets/queries_with_execution_results.parquet.gzip\", engine=\"fastparquet\")\n",
    "df"
   ]
  },
  {
   "cell_type": "code",
   "execution_count": 4,
   "metadata": {},
   "outputs": [],
   "source": [
    "df_timeout = df.loc[df['execution'] == 'timeout']\n",
    "df_fail = df.loc[df['execution'].str.startswith('exception')]\n",
    "df_empty = df.loc[df['execution'].isnull()]\n",
    "df_successful = df.drop(df_timeout.index).drop(df_fail.index).drop(df_empty.index)"
   ]
  },
  {
   "cell_type": "code",
   "execution_count": 8,
   "metadata": {},
   "outputs": [
    {
     "data": {
      "text/plain": [
       "Index([], dtype='int64', name='index')"
      ]
     },
     "execution_count": 8,
     "metadata": {},
     "output_type": "execute_result"
    }
   ],
   "source": [
    "df_empty_2.index"
   ]
  },
  {
   "cell_type": "code",
   "execution_count": 13,
   "metadata": {},
   "outputs": [
    {
     "data": {
      "text/html": [
       "<div>\n",
       "<style scoped>\n",
       "    .dataframe tbody tr th:only-of-type {\n",
       "        vertical-align: middle;\n",
       "    }\n",
       "\n",
       "    .dataframe tbody tr th {\n",
       "        vertical-align: top;\n",
       "    }\n",
       "\n",
       "    .dataframe thead th {\n",
       "        text-align: right;\n",
       "    }\n",
       "</style>\n",
       "<table border=\"1\" class=\"dataframe\">\n",
       "  <thead>\n",
       "    <tr style=\"text-align: right;\">\n",
       "      <th></th>\n",
       "      <th>query</th>\n",
       "      <th>description</th>\n",
       "      <th>context</th>\n",
       "      <th>prompt</th>\n",
       "      <th>num_tokens</th>\n",
       "      <th>execution</th>\n",
       "    </tr>\n",
       "    <tr>\n",
       "      <th>index</th>\n",
       "      <th></th>\n",
       "      <th></th>\n",
       "      <th></th>\n",
       "      <th></th>\n",
       "      <th></th>\n",
       "      <th></th>\n",
       "    </tr>\n",
       "  </thead>\n",
       "  <tbody>\n",
       "    <tr>\n",
       "      <th>24</th>\n",
       "      <td>SELECT ?iso ?countryLabel (SUM(?stars) as ?sta...</td>\n",
       "      <td></td>\n",
       "      <td>Not Economics\\nStars in flag versus fertility</td>\n",
       "      <td>&lt;s&gt;[INST] &lt;&lt;SYS&gt;&gt;This is a conversation betwee...</td>\n",
       "      <td>423</td>\n",
       "      <td>exception: 500 Server Error: Internal Server E...</td>\n",
       "    </tr>\n",
       "    <tr>\n",
       "      <th>86</th>\n",
       "      <td>SELECT DISTINCT ?person ?personLabel ?personDe...</td>\n",
       "      <td></td>\n",
       "      <td>Wikisource maintenance\\nDead people with a Pro...</td>\n",
       "      <td>&lt;s&gt;[INST] &lt;&lt;SYS&gt;&gt;This is a conversation betwee...</td>\n",
       "      <td>351</td>\n",
       "      <td>exception: 400 Client Error: Bad Request for u...</td>\n",
       "    </tr>\n",
       "    <tr>\n",
       "      <th>341</th>\n",
       "      <td>SELECT ?personLabel ?work ?workLabel ?pubyear ...</td>\n",
       "      <td></td>\n",
       "      <td>Early Modern Letters Online\\nPublications with...</td>\n",
       "      <td>&lt;s&gt;[INST] &lt;&lt;SYS&gt;&gt;This is a conversation betwee...</td>\n",
       "      <td>381</td>\n",
       "      <td>exception: 400 Client Error: Bad Request for u...</td>\n",
       "    </tr>\n",
       "    <tr>\n",
       "      <th>413</th>\n",
       "      <td>SELECT ?manufacturer ?manufacturerLabel (SUM(?...</td>\n",
       "      <td></td>\n",
       "      <td>Ways to reduce multiplicity\\nSources of multip...</td>\n",
       "      <td>&lt;s&gt;[INST] &lt;&lt;SYS&gt;&gt;This is a conversation betwee...</td>\n",
       "      <td>446</td>\n",
       "      <td>exception: 500 Server Error: Internal Server E...</td>\n",
       "    </tr>\n",
       "    <tr>\n",
       "      <th>418</th>\n",
       "      <td>SELECT ?item ?itemLabel\\n{\\n?item wdt:P2093 \"B...</td>\n",
       "      <td>Author name strings</td>\n",
       "      <td>Author name strings</td>\n",
       "      <td>&lt;s&gt;[INST] &lt;&lt;SYS&gt;&gt;This is a conversation betwee...</td>\n",
       "      <td>208</td>\n",
       "      <td>exception: 400 Client Error: Bad Request for u...</td>\n",
       "    </tr>\n",
       "    <tr>\n",
       "      <th>...</th>\n",
       "      <td>...</td>\n",
       "      <td>...</td>\n",
       "      <td>...</td>\n",
       "      <td>...</td>\n",
       "      <td>...</td>\n",
       "      <td>...</td>\n",
       "    </tr>\n",
       "    <tr>\n",
       "      <th>2652</th>\n",
       "      <td>SELECT ?item ?articlename ?itemLabel ?itemDesc...</td>\n",
       "      <td>Notable people who you share a birthday with (...</td>\n",
       "      <td></td>\n",
       "      <td>&lt;s&gt;[INST] &lt;&lt;SYS&gt;&gt;This is a conversation betwee...</td>\n",
       "      <td>425</td>\n",
       "      <td>exception: 400 Client Error: Bad Request for u...</td>\n",
       "    </tr>\n",
       "    <tr>\n",
       "      <th>2656</th>\n",
       "      <td>SELECT ?count ?topic ?taxonname\\nWITH {\\nSELEC...</td>\n",
       "      <td>The 100 most common species as subjects of pub...</td>\n",
       "      <td></td>\n",
       "      <td>&lt;s&gt;[INST] &lt;&lt;SYS&gt;&gt;This is a conversation betwee...</td>\n",
       "      <td>274</td>\n",
       "      <td>exception: 400 Client Error: Bad Request for u...</td>\n",
       "    </tr>\n",
       "    <tr>\n",
       "      <th>2760</th>\n",
       "      <td>SELECT DISTINCT ?author ?geo\\nWITH {\\nSELECT D...</td>\n",
       "      <td>Locations of employers/affiliations of first a...</td>\n",
       "      <td></td>\n",
       "      <td>&lt;s&gt;[INST] &lt;&lt;SYS&gt;&gt;This is a conversation betwee...</td>\n",
       "      <td>511</td>\n",
       "      <td>exception: 400 Client Error: Bad Request for u...</td>\n",
       "    </tr>\n",
       "    <tr>\n",
       "      <th>2791</th>\n",
       "      <td>querybuilder/?uselang=en&amp;query={\"conditions\":[...</td>\n",
       "      <td>Dentists who are notable footballers</td>\n",
       "      <td></td>\n",
       "      <td>&lt;s&gt;[INST] &lt;&lt;SYS&gt;&gt;This is a conversation betwee...</td>\n",
       "      <td>305</td>\n",
       "      <td>exception: 400 Client Error: Bad Request for u...</td>\n",
       "    </tr>\n",
       "    <tr>\n",
       "      <th>2809</th>\n",
       "      <td>SELECT ?item ?itemLabel ?nomLabel ?lieuLabel W...</td>\n",
       "      <td>Location of paintings in the Paintings Departm...</td>\n",
       "      <td></td>\n",
       "      <td>&lt;s&gt;[INST] &lt;&lt;SYS&gt;&gt;This is a conversation betwee...</td>\n",
       "      <td>378</td>\n",
       "      <td>exception: 400 Client Error: Bad Request for u...</td>\n",
       "    </tr>\n",
       "  </tbody>\n",
       "</table>\n",
       "<p>150 rows × 6 columns</p>\n",
       "</div>"
      ],
      "text/plain": [
       "                                                   query  \\\n",
       "index                                                      \n",
       "24     SELECT ?iso ?countryLabel (SUM(?stars) as ?sta...   \n",
       "86     SELECT DISTINCT ?person ?personLabel ?personDe...   \n",
       "341    SELECT ?personLabel ?work ?workLabel ?pubyear ...   \n",
       "413    SELECT ?manufacturer ?manufacturerLabel (SUM(?...   \n",
       "418    SELECT ?item ?itemLabel\\n{\\n?item wdt:P2093 \"B...   \n",
       "...                                                  ...   \n",
       "2652   SELECT ?item ?articlename ?itemLabel ?itemDesc...   \n",
       "2656   SELECT ?count ?topic ?taxonname\\nWITH {\\nSELEC...   \n",
       "2760   SELECT DISTINCT ?author ?geo\\nWITH {\\nSELECT D...   \n",
       "2791   querybuilder/?uselang=en&query={\"conditions\":[...   \n",
       "2809   SELECT ?item ?itemLabel ?nomLabel ?lieuLabel W...   \n",
       "\n",
       "                                             description  \\\n",
       "index                                                      \n",
       "24                                                         \n",
       "86                                                         \n",
       "341                                                        \n",
       "413                                                        \n",
       "418                                  Author name strings   \n",
       "...                                                  ...   \n",
       "2652   Notable people who you share a birthday with (...   \n",
       "2656   The 100 most common species as subjects of pub...   \n",
       "2760   Locations of employers/affiliations of first a...   \n",
       "2791                Dentists who are notable footballers   \n",
       "2809   Location of paintings in the Paintings Departm...   \n",
       "\n",
       "                                                 context  \\\n",
       "index                                                      \n",
       "24         Not Economics\\nStars in flag versus fertility   \n",
       "86     Wikisource maintenance\\nDead people with a Pro...   \n",
       "341    Early Modern Letters Online\\nPublications with...   \n",
       "413    Ways to reduce multiplicity\\nSources of multip...   \n",
       "418                                  Author name strings   \n",
       "...                                                  ...   \n",
       "2652                                                       \n",
       "2656                                                       \n",
       "2760                                                       \n",
       "2791                                                       \n",
       "2809                                                       \n",
       "\n",
       "                                                  prompt  num_tokens  \\\n",
       "index                                                                  \n",
       "24     <s>[INST] <<SYS>>This is a conversation betwee...         423   \n",
       "86     <s>[INST] <<SYS>>This is a conversation betwee...         351   \n",
       "341    <s>[INST] <<SYS>>This is a conversation betwee...         381   \n",
       "413    <s>[INST] <<SYS>>This is a conversation betwee...         446   \n",
       "418    <s>[INST] <<SYS>>This is a conversation betwee...         208   \n",
       "...                                                  ...         ...   \n",
       "2652   <s>[INST] <<SYS>>This is a conversation betwee...         425   \n",
       "2656   <s>[INST] <<SYS>>This is a conversation betwee...         274   \n",
       "2760   <s>[INST] <<SYS>>This is a conversation betwee...         511   \n",
       "2791   <s>[INST] <<SYS>>This is a conversation betwee...         305   \n",
       "2809   <s>[INST] <<SYS>>This is a conversation betwee...         378   \n",
       "\n",
       "                                               execution  \n",
       "index                                                     \n",
       "24     exception: 500 Server Error: Internal Server E...  \n",
       "86     exception: 400 Client Error: Bad Request for u...  \n",
       "341    exception: 400 Client Error: Bad Request for u...  \n",
       "413    exception: 500 Server Error: Internal Server E...  \n",
       "418    exception: 400 Client Error: Bad Request for u...  \n",
       "...                                                  ...  \n",
       "2652   exception: 400 Client Error: Bad Request for u...  \n",
       "2656   exception: 400 Client Error: Bad Request for u...  \n",
       "2760   exception: 400 Client Error: Bad Request for u...  \n",
       "2791   exception: 400 Client Error: Bad Request for u...  \n",
       "2809   exception: 400 Client Error: Bad Request for u...  \n",
       "\n",
       "[150 rows x 6 columns]"
      ]
     },
     "execution_count": 13,
     "metadata": {},
     "output_type": "execute_result"
    }
   ],
   "source": [
    "df_fail"
   ]
  },
  {
   "cell_type": "code",
   "execution_count": 9,
   "metadata": {},
   "outputs": [
    {
     "name": "stdout",
     "output_type": "stream",
     "text": [
      "Number of timed out request: 375\n",
      "Number of failed request: 150\n",
      "Number of empty response: 0\n",
      "Number of successful resposne: 2320\n"
     ]
    }
   ],
   "source": [
    "print(f\"Number of timed out request: {len(df_timeout)}\")\n",
    "print(f\"Number of failed request: {len(df_fail)}\")\n",
    "print(f\"Number of empty response: {len(df_empty)}\")\n",
    "print(f\"Number of successful resposne: {len(df_successful)}\")"
   ]
  },
  {
   "cell_type": "code",
   "execution_count": 32,
   "metadata": {},
   "outputs": [],
   "source": [
    "df_to_limit = df_successful.loc[~df_successful['query'].str.contains(\"COUNT\", case=True)]"
   ]
  },
  {
   "cell_type": "code",
   "execution_count": 34,
   "metadata": {},
   "outputs": [
    {
     "name": "stdout",
     "output_type": "stream",
     "text": [
      "SELECT ?property ?propertyType ?propertyLabel ?propertyDescription WHERE {\n",
      "?property wikibase:propertyType ?propertyType .\n",
      "SERVICE wikibase:label { bd:serviceParam wikibase:language \"[AUTO_LANGUAGE],en\". }\n",
      "} ORDER BY ASC(xsd:integer(STRAFTER(STR(?property), 'P')))\n"
     ]
    }
   ],
   "source": [
    "print(df_to_limit['query'].iloc[0])"
   ]
  },
  {
   "cell_type": "code",
   "execution_count": 4,
   "metadata": {},
   "outputs": [
    {
     "name": "stdout",
     "output_type": "stream",
     "text": [
      "unterminated string literal (detected at line 1373459) (<string>, line 1373459)\n",
      "'{' was never closed (<string>, line 3574558)\n",
      "unterminated string literal (detected at line 1190612) (<string>, line 1190612)\n",
      "\n",
      "unterminated string literal (detected at line 3873173) (<string>, line 3873173)\n",
      "unterminated string literal (detected at line 1493388) (<string>, line 1493388)\n",
      "'{' was never closed (<string>, line 312221)\n",
      "'{' was never closed (<string>, line 3385813)\n",
      "unterminated string literal (detected at line 594977) (<string>, line 594977)\n",
      "'{' was never closed (<string>, line 1452105)\n",
      "unterminated string literal (detected at line 1572676) (<string>, line 1572676)\n",
      "unterminated string literal (detected at line 1221449) (<string>, line 1221449)\n",
      "'{' was never closed (<string>, line 74828)\n",
      "unterminated string literal (detected at line 673670) (<string>, line 673670)\n"
     ]
    }
   ],
   "source": [
    "df_eval = df_successful.copy()\n",
    "df_eval['eval'] = df_eval.apply(lambda x: None, axis=1)\n",
    "for (i, row) in df_eval.iterrows():\n",
    "    try:\n",
    "        df_eval.at[i, 'eval'] = eval(row['execution'])\n",
    "    except Exception as inst:\n",
    "        print(inst)"
   ]
  },
  {
   "cell_type": "code",
   "execution_count": 56,
   "metadata": {},
   "outputs": [
    {
     "data": {
      "text/plain": [
       "query            SELECT (COUNT(DISTINCT ?article) AS ?count)\\nW...\n",
       "description                          Count of fictional characters\n",
       "context          Counting stuff on Wikidata\\nCount of fictional...\n",
       "prompt           <s>[INST] <<SYS>>This is a conversation betwee...\n",
       "num_tokens                                                     203\n",
       "execution        [{'count': {'datatype': 'http://www.w3.org/200...\n",
       "eval             [{'count': {'datatype': 'http://www.w3.org/200...\n",
       "eval_is_empty                                                False\n",
       "Name: 3, dtype: object"
      ]
     },
     "execution_count": 56,
     "metadata": {},
     "output_type": "execute_result"
    }
   ],
   "source": [
    "test_count = df_eval.loc[~df_eval['eval'].isnull()].loc[df_eval['eval'].map(len, na_action='ignore') < 10].iloc[0]\n",
    "test_count"
   ]
  },
  {
   "cell_type": "code",
   "execution_count": 61,
   "metadata": {},
   "outputs": [
    {
     "data": {
      "text/plain": [
       "{'datatype': 'http://www.w3.org/2001/XMLSchema#integer',\n",
       " 'type': 'literal',\n",
       " 'value': '96761'}"
      ]
     },
     "execution_count": 61,
     "metadata": {},
     "output_type": "execute_result"
    }
   ],
   "source": [
    "test_count[\"eval\"][0][\"count\"]"
   ]
  },
  {
   "cell_type": "code",
   "execution_count": 82,
   "metadata": {},
   "outputs": [],
   "source": [
    "def get_values(element):\n",
    "    values = []\n",
    "    if isinstance(element, dict):\n",
    "        for k, v in element.items():\n",
    "            if isinstance(v, dict):\n",
    "                values += get_values(v)\n",
    "            elif isinstance(v, str):\n",
    "                if 'value' in k:\n",
    "                    values.append(v)\n",
    "    if isinstance(element, list):\n",
    "        for el in element:\n",
    "            values += get_values(el)\n",
    "    return values"
   ]
  },
  {
   "cell_type": "code",
   "execution_count": 71,
   "metadata": {},
   "outputs": [
    {
     "data": {
      "text/plain": [
       "{'education': {'type': 'uri',\n",
       "  'value': 'http://www.wikidata.org/entity/Q34433'},\n",
       " 'educationLabel': {'xml:lang': 'en',\n",
       "  'type': 'literal',\n",
       "  'value': 'University of Oxford'},\n",
       " 'educationDescription': {'xml:lang': 'en',\n",
       "  'type': 'literal',\n",
       "  'value': 'collegiate research university in Oxford, England'},\n",
       " 'mps': {'datatype': 'http://www.w3.org/2001/XMLSchema#integer',\n",
       "  'type': 'literal',\n",
       "  'value': '1'}}"
      ]
     },
     "execution_count": 71,
     "metadata": {},
     "output_type": "execute_result"
    }
   ],
   "source": [
    "df_eval.loc[~df_eval['eval'].isnull()].loc[df_eval['eval'].map(len, na_action='ignore') < 10].iloc[4]['eval'][0]"
   ]
  },
  {
   "cell_type": "code",
   "execution_count": 54,
   "metadata": {},
   "outputs": [
    {
     "data": {
      "text/plain": [
       "query            SELECT ?sitelink ?itemLabel WHERE {\\n?item wdt...\n",
       "description                                                       \n",
       "context          Translation\\nCountries that have a Featured Ar...\n",
       "prompt           <s>[INST] <<SYS>>This is a conversation betwee...\n",
       "num_tokens                                                     265\n",
       "execution        [{'sitelink': {'type': 'uri', 'value': 'https:...\n",
       "eval             [{'sitelink': {'type': 'uri', 'value': 'https:...\n",
       "eval_is_empty                                                False\n",
       "Name: 112, dtype: object"
      ]
     },
     "execution_count": 54,
     "metadata": {},
     "output_type": "execute_result"
    }
   ],
   "source": [
    "test_eval = df_eval.loc[~df_eval['eval'].isnull()].loc[df_eval['eval'].map(len, na_action='ignore') < 10].iloc[3]\n",
    "test_eval"
   ]
  },
  {
   "cell_type": "code",
   "execution_count": 75,
   "metadata": {},
   "outputs": [
    {
     "data": {
      "text/plain": [
       "[{'sitelink': {'type': 'uri',\n",
       "   'value': 'https://ru.wikipedia.org/wiki/%D0%9A%D0%B0%D0%BD%D0%B0%D0%B4%D0%B0'},\n",
       "  'itemLabel': {'xml:lang': 'en', 'type': 'literal', 'value': 'Canada'}},\n",
       " {'sitelink': {'type': 'uri',\n",
       "   'value': 'https://ru.wikipedia.org/wiki/%D0%98%D0%B7%D1%80%D0%B0%D0%B8%D0%BB%D1%8C'},\n",
       "  'itemLabel': {'xml:lang': 'en', 'type': 'literal', 'value': 'Israel'}},\n",
       " {'sitelink': {'type': 'uri',\n",
       "   'value': 'https://ru.wikipedia.org/wiki/%D0%98%D0%BD%D0%B4%D0%BE%D0%BD%D0%B5%D0%B7%D0%B8%D1%8F'},\n",
       "  'itemLabel': {'xml:lang': 'en', 'type': 'literal', 'value': 'Indonesia'}}]"
      ]
     },
     "execution_count": 75,
     "metadata": {},
     "output_type": "execute_result"
    }
   ],
   "source": [
    "test_eval[\"eval\"]"
   ]
  },
  {
   "cell_type": "code",
   "execution_count": 63,
   "metadata": {},
   "outputs": [
    {
     "data": {
      "text/plain": [
       "'Canada'"
      ]
     },
     "execution_count": 63,
     "metadata": {},
     "output_type": "execute_result"
    }
   ],
   "source": [
    "test_eval[\"eval\"][0]['itemLabel']['value']"
   ]
  },
  {
   "cell_type": "code",
   "execution_count": 86,
   "metadata": {},
   "outputs": [
    {
     "data": {
      "text/plain": [
       "{'Canada',\n",
       " 'Indonesia',\n",
       " 'Israel',\n",
       " 'https://ru.wikipedia.org/wiki/%D0%98%D0%B7%D1%80%D0%B0%D0%B8%D0%BB%D1%8C',\n",
       " 'https://ru.wikipedia.org/wiki/%D0%98%D0%BD%D0%B4%D0%BE%D0%BD%D0%B5%D0%B7%D0%B8%D1%8F',\n",
       " 'https://ru.wikipedia.org/wiki/%D0%9A%D0%B0%D0%BD%D0%B0%D0%B4%D0%B0'}"
      ]
     },
     "execution_count": 86,
     "metadata": {},
     "output_type": "execute_result"
    }
   ],
   "source": [
    "set(get_values(test_eval['eval']))"
   ]
  },
  {
   "cell_type": "code",
   "execution_count": 89,
   "metadata": {},
   "outputs": [],
   "source": [
    "def get_precision(hyp, gold):\n",
    "    sethyp = set(hyp)\n",
    "    setgold = set(gold)\n",
    "    \n",
    "    relevant = sethyp.intersection(setgold)\n",
    "    return len(relevant)/len(sethyp)\n",
    "\n",
    "def get_recall(hyp, gold):\n",
    "    sethyp = set(hyp)\n",
    "    setgold = set(gold)\n",
    "    \n",
    "    relevant = sethyp.intersection(setgold)\n",
    "    return len(relevant)/len(setgold)"
   ]
  },
  {
   "cell_type": "code",
   "execution_count": 92,
   "metadata": {},
   "outputs": [
    {
     "name": "stdout",
     "output_type": "stream",
     "text": [
      "precision=0.0, recall=0.0\n"
     ]
    }
   ],
   "source": [
    "prec = get_precision(get_values(test_count['eval']), get_values(test_eval['eval']))\n",
    "rec = get_recall(get_values(test_count['eval']), get_values(test_eval['eval']))\n",
    "\n",
    "print(f\"precision={prec}, recall={rec}\")"
   ]
  }
 ],
 "metadata": {
  "kernelspec": {
   "display_name": ".venv",
   "language": "python",
   "name": "python3"
  },
  "language_info": {
   "codemirror_mode": {
    "name": "ipython",
    "version": 3
   },
   "file_extension": ".py",
   "mimetype": "text/x-python",
   "name": "python",
   "nbconvert_exporter": "python",
   "pygments_lexer": "ipython3",
   "version": "3.10.8"
  }
 },
 "nbformat": 4,
 "nbformat_minor": 2
}
