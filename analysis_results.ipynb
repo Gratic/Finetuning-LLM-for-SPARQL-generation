{
 "cells": [
  {
   "cell_type": "code",
   "execution_count": 1,
   "metadata": {},
   "outputs": [],
   "source": [
    "import pandas as pd"
   ]
  },
  {
   "cell_type": "code",
   "execution_count": 3,
   "metadata": {},
   "outputs": [],
   "source": [
    "df = None\n",
    "with open(\"datasets/20231127-1122_dataset.json\", \"r\") as f:\n",
    "    df = pd.read_json(f.read())"
   ]
  },
  {
   "cell_type": "code",
   "execution_count": 6,
   "metadata": {},
   "outputs": [
    {
     "data": {
      "text/plain": [
       "Index(['query', 'description', 'context', 'prompt', 'num_tokens', 'result',\n",
       "       'full_answer', 'is_skipped', 'is_prompt_too_long'],\n",
       "      dtype='object')"
      ]
     },
     "execution_count": 6,
     "metadata": {},
     "output_type": "execute_result"
    }
   ],
   "source": [
    "df.columns"
   ]
  },
  {
   "cell_type": "code",
   "execution_count": 18,
   "metadata": {},
   "outputs": [
    {
     "data": {
      "text/plain": [
       "379     1\n",
       "386     1\n",
       "409     1\n",
       "683     1\n",
       "726     1\n",
       "743     1\n",
       "745     1\n",
       "1046    1\n",
       "1047    1\n",
       "1159    1\n",
       "1348    1\n",
       "1596    1\n",
       "1626    1\n",
       "1628    1\n",
       "1633    1\n",
       "1799    1\n",
       "1986    1\n",
       "2681    1\n",
       "Name: is_skipped, dtype: int64"
      ]
     },
     "execution_count": 18,
     "metadata": {},
     "output_type": "execute_result"
    }
   ],
   "source": [
    "df[\"is_skipped\"].loc[df[\"is_skipped\"] == 1]"
   ]
  },
  {
   "cell_type": "code",
   "execution_count": 19,
   "metadata": {},
   "outputs": [
    {
     "data": {
      "text/plain": [
       "[379,\n",
       " 386,\n",
       " 409,\n",
       " 683,\n",
       " 726,\n",
       " 743,\n",
       " 745,\n",
       " 1046,\n",
       " 1047,\n",
       " 1159,\n",
       " 1348,\n",
       " 1596,\n",
       " 1626,\n",
       " 1628,\n",
       " 1633,\n",
       " 1799,\n",
       " 1986,\n",
       " 2681]"
      ]
     },
     "execution_count": 19,
     "metadata": {},
     "output_type": "execute_result"
    }
   ],
   "source": [
    "list(df.loc[df[\"is_skipped\"] == True].index)"
   ]
  },
  {
   "cell_type": "code",
   "execution_count": 17,
   "metadata": {},
   "outputs": [
    {
     "name": "stdout",
     "output_type": "stream",
     "text": [
      "379 1\n",
      "386 1\n",
      "409 1\n",
      "683 1\n",
      "726 1\n",
      "743 1\n",
      "745 1\n",
      "1046 1\n",
      "1047 1\n",
      "1159 1\n",
      "1348 1\n",
      "1596 1\n",
      "1626 1\n",
      "1628 1\n",
      "1633 1\n",
      "1799 1\n",
      "1986 1\n",
      "2681 1\n"
     ]
    }
   ],
   "source": [
    "for i, x in zip(range(len(list(df[\"is_skipped\"]))), list(df[\"is_skipped\"])):\n",
    "    if x != 0:\n",
    "        print(i, x)"
   ]
  }
 ],
 "metadata": {
  "kernelspec": {
   "display_name": ".venv",
   "language": "python",
   "name": "python3"
  },
  "language_info": {
   "codemirror_mode": {
    "name": "ipython",
    "version": 3
   },
   "file_extension": ".py",
   "mimetype": "text/x-python",
   "name": "python",
   "nbconvert_exporter": "python",
   "pygments_lexer": "ipython3",
   "version": "3.10.8"
  }
 },
 "nbformat": 4,
 "nbformat_minor": 2
}
