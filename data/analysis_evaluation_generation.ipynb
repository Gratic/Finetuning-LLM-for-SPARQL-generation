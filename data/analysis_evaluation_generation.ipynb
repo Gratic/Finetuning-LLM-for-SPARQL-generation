{
 "cells": [
  {
   "cell_type": "code",
   "execution_count": null,
   "metadata": {},
   "outputs": [],
   "source": [
    "import sys\n",
    "from pathlib import Path\n",
    "sys.path.append(Path(\"../modules\").absolute().__str__())\n",
    "\n",
    "import json\n",
    "import random\n",
    "from prompts_template import ELABORATE_INSTRUCTION\n",
    "from sft_peft import extract_query\n",
    "from execution_utils import is_query_empty, can_add_limit_clause, add_relevant_prefixes_to_query, send_query_to_api\n",
    "    \n",
    "def get_execution_response(query: str):\n",
    "    query = extract_query(query)\n",
    "    if is_query_empty(query):\n",
    "        return None\n",
    "    else:\n",
    "        query = add_relevant_prefixes_to_query(query)\n",
    "    \n",
    "        if can_add_limit_clause(query):\n",
    "            query += f\"\\nLIMIT 10\"\n",
    "\n",
    "    response = send_query_to_api(query, do_print=False)\n",
    "    return response"
   ]
  },
  {
   "cell_type": "code",
   "execution_count": null,
   "metadata": {},
   "outputs": [],
   "source": [
    "print(ELABORATE_INSTRUCTION)"
   ]
  },
  {
   "cell_type": "code",
   "execution_count": null,
   "metadata": {},
   "outputs": [],
   "source": [
    "# folder_path = Path(\"../tests/scriptstests/data/compute_metrics_real_data_from_training_1\")\n",
    "folder_path = Path(\"../outputs/batch_run/nt_mis_lla3/models\")\n",
    "run_name = \"M-7B-I-v0.2_optawbn8-cdfp16-lr000005-rv128-ramul2-ld005-bs2-ga8-gc1-p0-nta0-e3-ctx3072-q4bit-template-template-stsparql\"\n",
    "# run_name = \"M-L-3-8B-I_optawbn8-cdfp16-lr000005-rv128-ramul2-ld005-bs2-ga8-gc1-p0-nta0-e3-ctx3072-q4bit-template-template-stsparql\"\n",
    "num_epochs = 3\n",
    "epochs_data = [json.loads((folder_path / f\"{run_name.replace('_adapters', '')}_compute_metrics_{i}.json\").read_text()) for i in range(num_epochs)]\n",
    "len(epochs_data)\n",
    "\n",
    "def print_label_answer_and_preds(row_number:int = 0, num_epochs:int = 3):\n",
    "    print(f\"LABEL n°{row_number}\",\"=\" * 98)\n",
    "    print(epochs_data[0][\"str_labels\"][row_number])\n",
    "    for i in range(num_epochs):\n",
    "        print(f\"EPOCH {num_epochs - i - 1}\",\"=\" * 100)\n",
    "        print(epochs_data[num_epochs - i - 1][\"generated_texts\"][row_number])"
   ]
  },
  {
   "cell_type": "code",
   "execution_count": null,
   "metadata": {},
   "outputs": [],
   "source": [
    "n_rows = len(epochs_data[0][\"generated_texts\"])\n",
    "\n",
    "row_number = random.randint(0, n_rows)\n",
    "print_label_answer_and_preds(row_number, num_epochs)"
   ]
  }
 ],
 "metadata": {
  "language_info": {
   "name": "python"
  }
 },
 "nbformat": 4,
 "nbformat_minor": 2
}
