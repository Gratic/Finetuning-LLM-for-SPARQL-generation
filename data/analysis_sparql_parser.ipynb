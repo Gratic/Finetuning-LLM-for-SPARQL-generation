{
 "cells": [
  {
   "cell_type": "code",
   "execution_count": 6,
   "metadata": {},
   "outputs": [],
   "source": [
    "import pandas as pd\n",
    "from SPARQL_parser import SPARQL\n",
    "from multiprocesspandas import applyparallel\n",
    "import re\n",
    "\n",
    "def is_correct_SPARQL_query(query):\n",
    "    query = re.sub(r\"PREFIX \\w+:.*\\n\", \"\", query)\n",
    "    \n",
    "    try:\n",
    "        SPARQL(query)\n",
    "    except:\n",
    "        return False\n",
    "    return True\n",
    "\n",
    "def is_correct_SPARQL_query_2(x):\n",
    "    from SPARQL_parser import SPARQL\n",
    "    import re\n",
    "    \n",
    "    try:\n",
    "        SPARQL(re.sub(r\"PREFIX \\w+:.*\\n\", \"\", x['query']))\n",
    "    except:\n",
    "        return False\n",
    "    return True\n",
    "\n",
    "def print_x(x):\n",
    "    return x['query']\n",
    "\n",
    "def evaluate_SPARQL_classifier(df: pd.DataFrame) -> None:\n",
    "    df['correct_SPARQL_query'] = df.apply_parallel(is_correct_SPARQL_query_2, axis=0, n_chunks=None)\n",
    "    df['correct_execution'] = df.apply(lambda x: x['execution'].startswith((\"[{'\",'[]','{')) if isinstance(x['execution'], str) else False, axis=1)\n",
    "\n",
    "    both_true = df.loc[df['correct_SPARQL_query'] & df['correct_execution']]\n",
    "    first_false = df.loc[~df['correct_SPARQL_query'] & df['correct_execution']]\n",
    "    first_true = df.loc[df['correct_SPARQL_query'] & ~df['correct_execution']]\n",
    "    both_false = df.loc[~df['correct_SPARQL_query'] & ~df['correct_execution']]\n",
    "\n",
    "    n_true_positives = len(both_true)\n",
    "    n_false_positives = len(first_true)\n",
    "    n_false_negatives = len(first_false)\n",
    "    n_true_negatives = len(both_false)\n",
    "    n_total = len(df)\n",
    "    print(f\"both true: {n_true_positives}, first true: {n_false_positives}, first false: {n_false_negatives}, both false: {n_true_negatives}, total: {n_total}\")\n",
    "\n",
    "    acc = (n_true_negatives + n_true_positives) / (n_total) if n_total > 0 else 0\n",
    "    prec = (n_true_positives) / (n_true_positives + n_false_positives) if n_true_positives + n_false_positives > 0 else 0\n",
    "    recall = (n_true_positives) / (n_true_positives + n_false_negatives) if n_true_positives + n_false_negatives > 0 else 0\n",
    "    f1score = 2*(prec*recall)/(prec + recall) if prec + recall > 0 else 0\n",
    "\n",
    "    print(f\"accuracy: {acc:.4%}, precision: {prec:.4%}, recall: {recall:.4%}, f1score: {f1score:.4%}\")"
   ]
  },
  {
   "cell_type": "code",
   "execution_count": 7,
   "metadata": {},
   "outputs": [],
   "source": [
    "path_to_executed_dataset = \"../outputs/final_queries_v1.4_full_execution_limit_10.parquet.gzip\"\n",
    "df = pd.read_parquet(path_to_executed_dataset, engine=\"fastparquet\")\n",
    "\n",
    "df_timeout = df.loc[df['execution'] == 'timeout'].copy()\n",
    "df_fail = df.loc[df['execution'].str.startswith('exception')]\n",
    "df_empty = df.drop(df_timeout.index).drop(df_fail.index).loc[df['execution'].map(len) == 0]\n",
    "df_successful = df.drop(df_timeout.index).drop(df_fail.index).drop(df_empty.index)"
   ]
  },
  {
   "cell_type": "code",
   "execution_count": 8,
   "metadata": {},
   "outputs": [
    {
     "name": "stderr",
     "output_type": "stream",
     "text": [
      "100%|██████████| 2549/2549 [00:02<00:00, 868.06it/s] \n"
     ]
    },
    {
     "name": "stdout",
     "output_type": "stream",
     "text": [
      "both true: 2335, first true: 0, first false: 214, both false: 0, total: 2549\n",
      "accuracy: 91.6046%, precision: 100.0000%, recall: 91.6046%, f1score: 95.6183%\n"
     ]
    },
    {
     "name": "stderr",
     "output_type": "stream",
     "text": [
      "100%|██████████| 2612/2612 [00:04<00:00, 644.23it/s]\n"
     ]
    },
    {
     "name": "stdout",
     "output_type": "stream",
     "text": [
      "both true: 2335, first true: 55, first false: 214, both false: 8, total: 2612\n",
      "accuracy: 89.7014%, precision: 97.6987%, recall: 91.6046%, f1score: 94.5536%\n"
     ]
    },
    {
     "name": "stderr",
     "output_type": "stream",
     "text": [
      "100%|██████████| 230/230 [00:00<00:00, 899.20it/s]\n"
     ]
    },
    {
     "name": "stdout",
     "output_type": "stream",
     "text": [
      "both true: 0, first true: 214, first false: 0, both false: 16, total: 230\n",
      "accuracy: 6.9565%, precision: 0.0000%, recall: 0.0000%, f1score: 0.0000%\n"
     ]
    }
   ],
   "source": [
    "evaluate_SPARQL_classifier(df_successful)\n",
    "evaluate_SPARQL_classifier(df.drop(df_timeout.index))\n",
    "evaluate_SPARQL_classifier(df_timeout)"
   ]
  }
 ],
 "metadata": {
  "kernelspec": {
   "display_name": "Python 3",
   "language": "python",
   "name": "python3"
  },
  "language_info": {
   "codemirror_mode": {
    "name": "ipython",
    "version": 3
   },
   "file_extension": ".py",
   "mimetype": "text/x-python",
   "name": "python",
   "nbconvert_exporter": "python",
   "pygments_lexer": "ipython3",
   "version": "3.8.10"
  }
 },
 "nbformat": 4,
 "nbformat_minor": 2
}
