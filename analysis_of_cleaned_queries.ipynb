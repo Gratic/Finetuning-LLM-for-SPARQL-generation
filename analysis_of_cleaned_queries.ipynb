{
 "cells": [
  {
   "cell_type": "markdown",
   "metadata": {},
   "source": [
    "# Analyzing cleaned_queries.json\n",
    "\n",
    "Source: unknown\n",
    "What: Dataset of SparQL queries with some context and descriptions. Context and descriptions can be irrelevant.\n",
    "\n",
    "## Preparing the dataset for \"real\" condition usage"
   ]
  },
  {
   "cell_type": "code",
   "execution_count": 1,
   "metadata": {},
   "outputs": [],
   "source": [
    "import json\n",
    "import numpy as np\n",
    "import pandas as pd\n",
    "import re"
   ]
  },
  {
   "cell_type": "code",
   "execution_count": 2,
   "metadata": {},
   "outputs": [
    {
     "data": {
      "text/html": [
       "<div>\n",
       "<style scoped>\n",
       "    .dataframe tbody tr th:only-of-type {\n",
       "        vertical-align: middle;\n",
       "    }\n",
       "\n",
       "    .dataframe tbody tr th {\n",
       "        vertical-align: top;\n",
       "    }\n",
       "\n",
       "    .dataframe thead th {\n",
       "        text-align: right;\n",
       "    }\n",
       "</style>\n",
       "<table border=\"1\" class=\"dataframe\">\n",
       "  <thead>\n",
       "    <tr style=\"text-align: right;\">\n",
       "      <th></th>\n",
       "      <th>query</th>\n",
       "      <th>description</th>\n",
       "      <th>context</th>\n",
       "    </tr>\n",
       "  </thead>\n",
       "  <tbody>\n",
       "    <tr>\n",
       "      <th>0</th>\n",
       "      <td>SELECT ?property ?propertyType ?propertyLabel ...</td>\n",
       "      <td>Wikidata properties in numerical order</td>\n",
       "      <td>Counting stuff on Wikidata\\nAll Wikidata prope...</td>\n",
       "    </tr>\n",
       "    <tr>\n",
       "      <th>1</th>\n",
       "      <td>SELECT ?id ?idLabel ?idDescription ?new{\\n?id ...</td>\n",
       "      <td>Wikidata properties excluding external IDs</td>\n",
       "      <td>Counting stuff on Wikidata\\nVariation of the a...</td>\n",
       "    </tr>\n",
       "    <tr>\n",
       "      <th>2</th>\n",
       "      <td>SELECT (COUNT(?article) AS ?count)\\nWHERE {\\n?...</td>\n",
       "      <td></td>\n",
       "      <td>Counting stuff on Wikidata\\nCount of scientifi...</td>\n",
       "    </tr>\n",
       "    <tr>\n",
       "      <th>3</th>\n",
       "      <td>SELECT (COUNT(DISTINCT ?article) AS ?count)\\nW...</td>\n",
       "      <td>Count of fictional characters</td>\n",
       "      <td>Counting stuff on Wikidata\\nCount of fictional...</td>\n",
       "    </tr>\n",
       "    <tr>\n",
       "      <th>4</th>\n",
       "      <td>SELECT (COUNT(?item) AS ?count)\\nWHERE { ?item...</td>\n",
       "      <td>Count of items with coordinate locations</td>\n",
       "      <td>Counting stuff on Wikidata\\nCount of items wit...</td>\n",
       "    </tr>\n",
       "  </tbody>\n",
       "</table>\n",
       "</div>"
      ],
      "text/plain": [
       "                                               query  \\\n",
       "0  SELECT ?property ?propertyType ?propertyLabel ...   \n",
       "1  SELECT ?id ?idLabel ?idDescription ?new{\\n?id ...   \n",
       "2  SELECT (COUNT(?article) AS ?count)\\nWHERE {\\n?...   \n",
       "3  SELECT (COUNT(DISTINCT ?article) AS ?count)\\nW...   \n",
       "4  SELECT (COUNT(?item) AS ?count)\\nWHERE { ?item...   \n",
       "\n",
       "                                  description  \\\n",
       "0      Wikidata properties in numerical order   \n",
       "1  Wikidata properties excluding external IDs   \n",
       "2                                               \n",
       "3               Count of fictional characters   \n",
       "4    Count of items with coordinate locations   \n",
       "\n",
       "                                             context  \n",
       "0  Counting stuff on Wikidata\\nAll Wikidata prope...  \n",
       "1  Counting stuff on Wikidata\\nVariation of the a...  \n",
       "2  Counting stuff on Wikidata\\nCount of scientifi...  \n",
       "3  Counting stuff on Wikidata\\nCount of fictional...  \n",
       "4  Counting stuff on Wikidata\\nCount of items wit...  "
      ]
     },
     "execution_count": 2,
     "metadata": {},
     "output_type": "execute_result"
    }
   ],
   "source": [
    "with open(\"./datasets/cleaned_queries/cleaned_queries.json\", 'r') as f:\n",
    "    cleaned_queries = json.load(f)\n",
    "\n",
    "df_cleaned_queries = pd.DataFrame(cleaned_queries)\n",
    "df_cleaned_queries = pd.concat([df_cleaned_queries.drop(['metadata'], axis=1), df_cleaned_queries['metadata'].apply(pd.Series)], axis=1)\n",
    "df_cleaned_queries.head()"
   ]
  },
  {
   "cell_type": "markdown",
   "metadata": {},
   "source": [
    "## Analyzing as a whole\n",
    "\n",
    "### Caracteristics of the dataset"
   ]
  },
  {
   "cell_type": "code",
   "execution_count": 3,
   "metadata": {},
   "outputs": [
    {
     "data": {
      "text/html": [
       "<div>\n",
       "<style scoped>\n",
       "    .dataframe tbody tr th:only-of-type {\n",
       "        vertical-align: middle;\n",
       "    }\n",
       "\n",
       "    .dataframe tbody tr th {\n",
       "        vertical-align: top;\n",
       "    }\n",
       "\n",
       "    .dataframe thead th {\n",
       "        text-align: right;\n",
       "    }\n",
       "</style>\n",
       "<table border=\"1\" class=\"dataframe\">\n",
       "  <thead>\n",
       "    <tr style=\"text-align: right;\">\n",
       "      <th></th>\n",
       "      <th>query</th>\n",
       "      <th>description</th>\n",
       "      <th>context</th>\n",
       "    </tr>\n",
       "  </thead>\n",
       "  <tbody>\n",
       "    <tr>\n",
       "      <th>count</th>\n",
       "      <td>6739</td>\n",
       "      <td>6739</td>\n",
       "      <td>6739</td>\n",
       "    </tr>\n",
       "    <tr>\n",
       "      <th>unique</th>\n",
       "      <td>2779</td>\n",
       "      <td>2249</td>\n",
       "      <td>731</td>\n",
       "    </tr>\n",
       "    <tr>\n",
       "      <th>top</th>\n",
       "      <td>SELECT ?twit ?item ?itemLabel ?itemDescription...</td>\n",
       "      <td></td>\n",
       "      <td></td>\n",
       "    </tr>\n",
       "    <tr>\n",
       "      <th>freq</th>\n",
       "      <td>12</td>\n",
       "      <td>3197</td>\n",
       "      <td>2087</td>\n",
       "    </tr>\n",
       "  </tbody>\n",
       "</table>\n",
       "</div>"
      ],
      "text/plain": [
       "                                                    query description context\n",
       "count                                                6739        6739    6739\n",
       "unique                                               2779        2249     731\n",
       "top     SELECT ?twit ?item ?itemLabel ?itemDescription...                    \n",
       "freq                                                   12        3197    2087"
      ]
     },
     "execution_count": 3,
     "metadata": {},
     "output_type": "execute_result"
    }
   ],
   "source": [
    "df_cleaned_queries.describe()"
   ]
  },
  {
   "cell_type": "markdown",
   "metadata": {},
   "source": [
    "There is **3894 rows** that have another identical row in the dataset. The first row in the dataset of such duplicated row is not counted in the duplicated rows. So there is 3894 identical rows that waste memory and computing power. It's a whopping **57.8%** of the dataset. *More than half*."
   ]
  },
  {
   "cell_type": "code",
   "execution_count": 4,
   "metadata": {},
   "outputs": [
    {
     "name": "stdout",
     "output_type": "stream",
     "text": [
      "3894\n"
     ]
    },
    {
     "data": {
      "text/plain": [
       "0.5778305386555869"
      ]
     },
     "execution_count": 4,
     "metadata": {},
     "output_type": "execute_result"
    }
   ],
   "source": [
    "print(df_cleaned_queries.duplicated().sum())\n",
    "df_cleaned_queries.duplicated().sum()/len(df_cleaned_queries)"
   ]
  },
  {
   "cell_type": "markdown",
   "metadata": {},
   "source": [
    "*To make sure they are really identical...*\n",
    "Looking here at all queries that are identical to the very first row of the dataset."
   ]
  },
  {
   "cell_type": "code",
   "execution_count": 8,
   "metadata": {},
   "outputs": [
    {
     "name": "stdout",
     "output_type": "stream",
     "text": [
      "SELECT ?property ?propertyType ?propertyLabel ?propertyDescription WHERE {\n",
      "?property wikibase:propertyType ?propertyType .\n",
      "SERVICE wikibase:label { bd:serviceParam wikibase:language \"[AUTO_LANGUAGE],en\". }\n",
      "} ORDER BY ASC(xsd:integer(STRAFTER(STR(?property), 'P')))\n",
      "--------------------------------------------------\n",
      "SELECT ?property ?propertyType ?propertyLabel ?propertyDescription WHERE {\n",
      "?property wikibase:propertyType ?propertyType .\n",
      "SERVICE wikibase:label { bd:serviceParam wikibase:language \"[AUTO_LANGUAGE],en\". }\n",
      "} ORDER BY ASC(xsd:integer(STRAFTER(STR(?property), 'P')))\n",
      "--------------------------------------------------\n",
      "SELECT ?property ?propertyType ?propertyLabel ?propertyDescription WHERE {\n",
      "?property wikibase:propertyType ?propertyType .\n",
      "SERVICE wikibase:label { bd:serviceParam wikibase:language \"[AUTO_LANGUAGE],en\". }\n",
      "} ORDER BY ASC(xsd:integer(STRAFTER(STR(?property), 'P')))\n",
      "--------------------------------------------------\n"
     ]
    }
   ],
   "source": [
    "all_rows_same_than_0 = df_cleaned_queries.loc[df_cleaned_queries['query'] == df_cleaned_queries['query'].iat[0]]\n",
    "for i in all_rows_same_than_0['query'][:3]:\n",
    "    print(i)\n",
    "    print('-'*50)"
   ]
  },
  {
   "cell_type": "markdown",
   "metadata": {},
   "source": [
    "All rows are **not null**. But are they empty?"
   ]
  },
  {
   "cell_type": "code",
   "execution_count": 9,
   "metadata": {},
   "outputs": [
    {
     "data": {
      "text/plain": [
       "query          0\n",
       "description    0\n",
       "context        0\n",
       "dtype: int64"
      ]
     },
     "execution_count": 9,
     "metadata": {},
     "output_type": "execute_result"
    }
   ],
   "source": [
    "df_cleaned_queries.isna().sum()"
   ]
  },
  {
   "cell_type": "markdown",
   "metadata": {},
   "source": [
    "Some rows of context and description are empty strings. But this is not a problem. Looking at the use case for the LLM, it would be maybe interesting when generating the prompt. To include them only if they are not empty. The reassuring thing is that every queries is not null."
   ]
  },
  {
   "cell_type": "code",
   "execution_count": 10,
   "metadata": {},
   "outputs": [
    {
     "name": "stdout",
     "output_type": "stream",
     "text": [
      "0\n",
      "2087\n",
      "3197\n"
     ]
    }
   ],
   "source": [
    "print((df_cleaned_queries['query'].values == '').sum())\n",
    "print((df_cleaned_queries['context'].values == '').sum())\n",
    "print((df_cleaned_queries['description'].values == '').sum())"
   ]
  },
  {
   "cell_type": "markdown",
   "metadata": {},
   "source": [
    "### Removing all identical rows.\n",
    "Note: that some row can have identical description or context, or even queries as long as one of the field is different."
   ]
  },
  {
   "cell_type": "code",
   "execution_count": 11,
   "metadata": {},
   "outputs": [],
   "source": [
    "df_no_duplicated_rows = df_cleaned_queries.drop_duplicates(keep=\"first\", ignore_index=True)"
   ]
  },
  {
   "cell_type": "markdown",
   "metadata": {},
   "source": [
    "Question: is there still empty context and description fields when removing duplicates?\n",
    "\n",
    "Answer: Yes, but a lot less empty descriptions."
   ]
  },
  {
   "cell_type": "code",
   "execution_count": 12,
   "metadata": {},
   "outputs": [
    {
     "name": "stdout",
     "output_type": "stream",
     "text": [
      "0\n",
      "2072\n",
      "499\n"
     ]
    }
   ],
   "source": [
    "print((df_no_duplicated_rows['query'].values == '').sum())\n",
    "print((df_no_duplicated_rows['context'].values == '').sum())\n",
    "print((df_no_duplicated_rows['description'].values == '').sum())"
   ]
  },
  {
   "cell_type": "markdown",
   "metadata": {},
   "source": [
    "## Analyzing Queries\n",
    "\n",
    "The goal is to find outliers. There are too many rows for a manual inspection even though it could be doable.\n",
    "\n",
    "### Caracteristics"
   ]
  },
  {
   "cell_type": "code",
   "execution_count": 13,
   "metadata": {},
   "outputs": [
    {
     "data": {
      "text/plain": [
       "count                                                  2845\n",
       "unique                                                 2779\n",
       "top       SELECT DISTINCT ?author ?authorLabel ?image ?c...\n",
       "freq                                                      3\n",
       "Name: query, dtype: object"
      ]
     },
     "execution_count": 13,
     "metadata": {},
     "output_type": "execute_result"
    }
   ],
   "source": [
    "df_no_duplicated_rows[\"query\"].describe()"
   ]
  },
  {
   "cell_type": "code",
   "execution_count": 14,
   "metadata": {},
   "outputs": [
    {
     "data": {
      "text/plain": [
       "count    2845.000000\n",
       "mean      440.365905\n",
       "std       314.802172\n",
       "min        43.000000\n",
       "25%       246.000000\n",
       "50%       350.000000\n",
       "75%       541.000000\n",
       "max      4423.000000\n",
       "Name: query, dtype: float64"
      ]
     },
     "execution_count": 14,
     "metadata": {},
     "output_type": "execute_result"
    }
   ],
   "source": [
    "df_no_duplicated_rows['query'].str.len().describe()"
   ]
  },
  {
   "cell_type": "markdown",
   "metadata": {},
   "source": [
    "### Box Plot\n",
    "\n",
    "There is a lot of \"outliers\" for matplotlib. The definition can be found here https://matplotlib.org/stable/api/_as_gen/matplotlib.pyplot.boxplot.html.\n",
    "\n",
    "An outlier in the box plot is something outside of \\[Q1-1.5*IQR;Q3+1.5*IQR\\] and IQR = Q3 - Q1.\n",
    "\n",
    "Question 1: How many outliers there are?\\\n",
    "Question 2: What are the caracteristics of the outliers? What are they querying?\\\n",
    "Question 3: What do we do with them?"
   ]
  },
  {
   "cell_type": "code",
   "execution_count": 15,
   "metadata": {},
   "outputs": [
    {
     "data": {
      "text/plain": [
       "<Axes: >"
      ]
     },
     "execution_count": 15,
     "metadata": {},
     "output_type": "execute_result"
    },
    {
     "data": {
      "image/png": "[encoded data removed]",
      "text/plain": [
       "<Figure size 640x480 with 1 Axes>"
      ]
     },
     "metadata": {},
     "output_type": "display_data"
    }
   ],
   "source": [
    "df_no_duplicated_rows['query'].apply(lambda x: len(x)).plot(kind=\"box\")"
   ]
  },
  {
   "cell_type": "markdown",
   "metadata": {},
   "source": [
    "Question 1: How many outliers there are?\\\n",
    "Answer: 142. 140 of them are unique."
   ]
  },
  {
   "cell_type": "code",
   "execution_count": 16,
   "metadata": {},
   "outputs": [
    {
     "data": {
      "text/plain": [
       "count     142.000000\n",
       "mean     1405.683099\n",
       "std       508.029225\n",
       "min       988.000000\n",
       "25%      1078.500000\n",
       "50%      1220.000000\n",
       "75%      1483.750000\n",
       "max      4423.000000\n",
       "Name: query, dtype: float64"
      ]
     },
     "execution_count": 16,
     "metadata": {},
     "output_type": "execute_result"
    }
   ],
   "source": [
    "Q1 = df_no_duplicated_rows['query'].str.len().quantile(0.25)\n",
    "Q3 = df_no_duplicated_rows['query'].str.len().quantile(0.75)\n",
    "IQR = Q3 - Q1\n",
    "\n",
    "threshold = 1.5\n",
    "query_outliers = df_no_duplicated_rows[(df_no_duplicated_rows['query'].str.len() < Q1 - threshold * IQR) | (df_no_duplicated_rows['query'].str.len() > Q3 + threshold * IQR)]\n",
    "query_outliers['query'].str.len().describe()"
   ]
  },
  {
   "cell_type": "code",
   "execution_count": 17,
   "metadata": {},
   "outputs": [
    {
     "data": {
      "text/html": [
       "<div>\n",
       "<style scoped>\n",
       "    .dataframe tbody tr th:only-of-type {\n",
       "        vertical-align: middle;\n",
       "    }\n",
       "\n",
       "    .dataframe tbody tr th {\n",
       "        vertical-align: top;\n",
       "    }\n",
       "\n",
       "    .dataframe thead th {\n",
       "        text-align: right;\n",
       "    }\n",
       "</style>\n",
       "<table border=\"1\" class=\"dataframe\">\n",
       "  <thead>\n",
       "    <tr style=\"text-align: right;\">\n",
       "      <th></th>\n",
       "      <th>query</th>\n",
       "      <th>description</th>\n",
       "      <th>context</th>\n",
       "    </tr>\n",
       "  </thead>\n",
       "  <tbody>\n",
       "    <tr>\n",
       "      <th>2136</th>\n",
       "      <td>SELECT\\n?article\\n(SUM(?male) AS ?count_males)...</td>\n",
       "      <td>Comparing gender statistics about people cited...</td>\n",
       "      <td></td>\n",
       "    </tr>\n",
       "    <tr>\n",
       "      <th>1047</th>\n",
       "      <td>select distinct ?groupLabel (?groupLabel as ?l...</td>\n",
       "      <td>Graves with grave pictures of people buried in...</td>\n",
       "      <td></td>\n",
       "    </tr>\n",
       "    <tr>\n",
       "      <th>2526</th>\n",
       "      <td>SELECT DISTINCT ?item ?itemLabel (COUNT(DISTIN...</td>\n",
       "      <td>Italian parliamentarians and ministers aged be...</td>\n",
       "      <td></td>\n",
       "    </tr>\n",
       "    <tr>\n",
       "      <th>1267</th>\n",
       "      <td>SELECT ?person ?personLabel ?LibrisXL (?articl...</td>\n",
       "      <td>People at Svensktoversattarlexikon missing a L...</td>\n",
       "      <td></td>\n",
       "    </tr>\n",
       "    <tr>\n",
       "      <th>1046</th>\n",
       "      <td>select distinct ?groupLabel (?groupLabel as ?l...</td>\n",
       "      <td>Graves with no grave pictures of people buried...</td>\n",
       "      <td></td>\n",
       "    </tr>\n",
       "  </tbody>\n",
       "</table>\n",
       "</div>"
      ],
      "text/plain": [
       "                                                  query  \\\n",
       "2136  SELECT\\n?article\\n(SUM(?male) AS ?count_males)...   \n",
       "1047  select distinct ?groupLabel (?groupLabel as ?l...   \n",
       "2526  SELECT DISTINCT ?item ?itemLabel (COUNT(DISTIN...   \n",
       "1267  SELECT ?person ?personLabel ?LibrisXL (?articl...   \n",
       "1046  select distinct ?groupLabel (?groupLabel as ?l...   \n",
       "\n",
       "                                            description context  \n",
       "2136  Comparing gender statistics about people cited...          \n",
       "1047  Graves with grave pictures of people buried in...          \n",
       "2526  Italian parliamentarians and ministers aged be...          \n",
       "1267  People at Svensktoversattarlexikon missing a L...          \n",
       "1046  Graves with no grave pictures of people buried...          "
      ]
     },
     "execution_count": 17,
     "metadata": {},
     "output_type": "execute_result"
    }
   ],
   "source": [
    "sorted_query_outliers = query_outliers.sort_values(by='query', key=lambda x: x.str.len())\n",
    "sorted_query_outliers.head()"
   ]
  },
  {
   "cell_type": "markdown",
   "metadata": {},
   "source": [
    "Question 2: What are the caracteristics of the outlier? What are they querying?\\\n",
    "Answer: One caracteristic is that if we look at the samples below, all use BIND. Some uses WITH and UNION. They are queries with sub queries for the most part. An interesting note, is that they are commented which can maybe help the LLM understand better. They also involve some kind of computation on the data retrieved.\n",
    "\n",
    "Question 3: What do we do with them?\\\n",
    "Answer: The samples of these outliers seems to be coherent SparQL queries. If we look at the coherency only, there is no reason to remove them. But, we are using LLMs to generate prompts based on the query, context and description. A query (same for context and description) too long can be too large for the context of the LLM (LLAMA2's context size is 2048 tokens).\n",
    "\n",
    "Using https://belladoreai.github.io/llama-tokenizer-js/example-demo/build/, the last sample below (the longest query in the dataset), uses 2433 tokens and 4423 characters. Surpassing LLAMA2's context size. Though, it should be noted that the before the last query consist of 3408 characters and 1711 tokens. Estimating that we need ~200 tokens in prompt, it is fine. If the context and description are not too large.\n",
    "\n",
    "For this particular sample (the second to last), it works.\n",
    "\n",
    "Then, we only truly have to remove the longest one, because it doesn't fit the context of LLAMA2 and can generate wrong data."
   ]
  },
  {
   "cell_type": "code",
   "execution_count": 26,
   "metadata": {},
   "outputs": [
    {
     "name": "stdout",
     "output_type": "stream",
     "text": [
      "--------------------vvv[strlen=988]vvv--------------------\n",
      "SELECT\n",
      "?article\n",
      "(SUM(?male) AS ?count_males)\n",
      "(SUM(?female) AS ?count_females)\n",
      "(SUM(?nonbinary) AS ?count_nonbinary)\n",
      "(COUNT(*) AS ?count)\n",
      "(ROUND(100 * ?count_females / (?count_females + ?count_males + ?count_nonbinary)) AS ?share_females)\n",
      "(ROUND(100 * ?count_nonbinary / (?count_females + ?count_males + ?count_nonbinary)) AS ?share_nonbinary)\n",
      "(ROUND(100 * ?count_males / (?count_females + ?count_males + ?count_nonbinary)) AS ?share_males)\n",
      "{\n",
      "VALUES ?article {\n",
      "\"Anthropology\"\n",
      "\"Philosophy\"\n",
      "\"Economics\"\n",
      "\"Sociology\"\n",
      "\"Demography\"\n",
      "}\n",
      "SERVICE wikibase:mwapi {\n",
      "bd:serviceParam wikibase:endpoint \"en.wikipedia.org\";\n",
      "wikibase:api \"Generator\";\n",
      "mwapi:generator \"links\";\n",
      "mwapi:titles ?article;.\n",
      "?item wikibase:apiOutputItem mwapi:item.\n",
      "}\n",
      "FILTER BOUND (?item)\n",
      "?item wdt:P31 wd:Q5 .\n",
      "?item wdt:P21 ?gender .\n",
      "BIND(IF(?gender IN(wd:Q6581097, wd:Q2449503), 1, 0) AS ?male )\n",
      "BIND(IF(?gender IN(wd:Q6581072, wd:Q1052281), 1, 0 ) AS ?female)\n",
      "BIND(IF(?gender = wd:Q48270, 1, 0) AS ?nonbinary)\n",
      "}\n",
      "GROUP BY ?article\n",
      "--------------------vvv[strlen=1035]vvv--------------------\n",
      "SELECT ?station ?stationLabel ?coords ?line ?layer ?rgb (SAMPLE(?image) AS ?image) (sample(?opening) as ?opening) WHERE {\n",
      "?station wdt:P31 wd:Q928830;\n",
      "wdt:P131* wd:Q104231;\n",
      "wdt:P625 ?coords;\n",
      "p:P197 ?pred.\n",
      "?pred ps:P197 ?conn;\n",
      "pq:P81 ?subwayLine.\n",
      "MINUS { ?pred pq:P582 [] }\n",
      "OPTIONAL { ?station wdt:P18 ?image }.\n",
      "OPTIONAL { ?station wdt:P1619 ?opening }.\n",
      "?conn wdt:P625 ?cds;\n",
      "wdt:P31 wd:Q928830.\n",
      "BIND(IF(xsd:double(?depth/10) = xsd:integer(?depth/10),?cds,\"\") as ?coords)\n",
      "?conn p:P625/psv:P625/wikibase:geoLatitude ?lat1 ; p:P625/psv:P625/wikibase:geoLongitude ?lon1 .\n",
      "?station p:P625/psv:P625/wikibase:geoLatitude ?lat2 ; p:P625/psv:P625/wikibase:geoLongitude ?lon2 .\n",
      "BIND(CONCAT('LINESTRING(', STR(?lon1), ' ', STR(?lat1), ',', STR(?lon2), ' ', STR(?lat2), ')') AS ?str) . BIND(STRDT(?str, geo:wktLiteral) AS ?line)\n",
      "?subwayLine wdt:P465 ?rgb .\n",
      "SERVICE wikibase:label { bd:serviceParam wikibase:language \"sv\". ?subwayLine rdfs:label ?layer. ?station rdfs:label ?stationLabel }\n",
      "}\n",
      "GROUP BY ?station ?stationLabel ?coords ?line ?layer ?rgb\n",
      "--------------------vvv[strlen=1153]vvv--------------------\n",
      "select distinct ?groupLabel (?groupLabel as ?layer) ?article ?person ?personLabel ?personDescription ?graveplot ?coord ?pic ?picGrave ?WikiTree ?FindAGrave{\n",
      "{\n",
      "?person wdt:P119 wd:Q252312; #Place of burial\n",
      "p:P119 [\n",
      "pq:P965 ?graveplot;\n",
      "pq:P625 ?coord].\n",
      "OPTIONAL { ?person wdt:P2949 ?WikiTreeID .} # If we have a WikiTree profile\n",
      "OPTIONAL { ?person wdt:P535 ?FindAGraveID .} # If we have a FindAGrave ID\n",
      "OPTIONAL{ ?person wdt:P18 ?pic .} # If we have an illustration\n",
      "OPTIONAL{ ?person wdt:P1442 ?picGrave .} # If we have a picture of the grave\n",
      "BIND (URI(CONCAT(\"http://www.findagrave.com/cgi-bin/fg.cgi?page=gr&df=all&GRid=\",?FindAGraveID)) AS ?FindAGrave)\n",
      "BIND (URI(CONCAT(\"http://www.wikitree.com/wiki\",?WikiTreeID)) AS ?WikiTree)\n",
      "OPTIONAL {\n",
      "?article schema:about ?person .\n",
      "?article schema:inLanguage \"en\" .\n",
      "?article schema:isPartOf <https://sv.wikipedia.org/> .\n",
      "}\n",
      "OPTIONAL {\n",
      "?article schema:about ?person .\n",
      "?article schema:inLanguage \"sv\" .\n",
      "?article schema:isPartOf <https://sv.wikipedia.org/> .\n",
      "}\n",
      "OPTIONAL { ?person wdt:P106 ?group .} # Occupation in Layer\n",
      "}\n",
      "SERVICE wikibase:label { bd:serviceParam wikibase:language \"en\",\"sv\"}\n",
      "}\n",
      "Order by ?personLabel\n",
      "--------------------vvv[strlen=1249]vvv--------------------\n",
      "SELECT ?series ?seriesLabel ?years ?interval ?game ?gameLabel ?original_date_game ?sequel ?sequelLabel ?original_date_sequel WHERE {{\n",
      "SELECT ?game ?gameLabel (MIN(?game_date) AS ?original_date_game) ?sequel ?sequelLabel (MIN(?sequel_date) AS ?original_date_sequel) ?series ?seriesLabel WHERE {\n",
      "?game (wdt:P31/(wdt:P279*)) wd:Q7889; # All video games...\n",
      "wdt:P577 ?game_date. # with their publication date(s)...\n",
      "{?game p:P179 ?series_statement. # (Unpacking the series statement)\n",
      "?series_statement ps:P179 ?series; # ...in a series...\n",
      "pq:P156 ?sequel. # ...with a sequel...\n",
      "} UNION { # ...or...\n",
      "?game wdt:P156 ?sequel. # ...with a sequel...\n",
      "OPTIONAL {\n",
      "?game wdt:P179 ?series # ...maybe with a series\n",
      "}}\n",
      "?sequel wdt:P577 ?sequel_date. # with its own publication date(s)\n",
      "SERVICE wikibase:label { bd:serviceParam wikibase:language \"[AUTO_LANGUAGE],en\". }}\n",
      "GROUP BY ?game ?gameLabel ?sequel ?sequelLabel ?series ?seriesLabel}\n",
      "BIND(?original_date_sequel - ?original_date_game AS ?interval) # Calculating the time gap between the original releases...\n",
      "BIND(ROUND(?interval / 365 ) AS ?years) # ...and converting to years, for convenience.\n",
      "FILTER(?interval > 0 ) # Only keeping sequels published after (filtering out some bad data)\n",
      "}\n",
      "ORDER BY DESC (?interval)\n",
      "--------------------vvv[strlen=1438]vvv--------------------\n",
      "SELECT DISTINCT ?coordinates ?line ?item ?itemLabel ?connectLabel ?image ?code ?rgb\n",
      "WITH {\n",
      "SELECT ?item (SAMPLE(?coordinates) AS ?coordinates) (SAMPLE(?image) AS ?image) (sample(?lat1) as ?lat1) (sample(?lon1) as ?lon1) (sample(?code) as ?code) WHERE {\n",
      "?item wdt:P31 wd:Q2175765.\n",
      "?item wdt:P131 wd:Q3012.\n",
      "?item wdt:P625 ?coordinates .\n",
      "?item p:P625 / psv:P625 / wikibase:geoLatitude ?lat1 .\n",
      "?item p:P625 / psv:P625 / wikibase:geoLongitude ?lon1 .\n",
      "OPTIONAL { ?item wdt:P18 ?image }.\n",
      "OPTIONAL { ?item wdt:P5696 ?code }.\n",
      "} GROUP BY ?item\n",
      "} AS %stations\n",
      "WITH {\n",
      "SELECT ?nextstation (sample(?lat2) as ?lat2) (sample(?lon2) as ?lon2) WHERE {\n",
      "?nextstation wdt:P31 wd:Q2175765 .\n",
      "?nextstation wdt:P131 wd:Q3012 .\n",
      "?nextstation p:P625 / psv:P625 / wikibase:geoLatitude ?lat2 .\n",
      "?nextstation p:P625 / psv:P625 / wikibase:geoLongitude ?lon2 .\n",
      "} GROUP BY ?nextstation\n",
      "} AS %nextstations\n",
      "WITH {\n",
      "SELECT ?line ?connect (\"9B0058\" as ?rgb) WHERE {\n",
      "INCLUDE %stations .\n",
      "INCLUDE %nextstations .\n",
      "?item p:P197 ?nextstationstatement .\n",
      "?nextstationstatement ps:P197 ?nextstation .\n",
      "?nextstationstatement pq:P81 ?connect .\n",
      "FILTER(STR(?item) < STR(?nextstation)) .\n",
      "BIND(CONCAT('LINESTRING (', STR(?lon1), ' ', STR(?lat1), ',', STR(?lon2), ' ', STR(?lat2), ')') AS ?str) .\n",
      "BIND(STRDT(?str, geo:wktLiteral) AS ?line)\n",
      "}\n",
      "} AS %lines\n",
      "WHERE {\n",
      "{ INCLUDE %stations } UNION { INCLUDE %lines } .\n",
      "SERVICE wikibase:label { bd:serviceParam wikibase:language \"[AUTO_LANGUAGE],en\". }\n",
      "}\n",
      "--------------------vvv[strlen=1979]vvv--------------------\n",
      "SELECT DISTINCT ?t ?value ?valueLabel ?rrLabel ?rr (SAMPLE(?image) as ?img)\n",
      "WHERE\n",
      "{\n",
      "VALUES ?person {wd:Q1512}\n",
      "{?person wdt:P570 ?death .\n",
      "?person ?prop ?t FILTER (datatype(?t)=xsd:dateTime) FILTER (?t <= ?death) .\n",
      "?value wikibase:directClaim ?prop. }\n",
      "UNION\n",
      "{\n",
      "?person ?q ?statement FILTER regex (STR(?q),\"prop/P\") . #exclude P:describedBy\n",
      "?person wdt:P570 ?death .\n",
      "?statement ?p ?t FILTER regex (STR(?p), \"prop/qualifier/P\") FILTER (datatype(?t)=xsd:dateTime) FILTER (?t <= ?death).\n",
      "?statement ?r ?value FILTER regex (STR(?r),\"prop/statement/\") .\n",
      "BIND(IRI(CONCAT(CONCAT(SUBSTR(STR(?r),1,29),\"direct/\"),SUBSTR(STR(?r),40))) as ?rprop)\n",
      "?rr wikibase:directClaim ?rprop .\n",
      "OPTIONAL {?value wdt:P18 ?image}\n",
      "}\n",
      "UNION { # author of / creator of\n",
      "?value wdt:P50|wdt:P98|wdt:P655|wdt:P1773|wdt:P170 ?person .\n",
      "?person wdt:P570 ?death ;\n",
      "wdt:P569 ?birth .\n",
      "?value wdt:P571|wdt:P577 ?t .\n",
      "FILTER ((?t <= ?death)&&(?t >= ?birth))\n",
      "#FILTER NOT EXISTS {?value wdt:P629 ?x }\n",
      "FILTER NOT EXISTS {?person wdt:P800 ?value } .\n",
      "OPTIONAL {?value wdt:P1433 ?rr .}\n",
      "OPTIONAL {?value wdt:P18 ?image .}\n",
      "}\n",
      "UNION #Notable Works\n",
      "{\n",
      "?person wdt:P800 ?rr ;\n",
      "wdt:P570 ?death ;\n",
      "wdt:P569 ?birth .\n",
      "?rr wdt:P577|wdt:P571|wdt:P1191 ?t FILTER ((?t <= ?death)&&(?t >= ?birth)).\n",
      "OPTIONAL {?rr wdt:P18 ?image .}\n",
      "}\n",
      "UNION #discoverer or inventor\n",
      "{\n",
      "?rr wdt:P61 ?person .\n",
      "?person wdt:P570 ?death ;\n",
      "wdt:P569 ?birth .\n",
      "?rr wdt:P575|wdt:P571|wdt:P585 ?t FILTER ((?t <= ?death)&&(?t >= ?birth)).\n",
      "OPTIONAL {?rr wdt:P18 ?image .}\n",
      "}\n",
      "UNION #architect\n",
      "{\n",
      "?rr wdt:P84 ?person .\n",
      "?person wdt:P570 ?death ;\n",
      "wdt:P569 ?birth .\n",
      "?rr wdt:P571|wdt:P1619 ?t FILTER ((?t <= ?death)&&(?t >= ?birth)).\n",
      "OPTIONAL {?rr wdt:P18 ?image .}\n",
      "}\n",
      "UNION #composer\n",
      "{\n",
      "?rr wdt:P86 ?person .\n",
      "?person wdt:P570 ?death ;\n",
      "wdt:P569 ?birth .\n",
      "?rr wdt:P571|wdt:P1191|wdt:P577 ?t FILTER ((?t <= ?death)&&(?t >= ?birth)).\n",
      "OPTIONAL {?rr wdt:P18 ?image .}\n",
      "}\n",
      "SERVICE wikibase:label { bd:serviceParam wikibase:language \"en, fr, de\". }\n",
      "} GROUP BY ?t ?value ?rr ?rrLabel ?valueLabel\n",
      "ORDER BY ?t\n",
      "--------------------vvv[strlen=3408]vvv--------------------\n",
      "SELECT DISTINCT ?id WHERE { ?id wdt:P31/wdt:P279* wd:Q3624078; p:P463 ?memberOfStatement. ?memberOfStatement a wikibase:BestRank; ps:P463 wd:Q1065. MINUS { ?memberOfStatement pq:P582 ?endTime. } MINUS { ?id wdt:P576|wdt:P582 ?end. } }\" } } }\n",
      "#defaultView:Map{ \"layer\": \"?words\", \"hide\": [\"?words\", \"?coordinates\"] }\n",
      "SELECT ?city ?cityLabel ?words ?coordinates WHERE {\n",
      "BIND(wd:Q142 AS ?state)\n",
      "?city wdt:P31/wdt:P279* wd:Q486972;\n",
      "wdt:P17 ?state;\n",
      "wdt:P625 ?coordinates;\n",
      "wdt:P1448 ?cityLabel.\n",
      "# According to https://docs.oracle.com/javase/7/docs/api/java/util/regex/Pattern.html, a word character (\\w) is equivalent to the following character class, assuming the UNICODE_CHARACTER_CLASS flag is defined:\n",
      "# [\\p{Alpha}\\p{gc=Mn}\\p{gc=Me}\\p{gc=Mc}\\p{Digit}\\p{gc=Pc}]\n",
      "# BlazeGraph does not define this flag, therefore we have to emulate word characters using the following variant:\n",
      "# [\\p{IsAlphabetic}\\p{gc=Mn}\\p{gc=Me}\\p{gc=Mc}\\p{IsDigit}\\p{gc=Pc}]\n",
      "# That is, a word character is alphabetic, any kind of mark (nonspacing, enclosing, or spacing combining), a digit, or connector punctuation.\n",
      "# Non-word characters are the inverse of this character class,\n",
      "# and words are runs of one or more word characters separated by one or more non-word characters.\n",
      "# As an optimization, at the beginning and end of the pattern we can replace \"one or more\" with \"one\",\n",
      "# so that the extra characters (if they exist) are not part of the match.\n",
      "# As a further optimization, we pre-filter the names using the much simpler regex \\w\\W+\\w,\n",
      "# which has some false positives (e. g. Zurich, due to the umlaut) but no false negatives.\n",
      "FILTER(REGEX(?cityLabel, \"\\w\\W+\\w\"))\n",
      "FILTER(REGEX(?cityLabel, \"[\\p{IsAlphabetic}\\p{gc=Mn}\\p{gc=Me}\\p{gc=Mc}\\p{IsDigit}\\p{gc=Pc}][^\\p{IsAlphabetic}\\p{gc=Mn}\\p{gc=Me}\\p{gc=Mc}\\p{IsDigit}\\p{gc=Pc}]+[\\p{IsAlphabetic}\\p{gc=Mn}\\p{gc=Me}\\p{gc=Mc}\\p{IsDigit}\\p{gc=Pc}]\"))\n",
      "BIND(IF(REGEX(?cityLabel, \"[\\p{IsAlphabetic}\\p{gc=Mn}\\p{gc=Me}\\p{gc=Mc}\\p{IsDigit}\\p{gc=Pc}][^\\p{IsAlphabetic}\\p{gc=Mn}\\p{gc=Me}\\p{gc=Mc}\\p{IsDigit}\\p{gc=Pc}]+[\\p{IsAlphabetic}\\p{gc=Mn}\\p{gc=Me}\\p{gc=Mc}\\p{IsDigit}\\p{gc=Pc}]+[^\\p{IsAlphabetic}\\p{gc=Mn}\\p{gc=Me}\\p{gc=Mc}\\p{IsDigit}\\p{gc=Pc}]+[\\p{IsAlphabetic}\\p{gc=Mn}\\p{gc=Me}\\p{gc=Mc}\\p{IsDigit}\\p{gc=Pc}]+[^\\p{IsAlphabetic}\\p{gc=Mn}\\p{gc=Me}\\p{gc=Mc}\\p{IsDigit}\\p{gc=Pc}]+[\\p{IsAlphabetic}\\p{gc=Mn}\\p{gc=Me}\\p{gc=Mc}\\p{IsDigit}\\p{gc=Pc}]+[^\\p{IsAlphabetic}\\p{gc=Mn}\\p{gc=Me}\\p{gc=Mc}\\p{IsDigit}\\p{gc=Pc}]+[\\p{IsAlphabetic}\\p{gc=Mn}\\p{gc=Me}\\p{gc=Mc}\\p{IsDigit}\\p{gc=Pc}]\"), \"5+\"@en,\n",
      "IF(REGEX(?cityLabel, \"[\\p{IsAlphabetic}\\p{gc=Mn}\\p{gc=Me}\\p{gc=Mc}\\p{IsDigit}\\p{gc=Pc}][^\\p{IsAlphabetic}\\p{gc=Mn}\\p{gc=Me}\\p{gc=Mc}\\p{IsDigit}\\p{gc=Pc}]+[\\p{IsAlphabetic}\\p{gc=Mn}\\p{gc=Me}\\p{gc=Mc}\\p{IsDigit}\\p{gc=Pc}]+[^\\p{IsAlphabetic}\\p{gc=Mn}\\p{gc=Me}\\p{gc=Mc}\\p{IsDigit}\\p{gc=Pc}]+[\\p{IsAlphabetic}\\p{gc=Mn}\\p{gc=Me}\\p{gc=Mc}\\p{IsDigit}\\p{gc=Pc}]+[^\\p{IsAlphabetic}\\p{gc=Mn}\\p{gc=Me}\\p{gc=Mc}\\p{IsDigit}\\p{gc=Pc}]+[\\p{IsAlphabetic}\\p{gc=Mn}\\p{gc=Me}\\p{gc=Mc}\\p{IsDigit}\\p{gc=Pc}]\"), \"4\"@en,\n",
      "IF(REGEX(?cityLabel, \"[\\p{IsAlphabetic}\\p{gc=Mn}\\p{gc=Me}\\p{gc=Mc}\\p{IsDigit}\\p{gc=Pc}][^\\p{IsAlphabetic}\\p{gc=Mn}\\p{gc=Me}\\p{gc=Mc}\\p{IsDigit}\\p{gc=Pc}]+[\\p{IsAlphabetic}\\p{gc=Mn}\\p{gc=Me}\\p{gc=Mc}\\p{IsDigit}\\p{gc=Pc}]+[^\\p{IsAlphabetic}\\p{gc=Mn}\\p{gc=Me}\\p{gc=Mc}\\p{IsDigit}\\p{gc=Pc}]+[\\p{IsAlphabetic}\\p{gc=Mn}\\p{gc=Me}\\p{gc=Mc}\\p{IsDigit}\\p{gc=Pc}]\"), \"3\"@en,\n",
      "\"2\"@en)))\n",
      "AS ?words)\n",
      "}\n",
      "ORDER BY DESC(?words)\n",
      "--------------------vvv[strlen=4423]vvv--------------------\n",
      "SELECT ?x ?xLabel ?description ?x_coords ?rgb WITH {\n",
      "# extract the data\n",
      "SELECT ?data ?x ?x_coords WHERE {\n",
      "?x wdt:P31 wd:Q8502 .\n",
      "?x p:P2044/psn:P2044 [\n",
      "wikibase:quantityAmount ?data\n",
      "] .\n",
      "?x wdt:P17 wd:Q40 .\n",
      "?x wdt:P625 ?x_coords .\n",
      "}\n",
      "} AS %totals\n",
      "# determine the max and min values (used to calculate the spread\n",
      "WITH {\n",
      "SELECT (MAX(?data) AS ?max_data) (MIN(?data) AS ?min_data) WHERE {\n",
      "INCLUDE %totals\n",
      "}} AS %min_max\n",
      "WHERE {\n",
      "INCLUDE %totals\n",
      "INCLUDE %min_max\n",
      "?x rdfs:label ?xLabel. FILTER (LANG(?xLabel) = \"en\") .\n",
      "BIND (CONCAT(\"The height of \", ?xLabel, \" is about \", STR(ROUND(?data)), \" metres\" ) AS ?description)\n",
      "BIND ( ?max_data - ?min_data AS ?spread )\n",
      "BIND ( xsd:integer( 100 * (?data - ?min_data) / ?spread) AS ?percent ) # 0 -> 100\n",
      "# some example hues 0:red, 20:orange, 50:yellow, 90:green, 180:cyan, 220:blue, 280:indigo, 330:violet, 340:red\n",
      "# varying hue\n",
      "# BIND ( 255 * ?percent / 100 + 0 AS ?hue )\n",
      "# BIND (1 AS ?value) #\n",
      "# BIND (1 AS ?saturation) . # 0 -> 1\n",
      "# varying the hue's value\n",
      "BIND ( (1 - ?percent / 100 + 0) AS ?value ) # to black\n",
      "BIND ( 255 * ?percent / 100 + 0 AS ?hue )\n",
      "BIND (1 AS ?saturation) . # 0 -> 1\n",
      "# varying the hue's saturation\n",
      "# BIND ( (1 - ?percent / 100 + 0) AS ?saturation ) # to -> white\n",
      "# BIND (0 AS ?hue) # red\n",
      "# BIND (1 AS ?value) . # 0 -> 1\n",
      "# the following algorithm based on https://stackoverflow.com/questions/3018313/algorithm-to-convert-rgb-to-hsv-and-hsv-to-rgb-in-range-0-255-for-both\n",
      "BIND ( ?hue / 60 AS ?hh )\n",
      "BIND ( FLOOR (?hh) AS ?i ) .\n",
      "BIND ( ?hh - ?i AS ?ff) .\n",
      "BIND ( ?value * ( 1 - ?saturation ) AS ?p) .\n",
      "BIND ( ?value * ( 1 - ( ?saturation * ?ff)) AS ?q ) .\n",
      "BIND ( ?value * ( 1 - ( ?saturation * (1 - ?ff ))) AS ?t ) .\n",
      "BIND ( COALESCE(\n",
      "IF(?i = 0, ?value, 1/0),\n",
      "IF(?i = 1, ?q, 1/0),\n",
      "IF(?i = 2, ?p, 1/0),\n",
      "IF(?i = 3, ?p, 1/0),\n",
      "IF(?i = 4, ?t, 1/0),\n",
      "IF(?i = 5, ?value, 1/0),\n",
      "?value\n",
      ") AS ?r )\n",
      "BIND ( COALESCE(\n",
      "IF(?i = 0, ?t, 1/0),\n",
      "IF(?i = 1, ?value, 1/0),\n",
      "IF(?i = 2, ?value, 1/0),\n",
      "IF(?i = 3, ?q, 1/0),\n",
      "IF(?i = 4, ?p, 1/0),\n",
      "IF(?i = 5, ?p, 1/0),\n",
      "?p\n",
      ") AS ?g )\n",
      "BIND ( COALESCE(\n",
      "IF(?i = 0, ?p, 1/0),\n",
      "IF(?i = 1, ?p, 1/0),\n",
      "IF(?i = 2, ?t, 1/0),\n",
      "IF(?i = 3, ?value, 1/0),\n",
      "IF(?i = 4, ?value, 1/0),\n",
      "IF(?i = 5, ?q, 1/0),\n",
      "?q\n",
      ") AS ?b )\n",
      "BIND (FLOOR(255 * ?r) AS ?red)\n",
      "BIND (FLOOR(255 * ?g) AS ?green)\n",
      "BIND (FLOOR(255 * ?b) AS ?blue)\n",
      "# red\n",
      "BIND ( FLOOR (?red / 16) AS ?red_1 )\n",
      "BIND ( COALESCE(\n",
      "IF(?red_1 < 10, STR(?red_1), 1/0),\n",
      "IF(?red_1 = 10, \"a\", 1/0),\n",
      "IF(?red_1 = 11, \"b\", 1/0),\n",
      "IF(?red_1 = 12, \"c\", 1/0),\n",
      "IF(?red_1 = 13, \"d\", 1/0),\n",
      "IF(?red_1 = 14, \"e\", 1/0),\n",
      "IF(?red_1 = 15, \"f\", 1/0),\n",
      "\"ERROR\"\n",
      ") AS ?red_hex1 )\n",
      "BIND (FLOOR(?red - (16 * xsd:integer( ?red / 16 ))) AS ?red_2)\n",
      "BIND ( COALESCE(\n",
      "IF(?red_2 < 10, STR(?red_2), 1/0),\n",
      "IF(?red_2 = 10, \"a\", 1/0),\n",
      "IF(?red_2 = 11, \"b\", 1/0),\n",
      "IF(?red_2 = 12, \"c\", 1/0),\n",
      "IF(?red_2 = 13, \"d\", 1/0),\n",
      "IF(?red_2 = 14, \"e\", 1/0),\n",
      "IF(?red_2 = 15, \"f\", 1/0),\n",
      "\"ERROR\"\n",
      ") AS ?red_hex2 )\n",
      "BIND (CONCAT(STR(?red_hex1), STR(?red_hex2)) AS ?red_hex )\n",
      "# green\n",
      "BIND ( FLOOR (?green / 16) AS ?green_1 )\n",
      "BIND ( COALESCE(\n",
      "IF(?green_1 < 10, STR(?green_1), 1/0),\n",
      "IF(?green_1 = 10, \"a\", 1/0),\n",
      "IF(?green_1 = 11, \"b\", 1/0),\n",
      "IF(?green_1 = 12, \"c\", 1/0),\n",
      "IF(?green_1 = 13, \"d\", 1/0),\n",
      "IF(?green_1 = 14, \"e\", 1/0),\n",
      "IF(?green_1 = 15, \"f\", 1/0),\n",
      "\"ERROR\"\n",
      ") AS ?green_hex1 )\n",
      "BIND (FLOOR(?green - (16 * xsd:integer( ?green / 16 ))) AS ?green_2)\n",
      "BIND ( COALESCE(\n",
      "IF(?green_2 < 10, STR(?green_2), 1/0),\n",
      "IF(?green_2 = 10, \"a\", 1/0),\n",
      "IF(?green_2 = 11, \"b\", 1/0),\n",
      "IF(?green_2 = 12, \"c\", 1/0),\n",
      "IF(?green_2 = 13, \"d\", 1/0),\n",
      "IF(?green_2 = 14, \"e\", 1/0),\n",
      "IF(?green_2 = 15, \"f\", 1/0),\n",
      "\"ERROR\"\n",
      ") AS ?green_hex2 )\n",
      "BIND (CONCAT(STR(?green_hex1), STR(?green_hex2)) AS ?green_hex )\n",
      "# blue\n",
      "BIND ( FLOOR (?blue / 16) AS ?blue_1 )\n",
      "BIND ( COALESCE(\n",
      "IF(?blue_1 < 10, STR(?blue_1), 1/0),\n",
      "IF(?blue_1 = 10, \"a\", 1/0),\n",
      "IF(?blue_1 = 11, \"b\", 1/0),\n",
      "IF(?blue_1 = 12, \"c\", 1/0),\n",
      "IF(?blue_1 = 13, \"d\", 1/0),\n",
      "IF(?blue_1 = 14, \"e\", 1/0),\n",
      "IF(?blue_1 = 15, \"f\", 1/0),\n",
      "\"ERROR\"\n",
      ") AS ?blue_hex1 )\n",
      "BIND (FLOOR(?blue - (16 * xsd:integer( ?blue / 16 ))) AS ?blue_2)\n",
      "BIND ( COALESCE(\n",
      "IF(?blue_2 < 10, STR(?blue_2), 1/0),\n",
      "IF(?blue_2 = 10, \"a\", 1/0),\n",
      "IF(?blue_2 = 11, \"b\", 1/0),\n",
      "IF(?blue_2 = 12, \"c\", 1/0),\n",
      "IF(?blue_2 = 13, \"d\", 1/0),\n",
      "IF(?blue_2 = 14, \"e\", 1/0),\n",
      "IF(?blue_2 = 15, \"f\", 1/0),\n",
      "\"ERROR\"\n",
      ") AS ?blue_hex2 )\n",
      "BIND (CONCAT(STR(?blue_hex1), STR(?blue_hex2)) AS ?blue_hex )\n",
      "BIND (CONCAT(STR(?red_hex), STR(?green_hex), STR(?blue_hex)) AS ?rgb)\n",
      "SERVICE wikibase:label { bd:serviceParam wikibase:language \"[AUTO_LANGUAGE],en\". }\n",
      "}\n"
     ]
    }
   ],
   "source": [
    "samples_index = [0, 25, 50, 75, 100, 125, 140, 141]\n",
    "for s_index in samples_index:\n",
    "    sample = sorted_query_outliers['query'].iat[s_index]\n",
    "    print('-'*20 + 'vvv[strlen=' + str(len(sample)) + \"]vvv\" + '-'*20)\n",
    "    print(sample)"
   ]
  },
  {
   "cell_type": "markdown",
   "metadata": {},
   "source": [
    "## Analyzing Context\n",
    "\n",
    "### Box Plot\n",
    "\n",
    "Just like the \"query\" field there is a lot of outliers.\\\n",
    "Note: We don't consider context field that are just empty strings in the outlier analysis. This gives a little more \"room\" and there is a lot of empty strings that would skew the analysis.\n",
    "\n",
    "It is obvious that we should cut the any context that is longer to a threshold. This threshold could be dynamic between query, context and description. As long as it fit into the context size, it should be fine.\n",
    "\n",
    "But let's explore a bit what all of this is made of."
   ]
  },
  {
   "cell_type": "code",
   "execution_count": 28,
   "metadata": {},
   "outputs": [
    {
     "data": {
      "text/plain": [
       "<Axes: >"
      ]
     },
     "execution_count": 28,
     "metadata": {},
     "output_type": "execute_result"
    },
    {
     "data": {
      "image/png": "[encoded data removed]",
      "text/plain": [
       "<Figure size 640x480 with 1 Axes>"
      ]
     },
     "metadata": {},
     "output_type": "display_data"
    }
   ],
   "source": [
    "df_no_duplicated_rows['context'].loc[df_no_duplicated_rows['context'].str.len() > 0].apply(lambda x: len(x)).plot(kind=\"box\")"
   ]
  },
  {
   "cell_type": "code",
   "execution_count": 29,
   "metadata": {},
   "outputs": [
    {
     "data": {
      "text/plain": [
       "count      90.000000\n",
       "mean     2271.966667\n",
       "std      1479.446757\n",
       "min       426.000000\n",
       "25%       796.250000\n",
       "50%      2047.500000\n",
       "75%      3083.250000\n",
       "max      7710.000000\n",
       "Name: context, dtype: float64"
      ]
     },
     "execution_count": 29,
     "metadata": {},
     "output_type": "execute_result"
    }
   ],
   "source": [
    "Q1 = df_no_duplicated_rows['context'].loc[df_no_duplicated_rows['context'].str.len() > 0].str.len().quantile(0.25)\n",
    "Q3 = df_no_duplicated_rows['context'].loc[df_no_duplicated_rows['context'].str.len() > 0].str.len().quantile(0.75)\n",
    "IQR = Q3 - Q1\n",
    "\n",
    "threshold = 1.5\n",
    "context_outlier = df_no_duplicated_rows[(df_no_duplicated_rows['context'].str.len() < Q1 - threshold * IQR) | (df_no_duplicated_rows['context'].str.len() > Q3 + threshold * IQR)].loc[df_no_duplicated_rows['context'].str.len() > 0]\n",
    "context_outlier['context'].str.len().describe()"
   ]
  },
  {
   "cell_type": "markdown",
   "metadata": {},
   "source": [
    "After manual inspection. A lot of the context element are lessons material. But also, a significant bulk of characters are just because of the markup language.\n",
    "\n",
    "It contains relevant (and not so relevant) information  but we should at least remove all markup."
   ]
  },
  {
   "cell_type": "code",
   "execution_count": 29,
   "metadata": {},
   "outputs": [],
   "source": [
    "# context_outlier_no_markup.to_excel(\"context_outlier.xlsx\")"
   ]
  },
  {
   "cell_type": "code",
   "execution_count": 32,
   "metadata": {},
   "outputs": [
    {
     "name": "stdout",
     "output_type": "stream",
     "text": [
      "--------------------------------------------------\n",
      "Timeline\n",
      "'''[http://histropedia.com/showcase/wikidata-viewer.html?q=SELECT%20?personLabel%20?person%20?enwp%20(SAMPLE(?image)%20AS%20?img)%20?birthdate%20?birthdatePrecision%20?deaddate%20?deaddatePrecision%20WHERE%20%7B%0AVALUES%20?person%20%7Bwd:Q234816%20wd:Q62530%20wd:Q234421%20wd:Q231549%20wd:Q246135%20wd:Q101638%20wd:Q15994440%20wd:Q230120%20wd:Q260378%20wd:Q1377789%20wd:Q5322139%20wd:Q254858%20wd:Q6766368%20wd:Q7259%20wd:Q4949015%20wd:Q47152%20wd:Q272077%20wd:Q198984%20wd:Q1284275%20wd:Q651786%20wd:Q460152%20wd:Q230507%20wd:Q3263690%20wd:Q270855%20wd:Q5362637%20wd:Q23620545%20wd:Q27728558%20wd:Q17892%20wd:Q36322%20wd:Q57286%20wd:Q18576000%20wd:Q45410399%20wd:Q7207%7D%20.%0A?enwp%20schema:about%20?person%20;%20schema:isPartOf%20%3Chttps://en.wikipedia.org/%3E%0AOPTIONAL%7B%20?person%20wdt:P18%20?image%20%7D%0AOPTIONAL%7B%20?person%20p:P569/psv:P569%20?birthdateStatementNode%20.%0A?birthdateStatementNode%20wikibase:timeValue%20?birthdate%20.%0A?birthdateStatementNode%20wikibase:timePrecision%20?birthdatePrecision%20.%7D%0AOPTIONAL%7B%20?person%20p:P570/psv:P570%20?deaddateStatementNode%20.%0A?deaddateStatementNode%20wikibase:timeValue%20?deaddate%20.%0A?deaddateStatementNode%20wikibase:timePrecision%20?deaddatePrecision%20.%7D%0ASERVICE%20wikibase:label%20%7B%20bd:serviceParam%20wikibase:language%20%22%5BAUTO_LANGUAGE%5D,en%22%20%7D%0A%7D%20GROUP%20BY%20?personLabel%20?person%20?enwp%20?birthdate%20?birthdatePrecision%20?deaddate%20?deaddatePrecision%0A&d=2&l=enwp&t=personLabel&s=birthdate&sp=birthdatePrecision&e=deaddate&ep=deaddatePrecision&i=img&v=t Interactive timeline via HistropediaJS]'''\n",
      "Use the mouse wheel to zoom in. Links go to English Wikipedia.\n",
      "Query code:\n",
      "\n",
      "--------------------------------------------------\n",
      "{{Q|Q31386861}}\n",
      "{{Q|Q28134515}}\n",
      "''Relations. Claims. {{Q|Q488383}}.''\n",
      "{{C}}\n",
      "* relations are '''directed''' from the subject;<ref group=\"rdfprimer\">https://www.w3.org/TR/2014/NOTE-rdf11-primer-20140624/#section-triple</ref>\n",
      "* RDF model is used ''to represent'' information about ''resources'' (''entities''):\n",
      "** resource describes '''something in the world'''<ref group=\"rdfconcepts\">https://www.w3.org/TR/2014/REC-rdf11-concepts-20140225/#resources-and-statements</ref> and not limited to any networks at all;\n",
      "** [https://query.wikidata.org/#SELECT%20%3Fitem%20WHERE%20%7B%20VALUES%20%3Fitem%20%7B%20%22red%22%20%22yellow%22%20%22yellow%22%20%22yellow%22%20%22green%22%20%7D%20%7D duplicates are allowed], while {{Q|Q32061744}} prohibits this for {{Q|Q840540}} \"All rows are distinct\" [such limitation can be avoided by introduction of additional column with {{Q|Q254972}}]. Such definition leads to multiple ways {{Q|Q339072}} solely to allow data with multiple values in databases again;\n",
      "* {{Q|Q114409}} is a text-based format used to {{Q|Q1127410}} {{Q|Q31386861}}. {{Q|Q32146616}} supports almost identical<ref group=\"RDF11Turtle\">https://www.w3.org/TR/2014/REC-turtle-20140225/#sec-diff-sparql</ref> notation natively. {{Q|Q37033}}' documents are commonly use this notation.\n",
      "** {{Q|Q424583}}s can be abbreviated into ''prefixes'' like <code>wd:</code> and <code>wdt:</code> in storage<ref group=\"rdfprimer\">https://www.w3.org/TR/2014/NOTE-rdf11-primer-20140624/#section-turtle</ref> and in queries;<ref group=\"sparqlspec\">https://www.w3.org/TR/2013/REC-sparql11-query-20130321/#QSynIRI</ref>\n",
      "<div class=\"NavFrame collapsed\" style=\"text-align:left\">\n",
      "<div class=\"NavHead\">More trivial notes</div>\n",
      "<div class=\"NavContent\">\n",
      "* same resource is often represented using multiple triples;\n",
      "* in any RDF storage {{Q|Q31208391}} is expressed with {{Q|Q424583}};<ref group=\"rdfprimer\">https://www.w3.org/TR/2014/NOTE-rdf11-primer-20140624/#h3_section-IRI</ref>\n",
      "* we could draw analogy between {{Q|Q2336004}} and {{Q|Q1050404}} but when \"cells\" are single-valued (for most of Wikidata, but not entirely);\n",
      "* [[Special:EntityData]] can output all claims related to one entity: [https://www.wikidata.org/wiki/Special:EntityData/Q12418.ttl {{label|Q12418}} in {{label|Q114409}}];\n",
      "* in any RDF storage data is ''{{Q|Q2336004}}'' for the most part: {{P|P40}} can be absent for any instance of {{Q|Q5}}; this is impossible in {{Q|Q755662}} where data is fully structured in terms of columns ''[some column can be picked to have semi-structured content e.g. {{Q|Q2063}}, but such column is required for every row in that table]'';\n",
      "* in Wikidata [[Wikidata:Glossary#Entity|entities]] have {{label|Q424583}}, links ({{Q|Q2330408}}) to external datasets are implemented using special [[Special:ListProperties|properties with datatype external id]];\n",
      "* resources could be in local datasets (e.g. {{Q|Q2013}}) or remote;<ref group=\"sparqlfederation\">https://www.w3.org/TR/2013/REC-sparql11-federated-query-20130321/#service</ref>\n",
      "</div>\n",
      "</div>\n",
      "</div>\n",
      "<div class=\"NavFrame collapsed\" style=\"text-align:left\">\n",
      "<div class=\"NavHead\">Notes about <code>FILTER</code></div>\n",
      "<div class=\"NavContent\">\n",
      "<code>FILTER(condition)</code> is a clause you can insert into your SPARQL query to, well, filter the results. Inside the parentheses, you can put any expression of boolean type, and only those results where the expression returns <code>true</code> are used.\n",
      "For example, to get a list of all humans born in 2015, we first get all humans with their date of birth -\n",
      "{{#tag:syntaxhighlight|\n",
      "SELECT ?person ?personLabel ?dob\n",
      "WHERE\n",
      "{\n",
      "?person wdt:P31 wd:Q5;\n",
      "wdt:P569 ?dob.\n",
      "SERVICE wikibase:label { bd:serviceParam wikibase:language \"en\". }\n",
      "}\n",
      "|lang=SPARQL\n",
      "}}\n",
      "- and then filter that to only return the results where the year of the date of birth is 2015. There are two ways to do that: extract the year of the date with the <code>YEAR</code> function, and test that it's 2015 -\n",
      "{{#tag:syntaxhighlight|\n",
      "FILTER(YEAR(?dob) = 2015)\n",
      "|lang=SPARQL\n",
      "}}\n",
      "- or check that the date is between Jan. 1<sup>st</sup> (inclusive), 2015 and Jan. 1<sup>st</sup>, 2016 (exclusive):\n",
      "{{#tag:syntaxhighlight|\n",
      "FILTER(\"2015-01-01\"^^xsd:dateTime <= ?dob && ?dob < \"2016-01-01\"^^xsd:dateTime)\n",
      "|lang=SPARQL\n",
      "}}\n",
      "I'd say that the first one is more straightforward, but it turns out the second one is much faster, so let's use that:\n",
      "\n",
      "--------------------------------------------------\n",
      "{{Q|Q31386861}}\n",
      "{{Mention item|Q31465098}}\n",
      "{{Mention item|Q31381203}}\n",
      "* {{Q|Q39771219}}: <code>\"Hello\"</code> - {{Q|Q31385480}} in {{Q|Q31398258}} is <code>xsd:string</code>\n",
      "* {{Q|Q31384986}}: <code>\"Hello\"@en</code> - {{Mention item|Q31385480}} is <code>rdf:langString</code>\n",
      "* {{Mention item|Q31381203}}: <code>\"002\"^^xsd:integer</code> - {{Mention item|Q31385480}} is <code>xsd:integer</code>\n",
      "SPARQL treats them separately:<ref group=\"sparqlspec\">https://www.w3.org/TR/2013/REC-sparql11-query-20130321/#matchLangTags</ref>\n",
      "is different from\n",
      "\n",
      "--------------------------------------------------\n",
      "{{Mention item|Q31385480}} in {{Mention item|Q32786132}}\n",
      "Following {{Mention item|Q31385480}} of {{Mention item|Q31381203}} could be seen in {{Mention item|Q32786132}}:\n",
      "* <code>rdf:langString</code>\n",
      "* <code>xsd:string</code>\n",
      "* <code>xsd:decimal</code>\n",
      "* <code>xsd:integer</code> [derived from decimal]<ref group=\"XSDDatatypes\">https://www.w3.org/TR/2004/REC-xmlschema-2-20041028/#integer</ref>\n",
      "* <code>xsd:dateTime</code>\n",
      "* <code><nowiki><http://www.opengis.net/ont/geosparql#wktLiteral></nowiki></code>\n",
      "** <code>wdt:</code> prefixed variants of [[Special:ListProperties/globe-coordinate]]\n",
      "<div class=\"NavFrame collapsed\" style=\"text-align:left\">\n",
      "<div class=\"NavHead\">Example: operators to compare values with specific datatype</div>\n",
      "<div class=\"NavContent\">\n",
      "* Decimals and integers: <code>+</code>, <code>-</code>, <code>*</code>, <code>/</code> to calculate; <code>&lt;</code>, <code>&gt;</code>, <code>=</code>, <code>&lt;=</code>, <code>&gt;=</code> to compare\n",
      "* Strings: <code>=</code>, <code>!=</code>\n",
      "* IRIs: <code>=</code>, <code>!=</code>\n",
      "* Booleans: <code>||</code> and <code>&&</code> to calculate; <code>IF(?condition, ValueIfTrue, ValueIfFalse)</code>\n",
      "</div>\n",
      "</div>\n",
      "</div>\n",
      "<div class=\"NavFrame collapsed\" style=\"text-align:left\">\n",
      "<div class=\"NavHead\">Example: language of the value</div>\n",
      "<div class=\"NavContent\">\n",
      "{{Q|Q656}} with multiple values in {{P|P1448}} or any other property [[Special:ListProperties/monolingualtext]].\n",
      "</div>\n",
      "</div>\n",
      "</div>\n",
      "<div class=\"NavFrame collapsed\" style=\"text-align:left\">\n",
      "<div class=\"NavHead\">Example: language of the label</div>\n",
      "<div class=\"NavContent\">\n",
      "We get the label with the <syntaxhighlight lang=\"sparql\" inline>?human rdfs:label ?label</syntaxhighlight> triple, restrict it to English labels, and then check if it starts with \"Mr. \":\n",
      "\n"
     ]
    }
   ],
   "source": [
    "samples_index = [0,1,2,5]\n",
    "for s_index in samples_index:\n",
    "    print('-'*50)\n",
    "    print(context_outlier['context'].iloc[s_index])\n",
    "    print()"
   ]
  },
  {
   "cell_type": "markdown",
   "metadata": {},
   "source": [
    "### Removing markup from context"
   ]
  },
  {
   "cell_type": "code",
   "execution_count": 33,
   "metadata": {},
   "outputs": [
    {
     "data": {
      "text/html": [
       "<div>\n",
       "<style scoped>\n",
       "    .dataframe tbody tr th:only-of-type {\n",
       "        vertical-align: middle;\n",
       "    }\n",
       "\n",
       "    .dataframe tbody tr th {\n",
       "        vertical-align: top;\n",
       "    }\n",
       "\n",
       "    .dataframe thead th {\n",
       "        text-align: right;\n",
       "    }\n",
       "</style>\n",
       "<table border=\"1\" class=\"dataframe\">\n",
       "  <thead>\n",
       "    <tr style=\"text-align: right;\">\n",
       "      <th></th>\n",
       "      <th>query</th>\n",
       "      <th>description</th>\n",
       "      <th>context</th>\n",
       "    </tr>\n",
       "  </thead>\n",
       "  <tbody>\n",
       "    <tr>\n",
       "      <th>0</th>\n",
       "      <td>SELECT ?property ?propertyType ?propertyLabel ...</td>\n",
       "      <td>Wikidata properties in numerical order</td>\n",
       "      <td>Counting stuff on Wikidata\\nAll Wikidata prope...</td>\n",
       "    </tr>\n",
       "    <tr>\n",
       "      <th>1</th>\n",
       "      <td>SELECT ?id ?idLabel ?idDescription ?new{\\n?id ...</td>\n",
       "      <td>Wikidata properties excluding external IDs</td>\n",
       "      <td>Counting stuff on Wikidata\\nVariation of the a...</td>\n",
       "    </tr>\n",
       "    <tr>\n",
       "      <th>2</th>\n",
       "      <td>SELECT (COUNT(?article) AS ?count)\\nWHERE {\\n?...</td>\n",
       "      <td></td>\n",
       "      <td>Counting stuff on Wikidata\\nCount of scientifi...</td>\n",
       "    </tr>\n",
       "    <tr>\n",
       "      <th>3</th>\n",
       "      <td>SELECT (COUNT(DISTINCT ?article) AS ?count)\\nW...</td>\n",
       "      <td>Count of fictional characters</td>\n",
       "      <td>Counting stuff on Wikidata\\nCount of fictional...</td>\n",
       "    </tr>\n",
       "    <tr>\n",
       "      <th>4</th>\n",
       "      <td>SELECT (COUNT(?item) AS ?count)\\nWHERE { ?item...</td>\n",
       "      <td>Count of items with coordinate locations</td>\n",
       "      <td>Counting stuff on Wikidata\\nCount of items wit...</td>\n",
       "    </tr>\n",
       "  </tbody>\n",
       "</table>\n",
       "</div>"
      ],
      "text/plain": [
       "                                               query  \\\n",
       "0  SELECT ?property ?propertyType ?propertyLabel ...   \n",
       "1  SELECT ?id ?idLabel ?idDescription ?new{\\n?id ...   \n",
       "2  SELECT (COUNT(?article) AS ?count)\\nWHERE {\\n?...   \n",
       "3  SELECT (COUNT(DISTINCT ?article) AS ?count)\\nW...   \n",
       "4  SELECT (COUNT(?item) AS ?count)\\nWHERE { ?item...   \n",
       "\n",
       "                                  description  \\\n",
       "0      Wikidata properties in numerical order   \n",
       "1  Wikidata properties excluding external IDs   \n",
       "2                                               \n",
       "3               Count of fictional characters   \n",
       "4    Count of items with coordinate locations   \n",
       "\n",
       "                                             context  \n",
       "0  Counting stuff on Wikidata\\nAll Wikidata prope...  \n",
       "1  Counting stuff on Wikidata\\nVariation of the a...  \n",
       "2  Counting stuff on Wikidata\\nCount of scientifi...  \n",
       "3  Counting stuff on Wikidata\\nCount of fictional...  \n",
       "4  Counting stuff on Wikidata\\nCount of items wit...  "
      ]
     },
     "execution_count": 33,
     "metadata": {},
     "output_type": "execute_result"
    }
   ],
   "source": [
    "compiled = re.compile(\"<\\/?[a-zA-z?;=\\\"' ]*>|<.+[\\W]>\", flags=0)\n",
    "compiled2 = re.compile(\"(?:class|colspan|style|rowspan)=\\\".+\\\"\", flags=0)\n",
    "df_no_duplicate_2_no_markup = df_no_duplicated_rows.copy()\n",
    "df_no_duplicate_2_no_markup[\"context\"] = df_no_duplicate_2_no_markup['context'].apply(lambda x: compiled2.sub(' ', compiled.sub(' ', x)).strip().replace('\\n\\n', '\\n'))\n",
    "df_no_duplicate_2_no_markup.head()"
   ]
  },
  {
   "cell_type": "markdown",
   "metadata": {},
   "source": [
    "Even after removing markup language in the context we still have some outliers and big ones too. Let's just cut them off and replace them with an empty string. All context that are above 1000 characters will be replaced."
   ]
  },
  {
   "cell_type": "code",
   "execution_count": 34,
   "metadata": {},
   "outputs": [
    {
     "data": {
      "text/plain": [
       "<Axes: >"
      ]
     },
     "execution_count": 34,
     "metadata": {},
     "output_type": "execute_result"
    },
    {
     "data": {
      "image/png": "[encoded data removed]",
      "text/plain": [
       "<Figure size 640x480 with 1 Axes>"
      ]
     },
     "metadata": {},
     "output_type": "display_data"
    }
   ],
   "source": [
    "df_no_duplicate_2_no_markup['context'].loc[df_no_duplicate_2_no_markup['context'].str.len() > 0].apply(lambda x: len(x)).plot(kind=\"box\")"
   ]
  },
  {
   "cell_type": "markdown",
   "metadata": {},
   "source": [
    "## Analyzing Description\n",
    "\n",
    "### Box Plot\n",
    "\n",
    "Let's do it again for descriptions.\n",
    "\n",
    "There's not much outlier, so we can manually inspect it and decide what to do with it."
   ]
  },
  {
   "cell_type": "code",
   "execution_count": 35,
   "metadata": {},
   "outputs": [
    {
     "data": {
      "text/html": [
       "<div>\n",
       "<style scoped>\n",
       "    .dataframe tbody tr th:only-of-type {\n",
       "        vertical-align: middle;\n",
       "    }\n",
       "\n",
       "    .dataframe tbody tr th {\n",
       "        vertical-align: top;\n",
       "    }\n",
       "\n",
       "    .dataframe thead th {\n",
       "        text-align: right;\n",
       "    }\n",
       "</style>\n",
       "<table border=\"1\" class=\"dataframe\">\n",
       "  <thead>\n",
       "    <tr style=\"text-align: right;\">\n",
       "      <th></th>\n",
       "      <th>query</th>\n",
       "      <th>description</th>\n",
       "      <th>context</th>\n",
       "    </tr>\n",
       "  </thead>\n",
       "  <tbody>\n",
       "    <tr>\n",
       "      <th>count</th>\n",
       "      <td>2845</td>\n",
       "      <td>2845</td>\n",
       "      <td>2845</td>\n",
       "    </tr>\n",
       "    <tr>\n",
       "      <th>unique</th>\n",
       "      <td>2779</td>\n",
       "      <td>2249</td>\n",
       "      <td>731</td>\n",
       "    </tr>\n",
       "    <tr>\n",
       "      <th>top</th>\n",
       "      <td>SELECT DISTINCT ?author ?authorLabel ?image ?c...</td>\n",
       "      <td></td>\n",
       "      <td></td>\n",
       "    </tr>\n",
       "    <tr>\n",
       "      <th>freq</th>\n",
       "      <td>3</td>\n",
       "      <td>499</td>\n",
       "      <td>2072</td>\n",
       "    </tr>\n",
       "  </tbody>\n",
       "</table>\n",
       "</div>"
      ],
      "text/plain": [
       "                                                    query description context\n",
       "count                                                2845        2845    2845\n",
       "unique                                               2779        2249     731\n",
       "top     SELECT DISTINCT ?author ?authorLabel ?image ?c...                    \n",
       "freq                                                    3         499    2072"
      ]
     },
     "execution_count": 35,
     "metadata": {},
     "output_type": "execute_result"
    }
   ],
   "source": [
    "df_no_duplicate_2_no_markup.describe()"
   ]
  },
  {
   "cell_type": "code",
   "execution_count": 36,
   "metadata": {},
   "outputs": [
    {
     "data": {
      "text/plain": [
       "<Axes: >"
      ]
     },
     "execution_count": 36,
     "metadata": {},
     "output_type": "execute_result"
    },
    {
     "data": {
      "image/png": "[encoded data removed]",
      "text/plain": [
       "<Figure size 640x480 with 1 Axes>"
      ]
     },
     "metadata": {},
     "output_type": "display_data"
    }
   ],
   "source": [
    "df_no_duplicate_2_no_markup['description'].loc[df_no_duplicate_2_no_markup['description'].str.len() > 0].apply(lambda x: len(x)).plot(kind=\"box\")"
   ]
  },
  {
   "cell_type": "code",
   "execution_count": 37,
   "metadata": {},
   "outputs": [
    {
     "data": {
      "text/plain": [
       "count      32.000000\n",
       "mean      654.500000\n",
       "std       831.639073\n",
       "min       209.000000\n",
       "25%       243.250000\n",
       "50%       300.500000\n",
       "75%       432.000000\n",
       "max      3329.000000\n",
       "Name: description, dtype: float64"
      ]
     },
     "execution_count": 37,
     "metadata": {},
     "output_type": "execute_result"
    }
   ],
   "source": [
    "Q1 = df_no_duplicate_2_no_markup['description'].loc[df_no_duplicate_2_no_markup['description'].str.len() > 0].str.len().quantile(0.25)\n",
    "Q3 = df_no_duplicate_2_no_markup['description'].loc[df_no_duplicate_2_no_markup['description'].str.len() > 0].str.len().quantile(0.75)\n",
    "IQR = Q3 - Q1\n",
    "\n",
    "threshold = 1.5\n",
    "description_outlier = df_no_duplicate_2_no_markup[(df_no_duplicate_2_no_markup['description'].str.len() < Q1 - threshold * IQR) | (df_no_duplicate_2_no_markup['description'].str.len() > Q3 + threshold * IQR)].loc[df_no_duplicate_2_no_markup['description'].str.len() > 0]\n",
    "description_outlier['description'].str.len().describe()"
   ]
  },
  {
   "cell_type": "code",
   "execution_count": 41,
   "metadata": {},
   "outputs": [],
   "source": [
    "# description_outlier.to_excel(\"description_outlier.xlsx\")"
   ]
  },
  {
   "cell_type": "markdown",
   "metadata": {},
   "source": [
    "After inspection, the biggest outliers contains long URLs. Let's just deleted them as they not of big relevance to the task."
   ]
  },
  {
   "cell_type": "code",
   "execution_count": 38,
   "metadata": {},
   "outputs": [
    {
     "data": {
      "text/html": [
       "<div>\n",
       "<style scoped>\n",
       "    .dataframe tbody tr th:only-of-type {\n",
       "        vertical-align: middle;\n",
       "    }\n",
       "\n",
       "    .dataframe tbody tr th {\n",
       "        vertical-align: top;\n",
       "    }\n",
       "\n",
       "    .dataframe thead th {\n",
       "        text-align: right;\n",
       "    }\n",
       "</style>\n",
       "<table border=\"1\" class=\"dataframe\">\n",
       "  <thead>\n",
       "    <tr style=\"text-align: right;\">\n",
       "      <th></th>\n",
       "      <th>query</th>\n",
       "      <th>description</th>\n",
       "      <th>context</th>\n",
       "    </tr>\n",
       "  </thead>\n",
       "  <tbody>\n",
       "    <tr>\n",
       "      <th>0</th>\n",
       "      <td>SELECT ?property ?propertyType ?propertyLabel ...</td>\n",
       "      <td>Wikidata properties in numerical order</td>\n",
       "      <td>Counting stuff on Wikidata\\nAll Wikidata prope...</td>\n",
       "    </tr>\n",
       "    <tr>\n",
       "      <th>1</th>\n",
       "      <td>SELECT ?id ?idLabel ?idDescription ?new{\\n?id ...</td>\n",
       "      <td>Wikidata properties excluding external IDs</td>\n",
       "      <td>Counting stuff on Wikidata\\nVariation of the a...</td>\n",
       "    </tr>\n",
       "    <tr>\n",
       "      <th>2</th>\n",
       "      <td>SELECT (COUNT(?article) AS ?count)\\nWHERE {\\n?...</td>\n",
       "      <td></td>\n",
       "      <td>Counting stuff on Wikidata\\nCount of scientifi...</td>\n",
       "    </tr>\n",
       "    <tr>\n",
       "      <th>3</th>\n",
       "      <td>SELECT (COUNT(DISTINCT ?article) AS ?count)\\nW...</td>\n",
       "      <td>Count of fictional characters</td>\n",
       "      <td>Counting stuff on Wikidata\\nCount of fictional...</td>\n",
       "    </tr>\n",
       "    <tr>\n",
       "      <th>4</th>\n",
       "      <td>SELECT (COUNT(?item) AS ?count)\\nWHERE { ?item...</td>\n",
       "      <td>Count of items with coordinate locations</td>\n",
       "      <td>Counting stuff on Wikidata\\nCount of items wit...</td>\n",
       "    </tr>\n",
       "  </tbody>\n",
       "</table>\n",
       "</div>"
      ],
      "text/plain": [
       "                                               query  \\\n",
       "0  SELECT ?property ?propertyType ?propertyLabel ...   \n",
       "1  SELECT ?id ?idLabel ?idDescription ?new{\\n?id ...   \n",
       "2  SELECT (COUNT(?article) AS ?count)\\nWHERE {\\n?...   \n",
       "3  SELECT (COUNT(DISTINCT ?article) AS ?count)\\nW...   \n",
       "4  SELECT (COUNT(?item) AS ?count)\\nWHERE { ?item...   \n",
       "\n",
       "                                  description  \\\n",
       "0      Wikidata properties in numerical order   \n",
       "1  Wikidata properties excluding external IDs   \n",
       "2                                               \n",
       "3               Count of fictional characters   \n",
       "4    Count of items with coordinate locations   \n",
       "\n",
       "                                             context  \n",
       "0  Counting stuff on Wikidata\\nAll Wikidata prope...  \n",
       "1  Counting stuff on Wikidata\\nVariation of the a...  \n",
       "2  Counting stuff on Wikidata\\nCount of scientifi...  \n",
       "3  Counting stuff on Wikidata\\nCount of fictional...  \n",
       "4  Counting stuff on Wikidata\\nCount of items wit...  "
      ]
     },
     "execution_count": 38,
     "metadata": {},
     "output_type": "execute_result"
    }
   ],
   "source": [
    "compiled = re.compile(\"https:[a-zA-Z%:./#_0-9]+\", flags=0)\n",
    "df_description_no_markup = df_no_duplicate_2_no_markup.copy()\n",
    "df_description_no_markup[\"description\"] = df_description_no_markup['description'].apply(lambda x: compiled.sub(' ', x).strip().replace('\\n\\n', '\\n'))\n",
    "df_description_no_markup.head()"
   ]
  },
  {
   "cell_type": "code",
   "execution_count": 39,
   "metadata": {},
   "outputs": [
    {
     "data": {
      "text/plain": [
       "<Axes: >"
      ]
     },
     "execution_count": 39,
     "metadata": {},
     "output_type": "execute_result"
    },
    {
     "data": {
      "image/png": "[encoded data removed]",
      "text/plain": [
       "<Figure size 640x480 with 1 Axes>"
      ]
     },
     "metadata": {},
     "output_type": "display_data"
    }
   ],
   "source": [
    "df_description_no_markup['description'].loc[df_description_no_markup['description'].str.len() > 0].apply(lambda x: len(x)).plot(kind=\"box\")"
   ]
  },
  {
   "cell_type": "markdown",
   "metadata": {},
   "source": [
    "# Pre-generating prompts\n",
    "\n",
    "In this section we will pre-generate all prompts. This will also us to tokenize them and see if they fit in the context size. We use LLAMA2 tokenizer."
   ]
  },
  {
   "cell_type": "code",
   "execution_count": 51,
   "metadata": {},
   "outputs": [],
   "source": [
    "import http.client\n",
    "\n",
    "SERVER_ADDR = \"127.0.0.1\"\n",
    "SERVER_PORT = \"8080\"\n",
    "SERVER_COMPLETION_ENDPOINT = \"/tokenize\"\n",
    "POST_COMPLETION_HEADERS = {\"Content-Type\":\"application/json\"}\n",
    "SYSTEM_PROMPT = \"<<SYS>>This is a conversation between User and Llama, a friendly chatbot. Llama is helpful, kind, honest, good at writing, and never fails to answer any requests immediately and with precision.<</SYS>>\\n\"\n",
    "\n",
    "def query(parameters):\n",
    "    body_json = json.dumps(parameters)\n",
    "    connection = http.client.HTTPConnection(f\"{SERVER_ADDR}:{SERVER_PORT}\")\n",
    "    connection.request(method=\"POST\",\n",
    "            url=SERVER_COMPLETION_ENDPOINT,\n",
    "            headers=POST_COMPLETION_HEADERS, \n",
    "            body=body_json)\n",
    "\n",
    "    response = connection.getresponse()\n",
    "\n",
    "    if response.status != 200:\n",
    "        return False\n",
    "    \n",
    "    answer = response.read()\n",
    "    answer_dict = json.loads(answer)\n",
    "    return answer_dict['tokens']\n",
    "\n",
    "def row_data_into_text(row):\n",
    "  return f\"QUERY=\\\"{row['query']}\\\" DESCRIPTION=\\\"{row['description']}\\\" CONTEXT=\\\"{row['context']}\\\"\"\n",
    "\n",
    "def basic_prompt(sys_prompt, query):\n",
    "  return f\"\"\"<s>[INST] {sys_prompt}\n",
    "{row_data_into_text(query)}\n",
    "\n",
    "User: Read QUERY, DESCRIPTION and CONTEXT. There is a machine capable of writing the given QUERY if we ask it the right prompt. Please do not include parts of QUERY in your answers. Give a list of 3 prompts that would give QUERY. [\\INST]\n",
    "Llama:\"\"\""
   ]
  },
  {
   "cell_type": "code",
   "execution_count": 50,
   "metadata": {},
   "outputs": [
    {
     "data": {
      "text/html": [
       "<div>\n",
       "<style scoped>\n",
       "    .dataframe tbody tr th:only-of-type {\n",
       "        vertical-align: middle;\n",
       "    }\n",
       "\n",
       "    .dataframe tbody tr th {\n",
       "        vertical-align: top;\n",
       "    }\n",
       "\n",
       "    .dataframe thead th {\n",
       "        text-align: right;\n",
       "    }\n",
       "</style>\n",
       "<table border=\"1\" class=\"dataframe\">\n",
       "  <thead>\n",
       "    <tr style=\"text-align: right;\">\n",
       "      <th></th>\n",
       "      <th>query</th>\n",
       "      <th>description</th>\n",
       "      <th>context</th>\n",
       "    </tr>\n",
       "  </thead>\n",
       "  <tbody>\n",
       "    <tr>\n",
       "      <th>count</th>\n",
       "      <td>2845</td>\n",
       "      <td>2845</td>\n",
       "      <td>2845</td>\n",
       "    </tr>\n",
       "    <tr>\n",
       "      <th>unique</th>\n",
       "      <td>2779</td>\n",
       "      <td>2248</td>\n",
       "      <td>731</td>\n",
       "    </tr>\n",
       "    <tr>\n",
       "      <th>top</th>\n",
       "      <td>SELECT DISTINCT ?author ?authorLabel ?image ?c...</td>\n",
       "      <td></td>\n",
       "      <td></td>\n",
       "    </tr>\n",
       "    <tr>\n",
       "      <th>freq</th>\n",
       "      <td>3</td>\n",
       "      <td>499</td>\n",
       "      <td>2072</td>\n",
       "    </tr>\n",
       "  </tbody>\n",
       "</table>\n",
       "</div>"
      ],
      "text/plain": [
       "                                                    query description context\n",
       "count                                                2845        2845    2845\n",
       "unique                                               2779        2248     731\n",
       "top     SELECT DISTINCT ?author ?authorLabel ?image ?c...                    \n",
       "freq                                                    3         499    2072"
      ]
     },
     "execution_count": 50,
     "metadata": {},
     "output_type": "execute_result"
    }
   ],
   "source": [
    "df_description_no_markup.describe()"
   ]
  },
  {
   "cell_type": "code",
   "execution_count": 53,
   "metadata": {},
   "outputs": [
    {
     "data": {
      "text/html": [
       "<div>\n",
       "<style scoped>\n",
       "    .dataframe tbody tr th:only-of-type {\n",
       "        vertical-align: middle;\n",
       "    }\n",
       "\n",
       "    .dataframe tbody tr th {\n",
       "        vertical-align: top;\n",
       "    }\n",
       "\n",
       "    .dataframe thead th {\n",
       "        text-align: right;\n",
       "    }\n",
       "</style>\n",
       "<table border=\"1\" class=\"dataframe\">\n",
       "  <thead>\n",
       "    <tr style=\"text-align: right;\">\n",
       "      <th></th>\n",
       "      <th>query</th>\n",
       "      <th>description</th>\n",
       "      <th>context</th>\n",
       "      <th>prompt</th>\n",
       "    </tr>\n",
       "  </thead>\n",
       "  <tbody>\n",
       "    <tr>\n",
       "      <th>count</th>\n",
       "      <td>2845</td>\n",
       "      <td>2845</td>\n",
       "      <td>2845</td>\n",
       "      <td>2845</td>\n",
       "    </tr>\n",
       "    <tr>\n",
       "      <th>unique</th>\n",
       "      <td>2779</td>\n",
       "      <td>2248</td>\n",
       "      <td>731</td>\n",
       "      <td>2845</td>\n",
       "    </tr>\n",
       "    <tr>\n",
       "      <th>top</th>\n",
       "      <td>SELECT DISTINCT ?author ?authorLabel ?image ?c...</td>\n",
       "      <td></td>\n",
       "      <td></td>\n",
       "      <td>&lt;s&gt;[INST] &lt;&lt;SYS&gt;&gt;This is a conversation betwee...</td>\n",
       "    </tr>\n",
       "    <tr>\n",
       "      <th>freq</th>\n",
       "      <td>3</td>\n",
       "      <td>499</td>\n",
       "      <td>2072</td>\n",
       "      <td>1</td>\n",
       "    </tr>\n",
       "  </tbody>\n",
       "</table>\n",
       "</div>"
      ],
      "text/plain": [
       "                                                    query description context  \\\n",
       "count                                                2845        2845    2845   \n",
       "unique                                               2779        2248     731   \n",
       "top     SELECT DISTINCT ?author ?authorLabel ?image ?c...                       \n",
       "freq                                                    3         499    2072   \n",
       "\n",
       "                                                   prompt  \n",
       "count                                                2845  \n",
       "unique                                               2845  \n",
       "top     <s>[INST] <<SYS>>This is a conversation betwee...  \n",
       "freq                                                    1  "
      ]
     },
     "execution_count": 53,
     "metadata": {},
     "output_type": "execute_result"
    }
   ],
   "source": [
    "df_with_prompts = df_description_no_markup.copy()\n",
    "df_with_prompts['prompt'] = df_with_prompts.apply(lambda x: basic_prompt(SYSTEM_PROMPT, x), axis=1)\n",
    "df_with_prompts.describe()"
   ]
  },
  {
   "cell_type": "code",
   "execution_count": 55,
   "metadata": {},
   "outputs": [
    {
     "name": "stdout",
     "output_type": "stream",
     "text": [
      "--------------------------------------------------\n",
      "<s>[INST] <<SYS>>This is a conversation between User and Llama, a friendly chatbot. Llama is helpful, kind, honest, good at writing, and never fails to answer any requests immediately and with precision.<</SYS>>\n",
      "\n",
      "QUERY=\"SELECT ?property ?propertyType ?propertyLabel ?propertyDescription WHERE {\n",
      "?property wikibase:propertyType ?propertyType .\n",
      "SERVICE wikibase:label { bd:serviceParam wikibase:language \"[AUTO_LANGUAGE],en\". }\n",
      "} ORDER BY ASC(xsd:integer(STRAFTER(STR(?property), 'P')))\" DESCRIPTION=\"Wikidata properties in numerical order\" CONTEXT=\"Counting stuff on Wikidata\n",
      "All Wikidata properties with label and description, ordered numerically\n",
      "Adapted from one of the Query Service Examples\"\n",
      "\n",
      "User: Read QUERY, DESCRIPTION and CONTEXT. There is a machine capable of writing the given QUERY if we ask it the right prompt. Please do not include parts of QUERY in your answers. Give a list of 3 prompts that would give QUERY. [\\INST]\n",
      "Llama:\n",
      "--------------------------------------------------\n",
      "<s>[INST] <<SYS>>This is a conversation between User and Llama, a friendly chatbot. Llama is helpful, kind, honest, good at writing, and never fails to answer any requests immediately and with precision.<</SYS>>\n",
      "\n",
      "QUERY=\"SELECT ?id ?idLabel ?idDescription ?new{\n",
      "?id wikibase:directClaim ?pid .\n",
      "minus{?id wikibase:propertyType wikibase:ExternalId}\n",
      "BIND(Replace(STR(?id),\"http://www.wikidata.org/entity/P\",\" \") as ?new)\n",
      "SERVICE wikibase:label { bd:serviceParam wikibase:language \"[AUTO_LANGUAGE],en\" }\n",
      "}\n",
      "ORDER BY DESC(xsd:integer(?new))\" DESCRIPTION=\"Wikidata properties excluding external IDs\" CONTEXT=\"Counting stuff on Wikidata\n",
      "Variation of the above excluding external IDs (thanks Magnus Salgo)\"\n",
      "\n",
      "User: Read QUERY, DESCRIPTION and CONTEXT. There is a machine capable of writing the given QUERY if we ask it the right prompt. Please do not include parts of QUERY in your answers. Give a list of 3 prompts that would give QUERY. [\\INST]\n",
      "Llama:\n"
     ]
    }
   ],
   "source": [
    "for p in df_with_prompts['prompt'][:2]:\n",
    "    print('-'*50)\n",
    "    print(p)"
   ]
  },
  {
   "cell_type": "code",
   "execution_count": 56,
   "metadata": {},
   "outputs": [
    {
     "data": {
      "text/html": [
       "<div>\n",
       "<style scoped>\n",
       "    .dataframe tbody tr th:only-of-type {\n",
       "        vertical-align: middle;\n",
       "    }\n",
       "\n",
       "    .dataframe tbody tr th {\n",
       "        vertical-align: top;\n",
       "    }\n",
       "\n",
       "    .dataframe thead th {\n",
       "        text-align: right;\n",
       "    }\n",
       "</style>\n",
       "<table border=\"1\" class=\"dataframe\">\n",
       "  <thead>\n",
       "    <tr style=\"text-align: right;\">\n",
       "      <th></th>\n",
       "      <th>num_tokens</th>\n",
       "    </tr>\n",
       "  </thead>\n",
       "  <tbody>\n",
       "    <tr>\n",
       "      <th>count</th>\n",
       "      <td>2845.000000</td>\n",
       "    </tr>\n",
       "    <tr>\n",
       "      <th>mean</th>\n",
       "      <td>377.100879</td>\n",
       "    </tr>\n",
       "    <tr>\n",
       "      <th>std</th>\n",
       "      <td>190.416213</td>\n",
       "    </tr>\n",
       "    <tr>\n",
       "      <th>min</th>\n",
       "      <td>168.000000</td>\n",
       "    </tr>\n",
       "    <tr>\n",
       "      <th>25%</th>\n",
       "      <td>271.000000</td>\n",
       "    </tr>\n",
       "    <tr>\n",
       "      <th>50%</th>\n",
       "      <td>323.000000</td>\n",
       "    </tr>\n",
       "    <tr>\n",
       "      <th>75%</th>\n",
       "      <td>415.000000</td>\n",
       "    </tr>\n",
       "    <tr>\n",
       "      <th>max</th>\n",
       "      <td>2805.000000</td>\n",
       "    </tr>\n",
       "  </tbody>\n",
       "</table>\n",
       "</div>"
      ],
      "text/plain": [
       "        num_tokens\n",
       "count  2845.000000\n",
       "mean    377.100879\n",
       "std     190.416213\n",
       "min     168.000000\n",
       "25%     271.000000\n",
       "50%     323.000000\n",
       "75%     415.000000\n",
       "max    2805.000000"
      ]
     },
     "execution_count": 56,
     "metadata": {},
     "output_type": "execute_result"
    }
   ],
   "source": [
    "df_with_prompts['num_tokens'] = df_with_prompts.apply(lambda x: len(query({\"content\": x['prompt']})), axis=1)\n",
    "df_with_prompts.describe()"
   ]
  },
  {
   "cell_type": "code",
   "execution_count": 67,
   "metadata": {},
   "outputs": [
    {
     "data": {
      "text/html": [
       "<div>\n",
       "<style scoped>\n",
       "    .dataframe tbody tr th:only-of-type {\n",
       "        vertical-align: middle;\n",
       "    }\n",
       "\n",
       "    .dataframe tbody tr th {\n",
       "        vertical-align: top;\n",
       "    }\n",
       "\n",
       "    .dataframe thead th {\n",
       "        text-align: right;\n",
       "    }\n",
       "</style>\n",
       "<table border=\"1\" class=\"dataframe\">\n",
       "  <thead>\n",
       "    <tr style=\"text-align: right;\">\n",
       "      <th></th>\n",
       "      <th>prompt</th>\n",
       "      <th>num_tokens</th>\n",
       "    </tr>\n",
       "  </thead>\n",
       "  <tbody>\n",
       "    <tr>\n",
       "      <th>0</th>\n",
       "      <td>&lt;s&gt;[INST] &lt;&lt;SYS&gt;&gt;This is a conversation betwee...</td>\n",
       "      <td>267</td>\n",
       "    </tr>\n",
       "    <tr>\n",
       "      <th>1</th>\n",
       "      <td>&lt;s&gt;[INST] &lt;&lt;SYS&gt;&gt;This is a conversation betwee...</td>\n",
       "      <td>296</td>\n",
       "    </tr>\n",
       "    <tr>\n",
       "      <th>2</th>\n",
       "      <td>&lt;s&gt;[INST] &lt;&lt;SYS&gt;&gt;This is a conversation betwee...</td>\n",
       "      <td>197</td>\n",
       "    </tr>\n",
       "    <tr>\n",
       "      <th>3</th>\n",
       "      <td>&lt;s&gt;[INST] &lt;&lt;SYS&gt;&gt;This is a conversation betwee...</td>\n",
       "      <td>203</td>\n",
       "    </tr>\n",
       "    <tr>\n",
       "      <th>4</th>\n",
       "      <td>&lt;s&gt;[INST] &lt;&lt;SYS&gt;&gt;This is a conversation betwee...</td>\n",
       "      <td>186</td>\n",
       "    </tr>\n",
       "  </tbody>\n",
       "</table>\n",
       "</div>"
      ],
      "text/plain": [
       "                                              prompt  num_tokens\n",
       "0  <s>[INST] <<SYS>>This is a conversation betwee...         267\n",
       "1  <s>[INST] <<SYS>>This is a conversation betwee...         296\n",
       "2  <s>[INST] <<SYS>>This is a conversation betwee...         197\n",
       "3  <s>[INST] <<SYS>>This is a conversation betwee...         203\n",
       "4  <s>[INST] <<SYS>>This is a conversation betwee...         186"
      ]
     },
     "execution_count": 67,
     "metadata": {},
     "output_type": "execute_result"
    }
   ],
   "source": [
    "df_with_prompts[['prompt', 'num_tokens']][:5]"
   ]
  },
  {
   "cell_type": "markdown",
   "metadata": {},
   "source": [
    "The tokenized prompts are between [168 and 2805] (excluding BOS token, so consider adding +1), which is small enough for LLAMA2's context size of 4096. There is no need to limit the size of any prompt.\n",
    "\n",
    "## What have we done.\n",
    "\n",
    "### Whole dataset\n",
    "\n",
    "We removed all identical rows. And just kept one row of such identical rows.\\\n",
    "6739 -> 2845 rows\n",
    "\n",
    "### Queries\n",
    "\n",
    "Nothing.\n",
    "\n",
    "### Context\n",
    "\n",
    "We removed irrelevant markup.\\\n",
    "2844 -> 2844 rows.\n",
    "\n",
    "### Description\n",
    "\n",
    "We removed irrelevant URLs.\\\n",
    "2844 -> 2844 rows.\n",
    "\n",
    "## Tokenization\n",
    "\n",
    "Computed the tokenize prompt to see the size of the prompt. It will prove useful if there is limitation in the context size of the model.\n",
    "\n",
    "## Export of the data"
   ]
  },
  {
   "cell_type": "code",
   "execution_count": 72,
   "metadata": {},
   "outputs": [],
   "source": [
    "final_queries_json = df_with_prompts.to_json()\n",
    "\n",
    "with open(\"./outputs/final_queries_v1.1.json\", \"w\") as f:\n",
    "    f.write(final_queries_json)"
   ]
  }
 ],
 "metadata": {
  "kernelspec": {
   "display_name": ".venv",
   "language": "python",
   "name": "python3"
  },
  "language_info": {
   "codemirror_mode": {
    "name": "ipython",
    "version": 3
   },
   "file_extension": ".py",
   "mimetype": "text/x-python",
   "name": "python",
   "nbconvert_exporter": "python",
   "pygments_lexer": "ipython3",
   "version": "3.10.8"
  },
  "orig_nbformat": 4
 },
 "nbformat": 4,
 "nbformat_minor": 2
}
