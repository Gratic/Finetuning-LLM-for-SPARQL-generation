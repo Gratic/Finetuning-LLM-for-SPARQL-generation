{
 "cells": [
  {
   "cell_type": "code",
   "execution_count": 1,
   "metadata": {},
   "outputs": [],
   "source": [
    "import pandas as pd"
   ]
  },
  {
   "cell_type": "code",
   "execution_count": 3,
   "metadata": {},
   "outputs": [
    {
     "data": {
      "text/html": [
       "<div>\n",
       "<style scoped>\n",
       "    .dataframe tbody tr th:only-of-type {\n",
       "        vertical-align: middle;\n",
       "    }\n",
       "\n",
       "    .dataframe tbody tr th {\n",
       "        vertical-align: top;\n",
       "    }\n",
       "\n",
       "    .dataframe thead th {\n",
       "        text-align: right;\n",
       "    }\n",
       "</style>\n",
       "<table border=\"1\" class=\"dataframe\">\n",
       "  <thead>\n",
       "    <tr style=\"text-align: right;\">\n",
       "      <th></th>\n",
       "      <th>row</th>\n",
       "      <th>last_executed_step</th>\n",
       "      <th>to_be_executed_step</th>\n",
       "      <th>translated_prompt</th>\n",
       "      <th>status</th>\n",
       "      <th>has_error</th>\n",
       "    </tr>\n",
       "  </thead>\n",
       "  <tbody>\n",
       "    <tr>\n",
       "      <th>0</th>\n",
       "      <td>How many countries in the EU?</td>\n",
       "      <td>LLMTranslator</td>\n",
       "      <td></td>\n",
       "      <td>SELECT COUNT(DISTINCT ?country) WHERE {\\n?coun...</td>\n",
       "      <td></td>\n",
       "      <td>False</td>\n",
       "    </tr>\n",
       "    <tr>\n",
       "      <th>1</th>\n",
       "      <td>Who plays Harry Potter in the Harry Potter movie?</td>\n",
       "      <td>LLMTranslator</td>\n",
       "      <td></td>\n",
       "      <td>SELECT ?actor ?actorLabel WHERE {\\n?actor wdt:...</td>\n",
       "      <td></td>\n",
       "      <td>False</td>\n",
       "    </tr>\n",
       "  </tbody>\n",
       "</table>\n",
       "</div>"
      ],
      "text/plain": [
       "                                                 row last_executed_step  \\\n",
       "0                      How many countries in the EU?      LLMTranslator   \n",
       "1  Who plays Harry Potter in the Harry Potter movie?      LLMTranslator   \n",
       "\n",
       "  to_be_executed_step                                  translated_prompt  \\\n",
       "0                      SELECT COUNT(DISTINCT ?country) WHERE {\\n?coun...   \n",
       "1                      SELECT ?actor ?actorLabel WHERE {\\n?actor wdt:...   \n",
       "\n",
       "  status  has_error  \n",
       "0             False  \n",
       "1             False  "
      ]
     },
     "execution_count": 3,
     "metadata": {},
     "output_type": "execute_result"
    }
   ],
   "source": [
    "df = pd.read_parquet(\"../outputs/wikidatallm/results.parquet.gzip\")\n",
    "df"
   ]
  },
  {
   "cell_type": "code",
   "execution_count": 4,
   "metadata": {},
   "outputs": [
    {
     "name": "stdout",
     "output_type": "stream",
     "text": [
      "SELECT COUNT(DISTINCT ?country) WHERE {\n",
      "?country wdt:P31 wd:Q236. # P31 is \"instance of\", Q236 is \"country\"\n",
      "?country wdt:P279 wd:Q1041. # P279 is \"member of\", Q1041 is \"European Union\"\n",
      "}\n",
      "\n"
     ]
    }
   ],
   "source": [
    "print(df['translated_prompt'][0])"
   ]
  }
 ],
 "metadata": {
  "kernelspec": {
   "display_name": "Python 3",
   "language": "python",
   "name": "python3"
  },
  "language_info": {
   "codemirror_mode": {
    "name": "ipython",
    "version": 3
   },
   "file_extension": ".py",
   "mimetype": "text/x-python",
   "name": "python",
   "nbconvert_exporter": "python",
   "pygments_lexer": "ipython3",
   "version": "3.8.10"
  }
 },
 "nbformat": 4,
 "nbformat_minor": 2
}
